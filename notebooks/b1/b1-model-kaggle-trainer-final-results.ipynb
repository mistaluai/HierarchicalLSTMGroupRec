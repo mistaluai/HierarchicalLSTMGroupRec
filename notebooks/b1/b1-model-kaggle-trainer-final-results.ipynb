{
 "cells": [
  {
   "cell_type": "code",
   "execution_count": 1,
   "id": "2499d888",
   "metadata": {
    "execution": {
     "iopub.execute_input": "2025-03-20T22:30:02.110662Z",
     "iopub.status.busy": "2025-03-20T22:30:02.110354Z",
     "iopub.status.idle": "2025-03-20T22:30:11.576738Z",
     "shell.execute_reply": "2025-03-20T22:30:11.576031Z"
    },
    "papermill": {
     "duration": 9.475879,
     "end_time": "2025-03-20T22:30:11.578377",
     "exception": false,
     "start_time": "2025-03-20T22:30:02.102498",
     "status": "completed"
    },
    "tags": []
   },
   "outputs": [],
   "source": [
    "import torch\n",
    "import torch.nn as nn\n",
    "import torch.optim as optim\n",
    "from torch.utils.data import DataLoader, default_collate, Dataset\n",
    "from torchvision import transforms\n",
    "from tqdm import tqdm\n",
    "import pandas as pd\n",
    "from PIL import Image\n",
    "import torchvision\n",
    "import os\n",
    "from torchvision.transforms import v2\n",
    "import glob\n",
    "import torch.nn.functional as F\n",
    "from torchvision.models import ResNet50_Weights\n",
    "from collections import Counter\n",
    "import matplotlib.pyplot as plt\n",
    "import numpy as np\n",
    "import glob\n",
    "import torch\n",
    "import torch.nn.functional as F\n",
    "import numpy as np\n",
    "from tqdm import tqdm\n",
    "import seaborn as sns\n",
    "from sklearn.metrics import (\n",
    "    accuracy_score,\n",
    "    precision_score,\n",
    "    recall_score,\n",
    "    f1_score,\n",
    "    confusion_matrix\n",
    ")\n",
    "import torchvision.models as models\n",
    "from copy import deepcopy"
   ]
  },
  {
   "cell_type": "markdown",
   "id": "1d8fca59",
   "metadata": {
    "papermill": {
     "duration": 0.005792,
     "end_time": "2025-03-20T22:30:11.590679",
     "exception": false,
     "start_time": "2025-03-20T22:30:11.584887",
     "status": "completed"
    },
    "tags": []
   },
   "source": [
    "## Plotter"
   ]
  },
  {
   "cell_type": "code",
   "execution_count": 2,
   "id": "c14cc877",
   "metadata": {
    "execution": {
     "iopub.execute_input": "2025-03-20T22:30:11.603157Z",
     "iopub.status.busy": "2025-03-20T22:30:11.602821Z",
     "iopub.status.idle": "2025-03-20T22:30:11.608842Z",
     "shell.execute_reply": "2025-03-20T22:30:11.608272Z"
    },
    "papermill": {
     "duration": 0.013506,
     "end_time": "2025-03-20T22:30:11.610031",
     "exception": false,
     "start_time": "2025-03-20T22:30:11.596525",
     "status": "completed"
    },
    "tags": []
   },
   "outputs": [],
   "source": [
    "class Plotter:\n",
    "\n",
    "    def plot_training_val_b1(self, training_loss, val_loss, val_accuracy):\n",
    "        epochs = range(1, len(training_loss) + 1)\n",
    "\n",
    "        fig, ax1 = plt.subplots()\n",
    "        ax1.plot(epochs, training_loss, 'b-', label='Training Loss')\n",
    "        ax1.plot(epochs, val_loss, 'r-', label='Validation Loss')\n",
    "        ax1.set_xlabel('Epochs')\n",
    "        ax1.set_ylabel('Loss')\n",
    "        ax1.legend()\n",
    "        ax1.set_title('Training and Validation Loss')\n",
    "\n",
    "        plt.figure()\n",
    "        plt.plot(epochs, val_accuracy, 'g-', label='Validation Accuracy')\n",
    "        plt.xlabel('Epochs')\n",
    "        plt.ylabel('Accuracy')\n",
    "        plt.legend()\n",
    "        plt.title('Validation Accuracy')\n",
    "\n",
    "        plt.show()\n",
    "\n",
    "    def plot_test_b1(self, loss, metrics, confusion_data):\n",
    "        # Print metrics\n",
    "        print(f\"Loss: {loss:.4f}\")\n",
    "        print(f\"Accuracy: {metrics['accuracy']:.4f}\")\n",
    "        print(f\"Precision: {metrics['precision']:.4f}\")\n",
    "        print(f\"Recall: {metrics['recall']:.4f}\")\n",
    "        print(f\"F1 Score: {metrics['f1']:.4f}\")\n",
    "\n",
    "        # Plot confusion matrix\n",
    "        cm = confusion_matrix(confusion_data['true_labels'], confusion_data['predictions'])\n",
    "        plt.figure(figsize=(10, 8))\n",
    "        sns.heatmap(cm, annot=True, fmt='d', cmap='Blues')\n",
    "        plt.xlabel('Predicted')\n",
    "        plt.ylabel('True')\n",
    "        plt.title('Confusion Matrix')\n",
    "        plt.show()\n",
    "\n",
    "plotter = Plotter()"
   ]
  },
  {
   "cell_type": "markdown",
   "id": "dcc3ddd3",
   "metadata": {
    "papermill": {
     "duration": 0.00575,
     "end_time": "2025-03-20T22:30:11.621650",
     "exception": false,
     "start_time": "2025-03-20T22:30:11.615900",
     "status": "completed"
    },
    "tags": []
   },
   "source": [
    "## Data Processing"
   ]
  },
  {
   "cell_type": "code",
   "execution_count": 3,
   "id": "12129478",
   "metadata": {
    "execution": {
     "iopub.execute_input": "2025-03-20T22:30:11.634064Z",
     "iopub.status.busy": "2025-03-20T22:30:11.633835Z",
     "iopub.status.idle": "2025-03-20T22:30:11.637222Z",
     "shell.execute_reply": "2025-03-20T22:30:11.636672Z"
    },
    "jupyter": {
     "source_hidden": true
    },
    "papermill": {
     "duration": 0.011005,
     "end_time": "2025-03-20T22:30:11.638429",
     "exception": false,
     "start_time": "2025-03-20T22:30:11.627424",
     "status": "completed"
    },
    "tags": []
   },
   "outputs": [],
   "source": [
    "# class DataProcessorBaselineOne():\n",
    "#     def __init__(self, videos_root, map_classes=True):\n",
    "#         self.root = videos_root\n",
    "#         self.data_classes = self.concat_annotations()\n",
    "#         self.dataset = self.collect_video_data()\n",
    "\n",
    "#         self.map_classes = map_classes\n",
    "#         self.label_mapping = {'l-spike': 0, 'l_set': 1, 'r_set': 2, 'r-pass': 3, 'r_spike': 4, 'l-pass': 5, 'r_winpoint': 6, 'l_winpoint': 7}\n",
    "\n",
    "#         self.dataset_df = self.__prepare_df()\n",
    "\n",
    "\n",
    "#     def __prepare_df(self):\n",
    "#         df = pd.DataFrame(self.dataset)\n",
    "#         if self.map_classes:\n",
    "#             df['mapped_class'] = df['class'].map(self.label_mapping)\n",
    "#         return df\n",
    "\n",
    "#     def get_dataset(self):\n",
    "#         return self.dataset\n",
    "\n",
    "#     def get_dataset_df(self):\n",
    "#         return self.dataset_df\n",
    "\n",
    "#     def __process_annotations(self, annotations_file):\n",
    "#         data_dict = {}\n",
    "\n",
    "#         with open(annotations_file, 'r') as file:\n",
    "#             for line in file:\n",
    "#                 parts = line.strip().split()\n",
    "\n",
    "#                 if len(parts) > 1:  # Ensure there are at least 2 words\n",
    "#                     filename = parts[0]  # First word is the filename\n",
    "#                     action = parts[1]  # Second word is the action\n",
    "#                     data_dict[filename] = action\n",
    "\n",
    "#         return data_dict\n",
    "\n",
    "#     def concat_annotations(self):\n",
    "#         data_classes = {}\n",
    "#         for video_folder in sorted(os.listdir(self.root)):  # Iterate over videos\n",
    "#             video_path = os.path.join(self.root, video_folder)\n",
    "\n",
    "#             if not os.path.isdir(video_path):\n",
    "#                 continue  # Skip files, process only directories\n",
    "\n",
    "#             for annotation_folder in sorted(os.listdir(video_path)):  # Iterate over clips\n",
    "#                 annotation_path = os.path.join(video_path, annotation_folder)\n",
    "#                 if not os.path.isdir(annotation_path):\n",
    "#                     if annotation_folder == 'annotations.txt':\n",
    "#                         data_classes = {**self.__process_annotations(annotation_path), **data_classes}\n",
    "\n",
    "#         return data_classes\n",
    "\n",
    "#     def collect_video_data(self):\n",
    "#         dataset = []  # List to store video data\n",
    "#         missing = 0\n",
    "#         for video_folder in sorted(os.listdir(self.root)):  # Iterate over videos\n",
    "#             video_path = os.path.join(self.root, video_folder)\n",
    "#             if not os.path.isdir(video_path):\n",
    "#                 continue  # Skip files, process only directories\n",
    "\n",
    "#             for clip_folder in sorted(os.listdir(video_path)):  # Iterate over clips\n",
    "#                 clip_path = os.path.join(video_path, clip_folder)\n",
    "#                 if not os.path.isdir(clip_path):\n",
    "#                     continue\n",
    "\n",
    "#                 frames = sorted(\n",
    "#                     [os.path.join(clip_path, f) for f in os.listdir(clip_path) if f.endswith(\".jpg\")]\n",
    "#                 )\n",
    "#                 if len(frames) == 41:  # Ensure expected number of frames\n",
    "#                     target_frame = frames[20]\n",
    "#                     frame_name = target_frame.split('/')[-1]\n",
    "#                     if frame_name in self.data_classes:\n",
    "#                         class_name = self.data_classes[frame_name]\n",
    "#                         dataset.append({\n",
    "#                             \"video\": video_folder,\n",
    "#                             \"clip\": clip_folder,\n",
    "#                             \"frame\": target_frame,\n",
    "#                             \"class\": class_name\n",
    "#                         })\n",
    "#                     else:\n",
    "#                         missing += 1\n",
    "\n",
    "#         print(f'missing {missing} frames')\n",
    "#         return dataset"
   ]
  },
  {
   "cell_type": "markdown",
   "id": "a985e1a1",
   "metadata": {
    "papermill": {
     "duration": 0.00559,
     "end_time": "2025-03-20T22:30:11.649834",
     "exception": false,
     "start_time": "2025-03-20T22:30:11.644244",
     "status": "completed"
    },
    "tags": []
   },
   "source": [
    "Make sure you want to run this before running it"
   ]
  },
  {
   "cell_type": "code",
   "execution_count": 4,
   "id": "3d7bfa92",
   "metadata": {
    "execution": {
     "iopub.execute_input": "2025-03-20T22:30:11.662010Z",
     "iopub.status.busy": "2025-03-20T22:30:11.661812Z",
     "iopub.status.idle": "2025-03-20T22:30:11.795580Z",
     "shell.execute_reply": "2025-03-20T22:30:11.794607Z"
    },
    "papermill": {
     "duration": 0.141752,
     "end_time": "2025-03-20T22:30:11.797325",
     "exception": false,
     "start_time": "2025-03-20T22:30:11.655573",
     "status": "completed"
    },
    "tags": []
   },
   "outputs": [
    {
     "name": "stdout",
     "output_type": "stream",
     "text": [
      "rm: cannot remove '/kaggle/working/': Device or resource busy\r\n"
     ]
    }
   ],
   "source": [
    "!rm -rf '/kaggle/working/'"
   ]
  },
  {
   "cell_type": "code",
   "execution_count": 5,
   "id": "f6968591",
   "metadata": {
    "execution": {
     "iopub.execute_input": "2025-03-20T22:30:11.810855Z",
     "iopub.status.busy": "2025-03-20T22:30:11.810537Z",
     "iopub.status.idle": "2025-03-20T22:30:11.813994Z",
     "shell.execute_reply": "2025-03-20T22:30:11.813153Z"
    },
    "jupyter": {
     "source_hidden": true
    },
    "papermill": {
     "duration": 0.011574,
     "end_time": "2025-03-20T22:30:11.815216",
     "exception": false,
     "start_time": "2025-03-20T22:30:11.803642",
     "status": "completed"
    },
    "tags": []
   },
   "outputs": [],
   "source": [
    "# base_path = '/kaggle/input/volleyball/volleyball_/videos/'\n",
    "# df = DataProcessorBaselineOne(base_path).get_dataset_df()"
   ]
  },
  {
   "cell_type": "markdown",
   "id": "b441b99c",
   "metadata": {
    "papermill": {
     "duration": 0.005632,
     "end_time": "2025-03-20T22:30:11.826855",
     "exception": false,
     "start_time": "2025-03-20T22:30:11.821223",
     "status": "completed"
    },
    "tags": []
   },
   "source": [
    "## Model"
   ]
  },
  {
   "cell_type": "code",
   "execution_count": 6,
   "id": "707fb3df",
   "metadata": {
    "execution": {
     "iopub.execute_input": "2025-03-20T22:30:11.839638Z",
     "iopub.status.busy": "2025-03-20T22:30:11.839334Z",
     "iopub.status.idle": "2025-03-20T22:30:11.844367Z",
     "shell.execute_reply": "2025-03-20T22:30:11.843538Z"
    },
    "papermill": {
     "duration": 0.01298,
     "end_time": "2025-03-20T22:30:11.845666",
     "exception": false,
     "start_time": "2025-03-20T22:30:11.832686",
     "status": "completed"
    },
    "tags": []
   },
   "outputs": [],
   "source": [
    "class FinetunableResnet(nn.Module):\n",
    "    def __init__(self):\n",
    "        super(FinetunableResnet, self).__init__()\n",
    "        self.model = self.__get_model()\n",
    "\n",
    "    def __get_model(self):\n",
    "        resnet = models.resnet50(weights=models.ResNet50_Weights.DEFAULT)\n",
    "        num_features = resnet.fc.in_features\n",
    "        layers = nn.Sequential(\n",
    "            nn.Linear(num_features, 8)\n",
    "        )\n",
    "        resnet.fc = layers\n",
    "\n",
    "        return resnet\n",
    "\n",
    "    def get_fc(self):\n",
    "        return self.model.fc\n",
    "\n",
    "    def forward(self, images):\n",
    "        return self.model(images)"
   ]
  },
  {
   "cell_type": "markdown",
   "id": "a29ba587",
   "metadata": {
    "papermill": {
     "duration": 0.005514,
     "end_time": "2025-03-20T22:30:11.856976",
     "exception": false,
     "start_time": "2025-03-20T22:30:11.851462",
     "status": "completed"
    },
    "tags": []
   },
   "source": [
    "## Training Utils"
   ]
  },
  {
   "cell_type": "code",
   "execution_count": 7,
   "id": "960b47d4",
   "metadata": {
    "execution": {
     "iopub.execute_input": "2025-03-20T22:30:11.869346Z",
     "iopub.status.busy": "2025-03-20T22:30:11.869103Z",
     "iopub.status.idle": "2025-03-20T22:30:11.874976Z",
     "shell.execute_reply": "2025-03-20T22:30:11.874335Z"
    },
    "jupyter": {
     "source_hidden": true
    },
    "papermill": {
     "duration": 0.013321,
     "end_time": "2025-03-20T22:30:11.876138",
     "exception": false,
     "start_time": "2025-03-20T22:30:11.862817",
     "status": "completed"
    },
    "tags": []
   },
   "outputs": [],
   "source": [
    "class TrainingUtilities:\n",
    "    @staticmethod\n",
    "    def save_model(model, model_descriptor, save_folder, verbose=0):\n",
    "        torch.save(model.state_dict(), save_folder + f\"/{model_descriptor}b1_model.pth\")\n",
    "        if verbose > 0:\n",
    "            print(f\"Saved model to {save_folder}/b1_model.pth\")\n",
    "\n",
    "    @staticmethod\n",
    "    def save_checkpoint(epoch, model_state_dict, optimizer_state_dict, scheduler_state_dict=None, save_folder='', verbose=0):\n",
    "        checkpoint = {\n",
    "            'epoch': epoch,\n",
    "            'model_state_dict': model_state_dict,\n",
    "            'optimizer_state_dict': optimizer_state_dict,\n",
    "            'scheduler_state_dict': scheduler_state_dict\n",
    "        }\n",
    "        torch.save(checkpoint, save_folder + f'/checkpoint-epoch{epoch}.pth')\n",
    "        if verbose > 0:\n",
    "            print(f'Saved checkpoint to {save_folder}/checkpoint-epoch{epoch}.pth')\n",
    "\n",
    "    @staticmethod\n",
    "    def load_checkpoint(model, optimizer, checkpoint_path, scheduled, verbose=0):\n",
    "        checkpoint = torch.load(checkpoint_path)\n",
    "\n",
    "        if verbose > 0:\n",
    "            print(f\"Loading checkpoint from {checkpoint_path}\")\n",
    "\n",
    "        epoch = checkpoint['epoch']\n",
    "        model_state_dict = checkpoint['model_state_dict']\n",
    "        optimizer_state_dict = checkpoint['optimizer_state_dict']\n",
    "        scheduler_state_dict = checkpoint['scheduler_state_dict']\n",
    "        model = model.load_state_dict(model_state_dict)\n",
    "        if scheduled:\n",
    "            optimizer.load_state_dict(optimizer_state_dict, scheduler_state_dict)\n",
    "        else:\n",
    "            optimizer = optimizer.load_state_dict(optimizer_state_dict)\n",
    "        return epoch, model, optimizer"
   ]
  },
  {
   "cell_type": "markdown",
   "id": "727fd156",
   "metadata": {
    "papermill": {
     "duration": 0.005565,
     "end_time": "2025-03-20T22:30:11.887599",
     "exception": false,
     "start_time": "2025-03-20T22:30:11.882034",
     "status": "completed"
    },
    "tags": []
   },
   "source": [
    "## Trainer"
   ]
  },
  {
   "cell_type": "code",
   "execution_count": 8,
   "id": "ce45abd7",
   "metadata": {
    "execution": {
     "iopub.execute_input": "2025-03-20T22:30:11.900343Z",
     "iopub.status.busy": "2025-03-20T22:30:11.900044Z",
     "iopub.status.idle": "2025-03-20T22:30:11.917291Z",
     "shell.execute_reply": "2025-03-20T22:30:11.916613Z"
    },
    "jupyter": {
     "source_hidden": true
    },
    "papermill": {
     "duration": 0.024913,
     "end_time": "2025-03-20T22:30:11.918495",
     "exception": false,
     "start_time": "2025-03-20T22:30:11.893582",
     "status": "completed"
    },
    "tags": []
   },
   "outputs": [],
   "source": [
    "class b1_ModelTrainer:\n",
    "    def __init__(self, model, optimizer, scheduled, criterion, epochs, dataloaders, device, save_folder,\n",
    "                 is_continue=False, checkpoint=None):\n",
    "        self.model = model\n",
    "        self.optimizer = optimizer\n",
    "        self.scheduled = scheduled\n",
    "        self.criterion = criterion\n",
    "        self.epochs = epochs\n",
    "        self.dataloaders = dataloaders\n",
    "        self.DEVICE = device\n",
    "        self.save_folder = save_folder\n",
    "        self.is_continue = is_continue\n",
    "        self.checkpoint = checkpoint\n",
    "        self.scaler = torch.amp.GradScaler()\n",
    "\n",
    "    # verbose 1 : checkpoint,\n",
    "    # verbose 3:  labels, preds\n",
    "    # verbose 4: logits\n",
    "    def train_model(self, verbose=0):\n",
    "        model, optimizer, criterion, epochs, dataloaders, scaler = self.model, self.optimizer, self.criterion, self.epochs, self.dataloaders, self.scaler\n",
    "        best_model = model\n",
    "        best_acc = 0.0\n",
    "        epoch = 0\n",
    "\n",
    "        train_losses = []\n",
    "        val_losses = []\n",
    "        val_accuracies = []\n",
    "\n",
    "        if self.is_continue:\n",
    "\n",
    "            if verbose > 0:\n",
    "                print(f\"Continuing from checkpoint {self.checkpoint}\")\n",
    "\n",
    "            epoch, model, optimizer = self.__load_checkpoint(model, optimizer, self.checkpoint, verbose)\n",
    "\n",
    "        for training_epoch in range(epoch, epochs):\n",
    "\n",
    "            print(f\"\\nTraining epoch {training_epoch+1}\")\n",
    "\n",
    "            ## change model mode depending on the phase\n",
    "            for phase in ['train', 'val']:\n",
    "                dataloader = dataloaders[phase]\n",
    "                epoch_loss = 0  # Track total loss for the epoch\n",
    "                if phase == 'train':\n",
    "                    if verbose > 0:\n",
    "                        dataloader = tqdm(dataloader, desc=phase)\n",
    "                    model.train()\n",
    "                    for inputs, labels in dataloader:\n",
    "\n",
    "                        inputs = inputs.to(self.DEVICE)\n",
    "                        labels = labels.to(self.DEVICE)\n",
    "\n",
    "                        if verbose > 3:\n",
    "                            print(f\"labels: {labels}\")\n",
    "\n",
    "                        # zero grads of he optim\n",
    "                        optimizer.zero_grad()\n",
    "\n",
    "                        # freeze the non-learnable weights\n",
    "                        # self.__handle_transfer_learning(phase, training_epoch / epochs)\n",
    "\n",
    "                        with torch.amp.autocast('cuda'):\n",
    "                            # forward pass\n",
    "                            logit = model(inputs)\n",
    "\n",
    "                            if verbose > 3:\n",
    "                                print(f\"logit: {logit}\")\n",
    "\n",
    "                            loss = criterion(logit, labels)\n",
    "\n",
    "                        scaler.scale(loss).backward()\n",
    "                        optimizer.step(scaler)\n",
    "                        scaler.update()\n",
    "\n",
    "                        epoch_loss += loss.item()  # Accumulate loss\n",
    "\n",
    "                    train_losses.append(epoch_loss / len(dataloader))\n",
    "                    print(\n",
    "                        f\"Epoch {training_epoch + 1}/{epochs}, {phase} Loss: {epoch_loss / len(dataloader)}\")  # Print loss\n",
    "                else:\n",
    "                    # skip evaluation if no suitable dataloader\n",
    "                    if dataloaders[phase] is None:\n",
    "                        continue\n",
    "                    model.eval()\n",
    "                    loss, acc = self.__eval_model(dataloader, verbose)\n",
    "                    if acc > best_acc:\n",
    "                        best_acc = acc\n",
    "                        best_model = deepcopy(model)\n",
    "                    val_losses.append(loss)\n",
    "                    val_accuracies.append(acc)\n",
    "                    print(\n",
    "                        f\"Epoch {training_epoch + 1}/{epochs}, ({phase}) Loss: {loss} | Accuracy: {acc}\")  # Print loss\n",
    "\n",
    "            if self.scheduled:\n",
    "                optimizer.scheduler_step()\n",
    "                if training_epoch % 10 == 0:\n",
    "                    TrainingUtilities.save_checkpoint(training_epoch, model.state_dict(), optimizer.optimizer_state_dict(),\n",
    "                                           optimizer.scheduler_state_dict(), self.save_folder, verbose)\n",
    "            else:\n",
    "                if training_epoch % 10 == 0:\n",
    "                    TrainingUtilities.save_checkpoint(training_epoch, model.state_dict(), optimizer.state_dict(),self.save_folder, verbose)\n",
    "\n",
    "            if training_epoch % 10 == 0:\n",
    "                TrainingUtilities.save_model(model, training_epoch, self.save_folder,verbose)\n",
    "\n",
    "        TrainingUtilities.save_model(best_model, 'final_', self.save_folder, verbose)\n",
    "        return train_losses, val_losses, val_accuracies, best_model\n",
    "\n",
    "    def __handle_transfer_learning(self, phase, ratio_epochs, tl_coeff=0, verbose=0):\n",
    "        if phase == \"train\":\n",
    "            if self.__check_transfer_learning(ratio_epochs, tl_coeff):\n",
    "                # Unfreeze all layers for fine-tuning\n",
    "                for param in self.model.parameters():\n",
    "                    param.requires_grad = True\n",
    "            else:\n",
    "                # Freeze the CNN part\n",
    "                for param in self.model.parameters():\n",
    "                    param.requires_grad = False\n",
    "                # Unfreeze the classification layer\n",
    "                for param in self.model.get_fc().parameters():\n",
    "                    param.requires_grad = True\n",
    "        elif phase == \"val\":\n",
    "            for param in self.model.parameters():\n",
    "                param.requires_grad = False\n",
    "\n",
    "    def __check_transfer_learning(self, ratio_epochs, tl_coeff=0):\n",
    "        return ratio_epochs >= tl_coeff\n",
    "\n",
    "    def __eval_model(self, dataloader, verbose=0):\n",
    "        model = self.model\n",
    "        criterion = self.criterion\n",
    "        model.eval()\n",
    "        val_loss = 0\n",
    "        correct_preds = 0\n",
    "        total_preds = 0\n",
    "        if verbose > 0:\n",
    "            dataloader = tqdm(dataloader, desc=\"Validation\")\n",
    "        with torch.no_grad():\n",
    "            with torch.amp.autocast('cuda'):\n",
    "                for inputs, labels in dataloader:\n",
    "                    inputs = inputs.to(self.DEVICE)\n",
    "                    labels = labels.to(self.DEVICE)\n",
    "\n",
    "                    if verbose > 2:\n",
    "                        print(f\"labels: {labels}\")\n",
    "\n",
    "                    # Forward pass\n",
    "                    logits = model(inputs)\n",
    "\n",
    "                    if verbose > 3:\n",
    "                        print(f\"logit: {logits}\")\n",
    "\n",
    "                    probs = F.softmax(logits, dim=1)  # Apply softmax to get probabilities\n",
    "\n",
    "                    if verbose > 3:\n",
    "                        print(f\"probs: {probs}\")\n",
    "\n",
    "                    loss = criterion(logits, labels)\n",
    "                    val_loss += loss.item()  # Accumulate loss\n",
    "\n",
    "                    # Compute accuracy\n",
    "                    predicted = torch.argmax(probs, dim=1)  # Get the class with the highest probability\n",
    "\n",
    "                    if verbose > 2:\n",
    "                        print(f\"predicted: {predicted}\")\n",
    "                        print(f\"true/false: {(predicted == labels)}\")\n",
    "\n",
    "                    correct_preds += (predicted == labels).sum().item()\n",
    "                    total_preds += labels.size(0)\n",
    "\n",
    "        # Calculate average loss and accuracy\n",
    "        avg_loss = val_loss / len(dataloader)\n",
    "        accuracy = correct_preds / total_preds\n",
    "        return avg_loss, accuracy"
   ]
  },
  {
   "cell_type": "markdown",
   "id": "32fb0134",
   "metadata": {
    "papermill": {
     "duration": 0.005483,
     "end_time": "2025-03-20T22:30:11.929817",
     "exception": false,
     "start_time": "2025-03-20T22:30:11.924334",
     "status": "completed"
    },
    "tags": []
   },
   "source": [
    "## Dataset"
   ]
  },
  {
   "cell_type": "code",
   "execution_count": 9,
   "id": "773b6fec",
   "metadata": {
    "execution": {
     "iopub.execute_input": "2025-03-20T22:30:11.941894Z",
     "iopub.status.busy": "2025-03-20T22:30:11.941675Z",
     "iopub.status.idle": "2025-03-20T22:30:11.944708Z",
     "shell.execute_reply": "2025-03-20T22:30:11.944102Z"
    },
    "jupyter": {
     "source_hidden": true
    },
    "papermill": {
     "duration": 0.010424,
     "end_time": "2025-03-20T22:30:11.945943",
     "exception": false,
     "start_time": "2025-03-20T22:30:11.935519",
     "status": "completed"
    },
    "tags": []
   },
   "outputs": [],
   "source": [
    "# class B1Dataset(Dataset):\n",
    "\n",
    "#     VIDEO_SPLITS = {\n",
    "#         'train': {1, 3, 6, 7, 10, 13, 15, 16, 18, 22, 23, 31, 32, 36, 38, 39, 40, 41, 42, 48, 50, 52, 53, 54},\n",
    "#         'val': {0, 2, 8, 12, 17, 19, 24, 26, 27, 28, 30, 33, 46, 49, 51},\n",
    "#         'test': {4, 5, 9, 11, 14, 20, 21, 25, 29, 34, 35, 37, 43, 44, 45, 47}\n",
    "#     }\n",
    "\n",
    "#     def __init__(self, data, split='train', transform=None):\n",
    "#         self.data = data\n",
    "#         if transform is None:\n",
    "#             self.transform = transforms.Compose([\n",
    "#                 transforms.Resize((256, 256)),\n",
    "#                 transforms.CenterCrop((224, 224)),\n",
    "#                 transforms.ToTensor(),\n",
    "#                 transforms.Normalize(mean=[0.485, 0.456, 0.406], std=[0.229, 0.224, 0.225]),\n",
    "#             ])\n",
    "#         else:\n",
    "#             self.transform = transform\n",
    "\n",
    "#         if split in self.VIDEO_SPLITS:\n",
    "#             self.data = self.data[self.data['video'].astype(int).isin(self.VIDEO_SPLITS[split])].reset_index(drop=True)\n",
    "#         else:\n",
    "#             raise NameError(f'There is no such split: {split}, only {self.VIDEO_SPLITS}')\n",
    "\n",
    "#     def get_labels(self):\n",
    "#         return self.data['mapped_class'].tolist()\n",
    "\n",
    "#     def __len__(self):\n",
    "#         return len(self.data)\n",
    "\n",
    "#     def __getitem__(self, idx):\n",
    "#         img_path = self.data.iloc[idx]['frame']\n",
    "#         label = self.data.iloc[idx]['mapped_class']\n",
    "\n",
    "#         # Load image\n",
    "#         image = Image.open(img_path).convert(\"RGB\")\n",
    "\n",
    "#         # Apply transformations if provided\n",
    "#         image = self.transform(image)\n",
    "#         return image, torch.tensor(label, dtype=torch.long)"
   ]
  },
  {
   "cell_type": "markdown",
   "id": "8e1ae774",
   "metadata": {
    "papermill": {
     "duration": 0.005563,
     "end_time": "2025-03-20T22:30:11.957385",
     "exception": false,
     "start_time": "2025-03-20T22:30:11.951822",
     "status": "completed"
    },
    "tags": []
   },
   "source": [
    "## Loss"
   ]
  },
  {
   "cell_type": "code",
   "execution_count": 10,
   "id": "afa7b9c2",
   "metadata": {
    "execution": {
     "iopub.execute_input": "2025-03-20T22:30:11.969679Z",
     "iopub.status.busy": "2025-03-20T22:30:11.969469Z",
     "iopub.status.idle": "2025-03-20T22:30:11.974269Z",
     "shell.execute_reply": "2025-03-20T22:30:11.973614Z"
    },
    "papermill": {
     "duration": 0.012219,
     "end_time": "2025-03-20T22:30:11.975412",
     "exception": false,
     "start_time": "2025-03-20T22:30:11.963193",
     "status": "completed"
    },
    "tags": []
   },
   "outputs": [],
   "source": [
    "class WeightedCrossEntropyLoss(nn.Module):\n",
    "    def __init__(self, dataset, device, num_classes=8):\n",
    "        super().__init__()\n",
    "        self.device = device\n",
    "        self.num_classes = num_classes\n",
    "        self.weights = self.__compute_weights(dataset).to(device)\n",
    "        self.loss = nn.CrossEntropyLoss(weight=self.weights)\n",
    "\n",
    "    def __compute_weights(self, dataset):\n",
    "        labels = torch.tensor(dataset.get_labels(), dtype=torch.long)\n",
    "        class_counts = torch.bincount(labels, minlength=self.num_classes)\n",
    "        total_samples = len(labels)\n",
    "        weights = total_samples / (class_counts + 1e-6)  # Avoid div by zero\n",
    "        return weights.float()\n",
    "\n",
    "    def forward(self, logit, target):\n",
    "        return self.loss(logit, target)"
   ]
  },
  {
   "cell_type": "code",
   "execution_count": 11,
   "id": "5ad4aeba",
   "metadata": {
    "execution": {
     "iopub.execute_input": "2025-03-20T22:30:11.988041Z",
     "iopub.status.busy": "2025-03-20T22:30:11.987846Z",
     "iopub.status.idle": "2025-03-20T22:30:11.991257Z",
     "shell.execute_reply": "2025-03-20T22:30:11.990613Z"
    },
    "papermill": {
     "duration": 0.010661,
     "end_time": "2025-03-20T22:30:11.992348",
     "exception": false,
     "start_time": "2025-03-20T22:30:11.981687",
     "status": "completed"
    },
    "tags": []
   },
   "outputs": [],
   "source": [
    "class AugmentationCELoss(WeightedCrossEntropyLoss):\n",
    "    def __init__(self, dataset, device, num_classes):\n",
    "        super().__init__(dataset, device, num_classes)\n",
    "\n",
    "    def forward(self, logit, target):\n",
    "        return F.cross_entropy(logit, target, weight=self.weights)"
   ]
  },
  {
   "cell_type": "markdown",
   "id": "e990b2e9",
   "metadata": {
    "papermill": {
     "duration": 0.005625,
     "end_time": "2025-03-20T22:30:12.003721",
     "exception": false,
     "start_time": "2025-03-20T22:30:11.998096",
     "status": "completed"
    },
    "tags": []
   },
   "source": [
    "## Optimizer"
   ]
  },
  {
   "cell_type": "code",
   "execution_count": 12,
   "id": "6c143347",
   "metadata": {
    "execution": {
     "iopub.execute_input": "2025-03-20T22:30:12.015941Z",
     "iopub.status.busy": "2025-03-20T22:30:12.015741Z",
     "iopub.status.idle": "2025-03-20T22:30:12.020120Z",
     "shell.execute_reply": "2025-03-20T22:30:12.019547Z"
    },
    "papermill": {
     "duration": 0.012101,
     "end_time": "2025-03-20T22:30:12.021516",
     "exception": false,
     "start_time": "2025-03-20T22:30:12.009415",
     "status": "completed"
    },
    "tags": []
   },
   "outputs": [],
   "source": [
    "class AdamWScheduled():\n",
    "    def __init__(self, model_params, lr, step_size, gamma, weight_decay):\n",
    "        self.optimizer = optim.AdamW(model_params,  lr=lr, weight_decay=weight_decay)\n",
    "        self.scheduler = optim.lr_scheduler.StepLR(self.optimizer, step_size, gamma)\n",
    "\n",
    "    def step(self, scaler):\n",
    "        scaler.step(self.optimizer)\n",
    "\n",
    "    def zero_grad(self):\n",
    "        self.optimizer.zero_grad()\n",
    "\n",
    "    def scheduler_step(self):\n",
    "        self.scheduler.step()\n",
    "\n",
    "    def optimizer_state_dict(self):\n",
    "        return self.optimizer.state_dict()\n",
    "\n",
    "    def scheduler_state_dict(self):\n",
    "        return self.scheduler.state_dict()\n",
    "\n",
    "    def load_state_dict(self, optimizer_state_dict, scheduler_state_dict):\n",
    "        self.optimizer.load_state_dict(optimizer_state_dict)\n",
    "        self.scheduler.load_state_dict(scheduler_state_dict)"
   ]
  },
  {
   "cell_type": "markdown",
   "id": "380626f0",
   "metadata": {
    "papermill": {
     "duration": 0.005738,
     "end_time": "2025-03-20T22:30:12.033117",
     "exception": false,
     "start_time": "2025-03-20T22:30:12.027379",
     "status": "completed"
    },
    "tags": []
   },
   "source": [
    "## Custom Dataloader"
   ]
  },
  {
   "cell_type": "code",
   "execution_count": 13,
   "id": "be385996",
   "metadata": {
    "execution": {
     "iopub.execute_input": "2025-03-20T22:30:12.045475Z",
     "iopub.status.busy": "2025-03-20T22:30:12.045251Z",
     "iopub.status.idle": "2025-03-20T22:30:12.049622Z",
     "shell.execute_reply": "2025-03-20T22:30:12.049052Z"
    },
    "papermill": {
     "duration": 0.011973,
     "end_time": "2025-03-20T22:30:12.050812",
     "exception": false,
     "start_time": "2025-03-20T22:30:12.038839",
     "status": "completed"
    },
    "tags": []
   },
   "outputs": [],
   "source": [
    "class AugmentationDataLoader():\n",
    "    def __init__(self, dataset, batch_size, shuffle, num_workers, pin_memory, num_classes, mixup_alpha=1.0, cutmix_alpha=1.0):\n",
    "        mixup_alpha = float(mixup_alpha)\n",
    "        cutmix_alpha = float(cutmix_alpha)\n",
    "\n",
    "        cutmix = v2.CutMix(num_classes=num_classes, alpha=cutmix_alpha)\n",
    "        mixup = v2.MixUp(num_classes=num_classes, alpha=mixup_alpha)\n",
    "        self.cutmix_or_mixup = v2.RandomChoice([cutmix, mixup])\n",
    "        self.loader = DataLoader(dataset, batch_size=batch_size, num_workers=num_workers, pin_memory=pin_memory, shuffle=shuffle, collate_fn=self.collate_fn)\n",
    "\n",
    "    def get_loader(self):\n",
    "        return self.loader\n",
    "\n",
    "    def collate_fn(self, batch):\n",
    "        inputs, labels = default_collate(batch)\n",
    "        return self.cutmix_or_mixup(inputs, labels)"
   ]
  },
  {
   "cell_type": "markdown",
   "id": "8d05742f",
   "metadata": {
    "papermill": {
     "duration": 0.00553,
     "end_time": "2025-03-20T22:30:12.062096",
     "exception": false,
     "start_time": "2025-03-20T22:30:12.056566",
     "status": "completed"
    },
    "tags": []
   },
   "source": [
    "## Dataloaders and Transforms"
   ]
  },
  {
   "cell_type": "code",
   "execution_count": 14,
   "id": "8f97984c",
   "metadata": {
    "execution": {
     "iopub.execute_input": "2025-03-20T22:30:12.074583Z",
     "iopub.status.busy": "2025-03-20T22:30:12.074234Z",
     "iopub.status.idle": "2025-03-20T22:30:12.134171Z",
     "shell.execute_reply": "2025-03-20T22:30:12.133345Z"
    },
    "papermill": {
     "duration": 0.06756,
     "end_time": "2025-03-20T22:30:12.135452",
     "exception": false,
     "start_time": "2025-03-20T22:30:12.067892",
     "status": "completed"
    },
    "tags": []
   },
   "outputs": [
    {
     "data": {
      "text/plain": [
       "device(type='cuda')"
      ]
     },
     "execution_count": 14,
     "metadata": {},
     "output_type": "execute_result"
    }
   ],
   "source": [
    "device = torch.device('cuda' if torch.cuda.is_available() else 'cpu')\n",
    "device"
   ]
  },
  {
   "cell_type": "code",
   "execution_count": 15,
   "id": "e66213c4",
   "metadata": {
    "execution": {
     "iopub.execute_input": "2025-03-20T22:30:12.148435Z",
     "iopub.status.busy": "2025-03-20T22:30:12.148157Z",
     "iopub.status.idle": "2025-03-20T22:30:12.150817Z",
     "shell.execute_reply": "2025-03-20T22:30:12.150232Z"
    },
    "jupyter": {
     "source_hidden": true
    },
    "papermill": {
     "duration": 0.010336,
     "end_time": "2025-03-20T22:30:12.152049",
     "exception": false,
     "start_time": "2025-03-20T22:30:12.141713",
     "status": "completed"
    },
    "tags": []
   },
   "outputs": [],
   "source": [
    "# train_dataset = B1Dataset(df, split='train')\n",
    "# val_dataset = B1Dataset(df, split='val')\n",
    "# test_dataset = B1Dataset(df, split='test')"
   ]
  },
  {
   "cell_type": "code",
   "execution_count": 16,
   "id": "45da5d41",
   "metadata": {
    "execution": {
     "iopub.execute_input": "2025-03-20T22:30:12.164535Z",
     "iopub.status.busy": "2025-03-20T22:30:12.164318Z",
     "iopub.status.idle": "2025-03-20T22:30:46.600774Z",
     "shell.execute_reply": "2025-03-20T22:30:46.600055Z"
    },
    "papermill": {
     "duration": 34.444358,
     "end_time": "2025-03-20T22:30:46.602317",
     "exception": false,
     "start_time": "2025-03-20T22:30:12.157959",
     "status": "completed"
    },
    "tags": []
   },
   "outputs": [],
   "source": [
    "def extract_target_image_and_label(video_id, dataset_path):\n",
    "    \"\"\"\n",
    "    Extracts all target image paths and corresponding frame activity class from the annotations.txt file.\n",
    "    \"\"\"\n",
    "    video_path = os.path.join(dataset_path, str(video_id))  # Video directory path\n",
    "    annotation_file = os.path.join(video_path, 'annotations.txt')  # Path to annotation file\n",
    "    \n",
    "    # List to store (image_path, activity_class)\n",
    "    images_and_labels = []\n",
    "    \n",
    "    # Read annotations.txt\n",
    "    with open(annotation_file, 'r') as f:\n",
    "        for line in f:\n",
    "            parts = line.strip().split()\n",
    "            # Extract the frame ID (image name) and frame activity class\n",
    "            frame_image = parts[0]  # Image name (e.g., '48075.jpg')\n",
    "            frame_activity_class = parts[1]  # Frame Activity Class (e.g., 'r_winpoint')\n",
    "            \n",
    "            # Remove .jpg from frame_image to get the frame ID\n",
    "            frame_id = os.path.splitext(frame_image)[0]\n",
    "            \n",
    "            # Construct the expected path to the target image\n",
    "            target_image_path = os.path.join(video_path, str(frame_id), frame_image)\n",
    "            \n",
    "            # Check if the file exists\n",
    "            if os.path.exists(target_image_path):\n",
    "                images_and_labels.append((target_image_path, frame_activity_class))\n",
    "            else:\n",
    "                print(f\"Target image not found: {target_image_path}\")\n",
    "    \n",
    "    return images_and_labels\n",
    "\n",
    "\n",
    "def prepare_dataset(video_ids, dataset_path):\n",
    "    \"\"\"\n",
    "    Prepares the dataset by extracting the target image paths and their labels for the given video IDs.\n",
    "    Returns a list of tuples (image_path, activity_class).\n",
    "    \"\"\"\n",
    "    dataset = []\n",
    "    \n",
    "    for video_id in video_ids:\n",
    "        # Extract target image paths and labels for this video\n",
    "        images_and_labels = extract_target_image_and_label(video_id, dataset_path)\n",
    "        dataset.extend(images_and_labels)  # Add them to the dataset list\n",
    "    \n",
    "    return dataset\n",
    "\n",
    "# Video IDs for each dataset split\n",
    "train_videos = [1, 3, 6, 7, 10, 13, 15, 16, 18, 22, 23, 31, 32, 36, 38, 39, 40, 41, 42, 48, 50, 52, 53, 54]\n",
    "val_videos = [0, 2, 8, 12, 17, 19, 24, 26, 27, 28, 30, 33, 46, 49, 51]\n",
    "test_videos = [4, 5, 9, 11, 14, 20, 21, 25, 29, 34, 35, 37, 43, 44, 45, 47]\n",
    "\n",
    "# Dataset path \n",
    "dataset_path = '/kaggle/input/volleyball/volleyball_/videos'\n",
    "\n",
    "# Prepare datasets for train, validation, and test splits\n",
    "train_data = prepare_dataset(train_videos, dataset_path)\n",
    "val_data = prepare_dataset(val_videos, dataset_path)\n",
    "test_data = prepare_dataset(test_videos, dataset_path)\n",
    "\n",
    "\n",
    "class VideoFrameDataset(Dataset):\n",
    "    def __init__(self, data, transform=None):\n",
    "        \"\"\"\n",
    "        Args:\n",
    "            data: List of tuples (image_path, label)\n",
    "            transform: Optional transformations to be applied on a sample\n",
    "        \"\"\"\n",
    "        self.data = data\n",
    "        self.transform = transform\n",
    "        self.class_mapping = {'r_set': 0, 'r_spike': 1, 'r-pass': 2, 'r_winpoint': 3,\n",
    "                              'l_winpoint': 4, 'l-pass': 5, 'l-spike': 6, 'l_set':7} \n",
    "    def get_labels(self):\n",
    "        labels = []\n",
    "        for image_path, label in self.data:\n",
    "            labels.append(self.class_mapping[label])\n",
    "        return labels\n",
    "        \n",
    "    def __len__(self):\n",
    "        return len(self.data)\n",
    "\n",
    "    def __getitem__(self, idx):\n",
    "        # Get image path and label\n",
    "        image_path, label = self.data[idx]\n",
    "\n",
    "        # Open the image\n",
    "        image = Image.open(image_path).convert('RGB')\n",
    "\n",
    "        # Apply transformations\n",
    "        if self.transform:\n",
    "            image = self.transform(image)\n",
    "\n",
    "        # Convert label to a numeric tensor using the class mapping\n",
    "        label = torch.tensor(self.class_mapping[label], dtype=torch.long)\n",
    "\n",
    "        return image, label\n",
    "\n",
    "train_transform = transforms.Compose([\n",
    "    transforms.Resize(224),\n",
    "    transforms.ToTensor(),                                   # Convert PIL images to PyTorch tensors\n",
    "    transforms.Normalize(mean=[0.485, 0.456, 0.406],        # Normalize using ImageNet mean and std values\n",
    "                         std=[0.229, 0.224, 0.225]),         # (mean and std are the same used during ResNet pre-training)\n",
    "])\n",
    "\n",
    "train_dataset = VideoFrameDataset(train_data, transform=train_transform)\n",
    "val_dataset = VideoFrameDataset(val_data, transform=train_transform)\n",
    "test_dataset = VideoFrameDataset(test_data, transform=train_transform)"
   ]
  },
  {
   "cell_type": "code",
   "execution_count": 17,
   "id": "2f2ac6e2",
   "metadata": {
    "execution": {
     "iopub.execute_input": "2025-03-20T22:30:46.615812Z",
     "iopub.status.busy": "2025-03-20T22:30:46.615577Z",
     "iopub.status.idle": "2025-03-20T22:30:46.682217Z",
     "shell.execute_reply": "2025-03-20T22:30:46.681593Z"
    },
    "papermill": {
     "duration": 0.07469,
     "end_time": "2025-03-20T22:30:46.683536",
     "exception": false,
     "start_time": "2025-03-20T22:30:46.608846",
     "status": "completed"
    },
    "tags": []
   },
   "outputs": [],
   "source": [
    "batch_size = 100\n",
    "train_loader = AugmentationDataLoader(train_dataset, batch_size=batch_size, shuffle=True, num_workers=0, pin_memory=True, num_classes=8, mixup_alpha=0.9, cutmix_alpha=0.9).get_loader()\n",
    "val_loader = DataLoader(val_dataset, batch_size=batch_size, shuffle=False, num_workers=4, pin_memory=True)\n",
    "test_loader = DataLoader(test_dataset, batch_size=batch_size, shuffle=False, num_workers=4, pin_memory=True)\n",
    "dataloaders = {'train': train_loader, 'val': val_loader}"
   ]
  },
  {
   "cell_type": "markdown",
   "id": "3531b456",
   "metadata": {
    "papermill": {
     "duration": 0.005716,
     "end_time": "2025-03-20T22:30:46.695447",
     "exception": false,
     "start_time": "2025-03-20T22:30:46.689731",
     "status": "completed"
    },
    "tags": []
   },
   "source": [
    "## Custom Criterion"
   ]
  },
  {
   "cell_type": "code",
   "execution_count": 18,
   "id": "5e361fd5",
   "metadata": {
    "execution": {
     "iopub.execute_input": "2025-03-20T22:30:46.708132Z",
     "iopub.status.busy": "2025-03-20T22:30:46.707908Z",
     "iopub.status.idle": "2025-03-20T22:30:46.896335Z",
     "shell.execute_reply": "2025-03-20T22:30:46.895641Z"
    },
    "papermill": {
     "duration": 0.196513,
     "end_time": "2025-03-20T22:30:46.897951",
     "exception": false,
     "start_time": "2025-03-20T22:30:46.701438",
     "status": "completed"
    },
    "tags": []
   },
   "outputs": [],
   "source": [
    "# criterion = WeightedCrossEntropyLoss(train_dataset, device)\n",
    "criterion = AugmentationCELoss(dataset=train_dataset, device=device, num_classes=8)"
   ]
  },
  {
   "cell_type": "markdown",
   "id": "d3646c4a",
   "metadata": {
    "papermill": {
     "duration": 0.005812,
     "end_time": "2025-03-20T22:30:46.910231",
     "exception": false,
     "start_time": "2025-03-20T22:30:46.904419",
     "status": "completed"
    },
    "tags": []
   },
   "source": [
    "## Model Training"
   ]
  },
  {
   "cell_type": "code",
   "execution_count": 19,
   "id": "2ad1d7cc",
   "metadata": {
    "execution": {
     "iopub.execute_input": "2025-03-20T22:30:46.922868Z",
     "iopub.status.busy": "2025-03-20T22:30:46.922625Z",
     "iopub.status.idle": "2025-03-20T22:30:48.101302Z",
     "shell.execute_reply": "2025-03-20T22:30:48.100569Z"
    },
    "papermill": {
     "duration": 1.186717,
     "end_time": "2025-03-20T22:30:48.102831",
     "exception": false,
     "start_time": "2025-03-20T22:30:46.916114",
     "status": "completed"
    },
    "tags": []
   },
   "outputs": [
    {
     "name": "stderr",
     "output_type": "stream",
     "text": [
      "Downloading: \"https://download.pytorch.org/models/resnet50-11ad3fa6.pth\" to /root/.cache/torch/hub/checkpoints/resnet50-11ad3fa6.pth\n",
      "100%|██████████| 97.8M/97.8M [00:00<00:00, 191MB/s]\n"
     ]
    }
   ],
   "source": [
    "model = FinetunableResnet().to(device)\n",
    "optimizer = AdamWScheduled(model_params=model.parameters(), lr=0.001, step_size=10, gamma=0.1, weight_decay=1)\n",
    "\n",
    "save_folder = '/kaggle/working/'\n",
    "trainer = b1_ModelTrainer(model, optimizer,True, criterion, epochs=30, dataloaders=dataloaders, device=device, save_folder=save_folder)"
   ]
  },
  {
   "cell_type": "code",
   "execution_count": 20,
   "id": "56f4b477",
   "metadata": {
    "execution": {
     "iopub.execute_input": "2025-03-20T22:30:48.117172Z",
     "iopub.status.busy": "2025-03-20T22:30:48.116942Z",
     "iopub.status.idle": "2025-03-20T23:04:28.381487Z",
     "shell.execute_reply": "2025-03-20T23:04:28.380322Z"
    },
    "papermill": {
     "duration": 2020.273042,
     "end_time": "2025-03-20T23:04:28.382903",
     "exception": false,
     "start_time": "2025-03-20T22:30:48.109861",
     "status": "completed"
    },
    "tags": []
   },
   "outputs": [
    {
     "name": "stdout",
     "output_type": "stream",
     "text": [
      "\n",
      "Training epoch 1\n",
      "Epoch 1/30, train Loss: 15.985152938149191\n",
      "Epoch 1/30, (val) Loss: 2.9246708154678345 | Accuracy: 0.1931394481730052\n",
      "\n",
      "Training epoch 2\n",
      "Epoch 2/30, train Loss: 12.252706397663463\n",
      "Epoch 2/30, (val) Loss: 1.4509595206805639 | Accuracy: 0.465324384787472\n",
      "\n",
      "Training epoch 3\n",
      "Epoch 3/30, train Loss: 11.339457620273937\n",
      "Epoch 3/30, (val) Loss: 1.0940611021859306 | Accuracy: 0.5958240119313944\n",
      "\n",
      "Training epoch 4\n",
      "Epoch 4/30, train Loss: 9.332895907488735\n",
      "Epoch 4/30, (val) Loss: 1.8168505941118513 | Accuracy: 0.37285607755406414\n",
      "\n",
      "Training epoch 5\n",
      "Epoch 5/30, train Loss: 10.110160025683316\n",
      "Epoch 5/30, (val) Loss: 1.4848697440964835 | Accuracy: 0.39746457867263235\n",
      "\n",
      "Training epoch 6\n",
      "Epoch 6/30, train Loss: 9.451185118068349\n",
      "Epoch 6/30, (val) Loss: 1.0740875729492732 | Accuracy: 0.575689783743475\n",
      "\n",
      "Training epoch 7\n",
      "Epoch 7/30, train Loss: 8.340808684175665\n",
      "Epoch 7/30, (val) Loss: 1.0548412459237235 | Accuracy: 0.6360924683072334\n",
      "\n",
      "Training epoch 8\n",
      "Epoch 8/30, train Loss: 8.419384132732045\n",
      "Epoch 8/30, (val) Loss: 1.1210930049419403 | Accuracy: 0.5995525727069351\n",
      "\n",
      "Training epoch 9\n",
      "Epoch 9/30, train Loss: 7.44438560442491\n",
      "Epoch 9/30, (val) Loss: 1.300840973854065 | Accuracy: 0.4645786726323639\n",
      "\n",
      "Training epoch 10\n",
      "Epoch 10/30, train Loss: 7.965400273149664\n",
      "Epoch 10/30, (val) Loss: 0.9647496385233743 | Accuracy: 0.6674123788217748\n",
      "\n",
      "Training epoch 11\n",
      "Epoch 11/30, train Loss: 7.641588395292109\n",
      "Epoch 11/30, (val) Loss: 0.7372597583702633 | Accuracy: 0.761372110365399\n",
      "\n",
      "Training epoch 12\n",
      "Epoch 12/30, train Loss: 6.9970986301248725\n",
      "Epoch 12/30, (val) Loss: 0.706528731754848 | Accuracy: 0.7785234899328859\n",
      "\n",
      "Training epoch 13\n",
      "Epoch 13/30, train Loss: 7.208007281476801\n",
      "Epoch 13/30, (val) Loss: 0.7230573786156518 | Accuracy: 0.7755406413124534\n",
      "\n",
      "Training epoch 14\n",
      "Epoch 14/30, train Loss: 6.428651733831926\n",
      "Epoch 14/30, (val) Loss: 0.6925289737326759 | Accuracy: 0.7807606263982103\n",
      "\n",
      "Training epoch 15\n",
      "Epoch 15/30, train Loss: 6.374914169311523\n",
      "Epoch 15/30, (val) Loss: 0.6823401004076004 | Accuracy: 0.785234899328859\n",
      "\n",
      "Training epoch 16\n",
      "Epoch 16/30, train Loss: 6.88229408047416\n",
      "Epoch 16/30, (val) Loss: 0.7192965447902679 | Accuracy: 0.7762863534675615\n",
      "\n",
      "Training epoch 17\n",
      "Epoch 17/30, train Loss: 6.949846852909435\n",
      "Epoch 17/30, (val) Loss: 0.7050389179161617 | Accuracy: 0.7718120805369127\n",
      "\n",
      "Training epoch 18\n",
      "Epoch 18/30, train Loss: 5.7998032813722435\n",
      "Epoch 18/30, (val) Loss: 0.6910408990723746 | Accuracy: 0.7703206562266965\n",
      "\n",
      "Training epoch 19\n",
      "Epoch 19/30, train Loss: 6.342943787574768\n",
      "Epoch 19/30, (val) Loss: 0.7482656304325376 | Accuracy: 0.7658463832960477\n",
      "\n",
      "Training epoch 20\n",
      "Epoch 20/30, train Loss: 6.876428484916687\n",
      "Epoch 20/30, (val) Loss: 0.7332339457103184 | Accuracy: 0.7621178225205071\n",
      "\n",
      "Training epoch 21\n",
      "Epoch 21/30, train Loss: 7.171687537973577\n",
      "Epoch 21/30, (val) Loss: 0.7372491125549588 | Accuracy: 0.7643549589858315\n",
      "\n",
      "Training epoch 22\n",
      "Epoch 22/30, train Loss: 6.117653700438413\n",
      "Epoch 22/30, (val) Loss: 0.7184160479477474 | Accuracy: 0.7680835197613721\n",
      "\n",
      "Training epoch 23\n",
      "Epoch 23/30, train Loss: 5.955556398088282\n",
      "Epoch 23/30, (val) Loss: 0.7187554793698447 | Accuracy: 0.7680835197613721\n",
      "\n",
      "Training epoch 24\n",
      "Epoch 24/30, train Loss: 5.780261798338457\n",
      "Epoch 24/30, (val) Loss: 0.7079572337014335 | Accuracy: 0.7680835197613721\n",
      "\n",
      "Training epoch 25\n",
      "Epoch 25/30, train Loss: 7.271347338503057\n",
      "Epoch 25/30, (val) Loss: 0.7224605211189815 | Accuracy: 0.767337807606264\n",
      "\n",
      "Training epoch 26\n",
      "Epoch 26/30, train Loss: 6.949203209443525\n",
      "Epoch 26/30, (val) Loss: 0.7302389230046954 | Accuracy: 0.7636092468307233\n",
      "\n",
      "Training epoch 27\n",
      "Epoch 27/30, train Loss: 5.34480033679442\n",
      "Epoch 27/30, (val) Loss: 0.6998917843614306 | Accuracy: 0.767337807606264\n",
      "\n",
      "Training epoch 28\n",
      "Epoch 28/30, train Loss: 6.130776838822798\n",
      "Epoch 28/30, (val) Loss: 0.7071154032434736 | Accuracy: 0.7695749440715883\n",
      "\n",
      "Training epoch 29\n",
      "Epoch 29/30, train Loss: 7.0472787185148755\n",
      "Epoch 29/30, (val) Loss: 0.7056278394801276 | Accuracy: 0.7680835197613721\n",
      "\n",
      "Training epoch 30\n",
      "Epoch 30/30, train Loss: 6.539430065588518\n",
      "Epoch 30/30, (val) Loss: 0.7006641626358032 | Accuracy: 0.7651006711409396\n"
     ]
    }
   ],
   "source": [
    "train_losses, val_losses, val_accuracies, best_model = trainer.train_model(verbose=0)"
   ]
  },
  {
   "cell_type": "code",
   "execution_count": 21,
   "id": "a9941971",
   "metadata": {
    "execution": {
     "iopub.execute_input": "2025-03-20T23:04:28.403417Z",
     "iopub.status.busy": "2025-03-20T23:04:28.403074Z",
     "iopub.status.idle": "2025-03-20T23:04:28.856485Z",
     "shell.execute_reply": "2025-03-20T23:04:28.855680Z"
    },
    "papermill": {
     "duration": 0.46515,
     "end_time": "2025-03-20T23:04:28.857772",
     "exception": false,
     "start_time": "2025-03-20T23:04:28.392622",
     "status": "completed"
    },
    "tags": []
   },
   "outputs": [
    {
     "data": {
      "image/png": "[encoded data removed]",
      "text/plain": [
       "<Figure size 640x480 with 1 Axes>"
      ]
     },
     "metadata": {},
     "output_type": "display_data"
    },
    {
     "data": {
      "image/png": "[encoded data removed]",
      "text/plain": [
       "<Figure size 640x480 with 1 Axes>"
      ]
     },
     "metadata": {},
     "output_type": "display_data"
    }
   ],
   "source": [
    "plotter.plot_training_val_b1(train_losses, val_losses, val_accuracies)"
   ]
  },
  {
   "cell_type": "markdown",
   "id": "f5cd5a5d",
   "metadata": {
    "papermill": {
     "duration": 0.010061,
     "end_time": "2025-03-20T23:04:28.878729",
     "exception": false,
     "start_time": "2025-03-20T23:04:28.868668",
     "status": "completed"
    },
    "tags": []
   },
   "source": [
    "## Model Evaluation"
   ]
  },
  {
   "cell_type": "code",
   "execution_count": 22,
   "id": "0b27e8a0",
   "metadata": {
    "execution": {
     "iopub.execute_input": "2025-03-20T23:04:28.900046Z",
     "iopub.status.busy": "2025-03-20T23:04:28.899792Z",
     "iopub.status.idle": "2025-03-20T23:04:28.909476Z",
     "shell.execute_reply": "2025-03-20T23:04:28.908658Z"
    },
    "papermill": {
     "duration": 0.021685,
     "end_time": "2025-03-20T23:04:28.910715",
     "exception": false,
     "start_time": "2025-03-20T23:04:28.889030",
     "status": "completed"
    },
    "tags": []
   },
   "outputs": [],
   "source": [
    "class b1_ModelTester():\n",
    "    def __init__(self, model, model_path, criterion, dataloader, device):\n",
    "        self.model = model\n",
    "        # model_state_dict = torch.load(model_path, map_location=device)\n",
    "        # self.model.load_state_dict(model_state_dict)\n",
    "        self.criterion = criterion\n",
    "        self.dataloader = dataloader\n",
    "        self.DEVICE = device\n",
    "\n",
    "    def evaluate(self, verbose=0):\n",
    "        dataloader = self.dataloader\n",
    "        model = self.model\n",
    "        criterion = self.criterion\n",
    "        model.eval()\n",
    "\n",
    "        # Initialize metrics tracking\n",
    "        val_loss = 0\n",
    "        all_labels = []\n",
    "        all_predictions = []\n",
    "        all_probabilities = []\n",
    "\n",
    "        if verbose > 0:\n",
    "            dataloader = tqdm(dataloader, desc=\"Testing\")\n",
    "\n",
    "        with torch.no_grad():\n",
    "            with torch.amp.autocast('cuda'):\n",
    "                for inputs, labels in dataloader:\n",
    "                    inputs = inputs.to(self.DEVICE, non_blocking=True)\n",
    "                    labels = labels.to(self.DEVICE, non_blocking=True)\n",
    "\n",
    "                    if verbose > 2:\n",
    "                        print(f\"labels: {labels}\")\n",
    "\n",
    "                    # Forward pass\n",
    "                    logits = model(inputs)\n",
    "                    probs = F.softmax(logits, dim=1)\n",
    "\n",
    "                    if verbose > 3:\n",
    "                        print(f\"logits: {logits}\")\n",
    "                        print(f\"probs: {probs}\")\n",
    "\n",
    "                    # Calculate loss\n",
    "                    loss = criterion(logits, labels)\n",
    "                    val_loss += loss.item()\n",
    "\n",
    "                    # Get predictions\n",
    "                    predicted = torch.argmax(probs, dim=1)\n",
    "\n",
    "                    if verbose > 2:\n",
    "                        print(f\"predicted: {predicted}\")\n",
    "                        print(f\"true/false: {(predicted == labels)}\")\n",
    "\n",
    "                    # Store predictions and labels for later metric calculation\n",
    "                    all_labels.extend(labels.cpu().numpy())\n",
    "                    all_predictions.extend(predicted.cpu().numpy())\n",
    "                    all_probabilities.extend(probs.cpu().numpy())\n",
    "\n",
    "        # Calculate average loss\n",
    "        avg_loss = val_loss / len(dataloader)\n",
    "\n",
    "        # Convert lists to numpy arrays for easier manipulation\n",
    "        all_labels = np.array(all_labels)\n",
    "        all_predictions = np.array(all_predictions)\n",
    "        all_probabilities = np.array(all_probabilities)\n",
    "\n",
    "        # Calculate metrics for each class\n",
    "        num_classes = all_probabilities.shape[1]\n",
    "        metrics_dict = {\n",
    "            'accuracy': accuracy_score(all_labels, all_predictions),\n",
    "            'precision': precision_score(all_labels, all_predictions, average='macro', zero_division=0),\n",
    "            'recall': recall_score(all_labels, all_predictions, average='macro', zero_division=0),\n",
    "            'f1': f1_score(all_labels, all_predictions, average='macro', zero_division=0),\n",
    "            'per_class': {\n",
    "                'precision': precision_score(all_labels, all_predictions, average=None, zero_division=0),\n",
    "                'recall': recall_score(all_labels, all_predictions, average=None, zero_division=0),\n",
    "                'f1': f1_score(all_labels, all_predictions, average=None, zero_division=0)\n",
    "            }\n",
    "        }\n",
    "\n",
    "        # Prepare confusion matrix data\n",
    "        confusion_data = {\n",
    "            'true_labels': all_labels,\n",
    "            'predictions': all_predictions,\n",
    "            'probabilities': all_probabilities,\n",
    "            'num_classes': num_classes\n",
    "        }\n",
    "\n",
    "        return avg_loss, metrics_dict, confusion_data"
   ]
  },
  {
   "cell_type": "code",
   "execution_count": 23,
   "id": "e2776e4c",
   "metadata": {
    "execution": {
     "iopub.execute_input": "2025-03-20T23:04:28.932007Z",
     "iopub.status.busy": "2025-03-20T23:04:28.931785Z",
     "iopub.status.idle": "2025-03-20T23:04:28.934988Z",
     "shell.execute_reply": "2025-03-20T23:04:28.934378Z"
    },
    "papermill": {
     "duration": 0.015122,
     "end_time": "2025-03-20T23:04:28.936038",
     "exception": false,
     "start_time": "2025-03-20T23:04:28.920916",
     "status": "completed"
    },
    "tags": []
   },
   "outputs": [],
   "source": [
    "# model = FinetunableResnet101().to(device)\n",
    "model_path = '/kaggle/working/final_b1_model.pth'\n",
    "tester = b1_ModelTester(best_model, model_path, criterion, test_loader, device)"
   ]
  },
  {
   "cell_type": "code",
   "execution_count": 24,
   "id": "2a01ebb4",
   "metadata": {
    "execution": {
     "iopub.execute_input": "2025-03-20T23:04:29.003505Z",
     "iopub.status.busy": "2025-03-20T23:04:29.003165Z",
     "iopub.status.idle": "2025-03-20T23:04:44.219041Z",
     "shell.execute_reply": "2025-03-20T23:04:44.218075Z"
    },
    "papermill": {
     "duration": 15.228385,
     "end_time": "2025-03-20T23:04:44.220269",
     "exception": false,
     "start_time": "2025-03-20T23:04:28.991884",
     "status": "completed"
    },
    "tags": []
   },
   "outputs": [
    {
     "name": "stderr",
     "output_type": "stream",
     "text": [
      "Testing: 100%|██████████| 14/14 [00:15<00:00,  1.09s/it]\n"
     ]
    }
   ],
   "source": [
    "loss, metrics, confusion_data = tester.evaluate(verbose=1)"
   ]
  },
  {
   "cell_type": "code",
   "execution_count": 25,
   "id": "278b53cc",
   "metadata": {
    "execution": {
     "iopub.execute_input": "2025-03-20T23:04:44.243592Z",
     "iopub.status.busy": "2025-03-20T23:04:44.243338Z",
     "iopub.status.idle": "2025-03-20T23:04:44.577797Z",
     "shell.execute_reply": "2025-03-20T23:04:44.576978Z"
    },
    "papermill": {
     "duration": 0.34741,
     "end_time": "2025-03-20T23:04:44.579165",
     "exception": false,
     "start_time": "2025-03-20T23:04:44.231755",
     "status": "completed"
    },
    "tags": []
   },
   "outputs": [
    {
     "name": "stdout",
     "output_type": "stream",
     "text": [
      "Loss: 0.6701\n",
      "Accuracy: 0.7996\n",
      "Precision: 0.8115\n",
      "Recall: 0.8180\n",
      "F1 Score: 0.8142\n"
     ]
    },
    {
     "data": {
      "image/png": "[encoded data removed]",
      "text/plain": [
       "<Figure size 1000x800 with 2 Axes>"
      ]
     },
     "metadata": {},
     "output_type": "display_data"
    }
   ],
   "source": [
    "plotter.plot_test_b1(loss, metrics, confusion_data)"
   ]
  }
 ],
 "metadata": {
  "kaggle": {
   "accelerator": "gpu",
   "dataSources": [
    {
     "datasetId": 5561212,
     "sourceId": 9198495,
     "sourceType": "datasetVersion"
    },
    {
     "isSourceIdPinned": true,
     "modelId": 237157,
     "modelInstanceId": 215451,
     "sourceId": 252011,
     "sourceType": "modelInstanceVersion"
    }
   ],
   "isGpuEnabled": true,
   "isInternetEnabled": true,
   "language": "python",
   "sourceType": "notebook"
  },
  "kernelspec": {
   "display_name": "Python 3",
   "language": "python",
   "name": "python3"
  },
  "language_info": {
   "codemirror_mode": {
    "name": "ipython",
    "version": 3
   },
   "file_extension": ".py",
   "mimetype": "text/x-python",
   "name": "python",
   "nbconvert_exporter": "python",
   "pygments_lexer": "ipython3",
   "version": "3.10.12"
  },
  "papermill": {
   "default_parameters": {},
   "duration": 2087.901573,
   "end_time": "2025-03-20T23:04:47.417953",
   "environment_variables": {},
   "exception": null,
   "input_path": "__notebook__.ipynb",
   "output_path": "__notebook__.ipynb",
   "parameters": {},
   "start_time": "2025-03-20T22:29:59.516380",
   "version": "2.6.0"
  }
 },
 "nbformat": 4,
 "nbformat_minor": 5
}
