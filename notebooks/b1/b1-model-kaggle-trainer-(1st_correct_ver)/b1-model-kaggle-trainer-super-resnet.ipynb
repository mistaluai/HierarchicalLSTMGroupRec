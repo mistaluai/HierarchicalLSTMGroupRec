{
 "cells": [
  {
   "cell_type": "code",
   "execution_count": 1,
   "id": "bde71451",
   "metadata": {
    "execution": {
     "iopub.execute_input": "2025-03-01T23:16:47.501110Z",
     "iopub.status.busy": "2025-03-01T23:16:47.500724Z",
     "iopub.status.idle": "2025-03-01T23:16:57.152647Z",
     "shell.execute_reply": "2025-03-01T23:16:57.151973Z"
    },
    "papermill": {
     "duration": 9.662014,
     "end_time": "2025-03-01T23:16:57.154196",
     "exception": false,
     "start_time": "2025-03-01T23:16:47.492182",
     "status": "completed"
    },
    "tags": []
   },
   "outputs": [],
   "source": [
    "import torch\n",
    "import torch.nn as nn\n",
    "import torch.optim as optim\n",
    "from torch.utils.data import DataLoader\n",
    "from torchvision import transforms\n",
    "from tqdm import tqdm\n",
    "from torch.utils.data import Dataset\n",
    "import pandas as pd\n",
    "from PIL import Image\n",
    "import torchvision\n",
    "import os\n",
    "from torchvision.transforms import v2\n",
    "import glob\n",
    "import torch.nn.functional as F\n",
    "from torchvision.models import ResNet50_Weights\n",
    "from collections import Counter\n",
    "import matplotlib.pyplot as plt\n",
    "import numpy as np\n",
    "import glob\n",
    "import torch\n",
    "import torch.nn.functional as F\n",
    "import numpy as np\n",
    "from tqdm import tqdm\n",
    "import seaborn as sns\n",
    "from sklearn.metrics import (\n",
    "    accuracy_score,\n",
    "    precision_score,\n",
    "    recall_score,\n",
    "    f1_score,\n",
    "    confusion_matrix\n",
    ")"
   ]
  },
  {
   "cell_type": "markdown",
   "id": "b01b3ae8",
   "metadata": {
    "papermill": {
     "duration": 0.005192,
     "end_time": "2025-03-01T23:16:57.165450",
     "exception": false,
     "start_time": "2025-03-01T23:16:57.160258",
     "status": "completed"
    },
    "tags": []
   },
   "source": [
    "## Plotter"
   ]
  },
  {
   "cell_type": "code",
   "execution_count": 2,
   "id": "f0a32dd0",
   "metadata": {
    "execution": {
     "iopub.execute_input": "2025-03-01T23:16:57.177287Z",
     "iopub.status.busy": "2025-03-01T23:16:57.176858Z",
     "iopub.status.idle": "2025-03-01T23:16:57.183252Z",
     "shell.execute_reply": "2025-03-01T23:16:57.182596Z"
    },
    "papermill": {
     "duration": 0.013785,
     "end_time": "2025-03-01T23:16:57.184584",
     "exception": false,
     "start_time": "2025-03-01T23:16:57.170799",
     "status": "completed"
    },
    "tags": []
   },
   "outputs": [],
   "source": [
    "class Plotter:\n",
    "\n",
    "    def plot_training_val_b1(self, training_loss, val_loss, val_accuracy):\n",
    "        epochs = range(1, len(training_loss) + 1)\n",
    "\n",
    "        fig, ax1 = plt.subplots()\n",
    "        ax1.plot(epochs, training_loss, 'b-', label='Training Loss')\n",
    "        ax1.plot(epochs, val_loss, 'r-', label='Validation Loss')\n",
    "        ax1.set_xlabel('Epochs')\n",
    "        ax1.set_ylabel('Loss')\n",
    "        ax1.legend()\n",
    "        ax1.set_title('Training and Validation Loss')\n",
    "\n",
    "        plt.figure()\n",
    "        plt.plot(epochs, val_accuracy, 'g-', label='Validation Accuracy')\n",
    "        plt.xlabel('Epochs')\n",
    "        plt.ylabel('Accuracy')\n",
    "        plt.legend()\n",
    "        plt.title('Validation Accuracy')\n",
    "\n",
    "        plt.show()\n",
    "\n",
    "    def plot_test_b1(self, loss, metrics, confusion_data):\n",
    "        # Print metrics\n",
    "        print(f\"Loss: {loss:.4f}\")\n",
    "        print(f\"Accuracy: {metrics['accuracy']:.4f}\")\n",
    "        print(f\"Precision: {metrics['precision']:.4f}\")\n",
    "        print(f\"Recall: {metrics['recall']:.4f}\")\n",
    "        print(f\"F1 Score: {metrics['f1']:.4f}\")\n",
    "\n",
    "        # Plot confusion matrix\n",
    "        cm = confusion_matrix(confusion_data['true_labels'], confusion_data['predictions'])\n",
    "        plt.figure(figsize=(10, 8))\n",
    "        sns.heatmap(cm, annot=True, fmt='d', cmap='Blues')\n",
    "        plt.xlabel('Predicted')\n",
    "        plt.ylabel('True')\n",
    "        plt.title('Confusion Matrix')\n",
    "        plt.show()\n",
    "\n",
    "plotter = Plotter()"
   ]
  },
  {
   "cell_type": "markdown",
   "id": "e2eb348c",
   "metadata": {
    "papermill": {
     "duration": 0.005044,
     "end_time": "2025-03-01T23:16:57.195022",
     "exception": false,
     "start_time": "2025-03-01T23:16:57.189978",
     "status": "completed"
    },
    "tags": []
   },
   "source": [
    "## Data Processing"
   ]
  },
  {
   "cell_type": "code",
   "execution_count": 3,
   "id": "a1d9ed8e",
   "metadata": {
    "execution": {
     "iopub.execute_input": "2025-03-01T23:16:57.206422Z",
     "iopub.status.busy": "2025-03-01T23:16:57.206184Z",
     "iopub.status.idle": "2025-03-01T23:16:57.215934Z",
     "shell.execute_reply": "2025-03-01T23:16:57.215296Z"
    },
    "papermill": {
     "duration": 0.01692,
     "end_time": "2025-03-01T23:16:57.217170",
     "exception": false,
     "start_time": "2025-03-01T23:16:57.200250",
     "status": "completed"
    },
    "tags": []
   },
   "outputs": [],
   "source": [
    "class DataProcessorBaselineOne():\n",
    "    def __init__(self, videos_root, map_classes=True):\n",
    "        self.root = videos_root\n",
    "        self.data_classes = self.concat_annotations()\n",
    "        self.dataset = self.collect_video_data()\n",
    "\n",
    "        self.map_classes = map_classes\n",
    "        self.label_mapping = {'l-spike': 0, 'l_set': 1, 'r_set': 2, 'r-pass': 3, 'r_spike': 4, 'l-pass': 5, 'r_winpoint': 6, 'l_winpoint': 7}\n",
    "\n",
    "        self.dataset_df = self.__prepare_df()\n",
    "\n",
    "\n",
    "    def __prepare_df(self):\n",
    "        df = pd.DataFrame(self.dataset)\n",
    "        if self.map_classes:\n",
    "            df['mapped_class'] = df['class'].map(self.label_mapping)\n",
    "        return df\n",
    "\n",
    "    def get_dataset(self):\n",
    "        return self.dataset\n",
    "\n",
    "    def get_dataset_df(self):\n",
    "        return self.dataset_df\n",
    "\n",
    "    def __process_annotations(self, annotations_file):\n",
    "        data_dict = {}\n",
    "\n",
    "        with open(annotations_file, 'r') as file:\n",
    "            for line in file:\n",
    "                parts = line.strip().split()\n",
    "\n",
    "                if len(parts) > 1:  # Ensure there are at least 2 words\n",
    "                    filename = parts[0]  # First word is the filename\n",
    "                    action = parts[1]  # Second word is the action\n",
    "                    data_dict[filename] = action\n",
    "\n",
    "        return data_dict\n",
    "\n",
    "    def concat_annotations(self):\n",
    "        data_classes = {}\n",
    "        for video_folder in sorted(os.listdir(self.root)):  # Iterate over videos\n",
    "            video_path = os.path.join(self.root, video_folder)\n",
    "\n",
    "            if not os.path.isdir(video_path):\n",
    "                continue  # Skip files, process only directories\n",
    "\n",
    "            for annotation_folder in sorted(os.listdir(video_path)):  # Iterate over clips\n",
    "                annotation_path = os.path.join(video_path, annotation_folder)\n",
    "                if not os.path.isdir(annotation_path):\n",
    "                    if annotation_folder == 'annotations.txt':\n",
    "                        data_classes = {**self.__process_annotations(annotation_path), **data_classes}\n",
    "\n",
    "        return data_classes\n",
    "\n",
    "    def collect_video_data(self):\n",
    "        dataset = []  # List to store video data\n",
    "        missing = 0\n",
    "        for video_folder in sorted(os.listdir(self.root)):  # Iterate over videos\n",
    "            video_path = os.path.join(self.root, video_folder)\n",
    "            if not os.path.isdir(video_path):\n",
    "                continue  # Skip files, process only directories\n",
    "\n",
    "            for clip_folder in sorted(os.listdir(video_path)):  # Iterate over clips\n",
    "                clip_path = os.path.join(video_path, clip_folder)\n",
    "                if not os.path.isdir(clip_path):\n",
    "                    continue\n",
    "\n",
    "                frames = sorted(\n",
    "                    [os.path.join(clip_path, f) for f in os.listdir(clip_path) if f.endswith(\".jpg\")]\n",
    "                )\n",
    "                if len(frames) == 41:  # Ensure expected number of frames\n",
    "                    target_frame = frames[20]\n",
    "                    frame_name = target_frame.split('/')[-1]\n",
    "                    if frame_name in self.data_classes:\n",
    "                        class_name = self.data_classes[frame_name]\n",
    "                        dataset.append({\n",
    "                            \"video\": video_folder,\n",
    "                            \"clip\": clip_folder,\n",
    "                            \"frame\": target_frame,\n",
    "                            \"class\": class_name\n",
    "                        })\n",
    "                    else:\n",
    "                        missing += 1\n",
    "\n",
    "        print(f'missing {missing} frames')\n",
    "        return dataset"
   ]
  },
  {
   "cell_type": "markdown",
   "id": "31b32a03",
   "metadata": {
    "papermill": {
     "duration": 0.005165,
     "end_time": "2025-03-01T23:16:57.227819",
     "exception": false,
     "start_time": "2025-03-01T23:16:57.222654",
     "status": "completed"
    },
    "tags": []
   },
   "source": [
    "Make sure you want to run this before running it"
   ]
  },
  {
   "cell_type": "code",
   "execution_count": 4,
   "id": "abb27d58",
   "metadata": {
    "execution": {
     "iopub.execute_input": "2025-03-01T23:16:57.239545Z",
     "iopub.status.busy": "2025-03-01T23:16:57.239302Z",
     "iopub.status.idle": "2025-03-01T23:16:57.372428Z",
     "shell.execute_reply": "2025-03-01T23:16:57.371469Z"
    },
    "papermill": {
     "duration": 0.140799,
     "end_time": "2025-03-01T23:16:57.374120",
     "exception": false,
     "start_time": "2025-03-01T23:16:57.233321",
     "status": "completed"
    },
    "tags": []
   },
   "outputs": [
    {
     "name": "stdout",
     "output_type": "stream",
     "text": [
      "rm: cannot remove '/kaggle/working/': Device or resource busy\r\n"
     ]
    }
   ],
   "source": [
    "!rm -rf '/kaggle/working/'"
   ]
  },
  {
   "cell_type": "code",
   "execution_count": 5,
   "id": "4d615566",
   "metadata": {
    "execution": {
     "iopub.execute_input": "2025-03-01T23:16:57.386510Z",
     "iopub.status.busy": "2025-03-01T23:16:57.386265Z",
     "iopub.status.idle": "2025-03-01T23:17:55.727320Z",
     "shell.execute_reply": "2025-03-01T23:17:55.726409Z"
    },
    "papermill": {
     "duration": 58.354272,
     "end_time": "2025-03-01T23:17:55.734239",
     "exception": false,
     "start_time": "2025-03-01T23:16:57.379967",
     "status": "completed"
    },
    "tags": []
   },
   "outputs": [
    {
     "name": "stdout",
     "output_type": "stream",
     "text": [
      "missing 3 frames\n"
     ]
    }
   ],
   "source": [
    "base_path = '/kaggle/input/volleyball/volleyball_/videos/'\n",
    "df = DataProcessorBaselineOne(base_path).get_dataset_df()"
   ]
  },
  {
   "cell_type": "markdown",
   "id": "218c67b6",
   "metadata": {
    "papermill": {
     "duration": 0.005179,
     "end_time": "2025-03-01T23:17:55.744862",
     "exception": false,
     "start_time": "2025-03-01T23:17:55.739683",
     "status": "completed"
    },
    "tags": []
   },
   "source": [
    "## Model"
   ]
  },
  {
   "cell_type": "code",
   "execution_count": 6,
   "id": "ab2125a4",
   "metadata": {
    "execution": {
     "iopub.execute_input": "2025-03-01T23:17:55.756663Z",
     "iopub.status.busy": "2025-03-01T23:17:55.756392Z",
     "iopub.status.idle": "2025-03-01T23:17:55.761805Z",
     "shell.execute_reply": "2025-03-01T23:17:55.760989Z"
    },
    "papermill": {
     "duration": 0.012853,
     "end_time": "2025-03-01T23:17:55.763202",
     "exception": false,
     "start_time": "2025-03-01T23:17:55.750349",
     "status": "completed"
    },
    "tags": []
   },
   "outputs": [],
   "source": [
    "class ResnetEvolution(nn.Module):\n",
    "    def __init__(self, hidden_layers=[]):\n",
    "        super(ResnetEvolution, self).__init__()\n",
    "        self.hidden_layers = hidden_layers\n",
    "        self.model = self.__init_backbone(torchvision.models.resnet50(weights=ResNet50_Weights.IMAGENET1K_V2))\n",
    "\n",
    "    def __init_backbone(self, backbone):\n",
    "        num_features = backbone.fc.in_features\n",
    "\n",
    "        layers = []\n",
    "        input_size = num_features  # Start with backbone output size\n",
    "        for hidden_size in self.hidden_layers:\n",
    "            layers.append(nn.Linear(input_size, hidden_size))\n",
    "            layers.append(nn.ReLU())  # Activation function\n",
    "            input_size = hidden_size  # Update input for next layer\n",
    "\n",
    "        layers.append(nn.Linear(input_size, 8))  # Final output layer\n",
    "\n",
    "        backbone.fc = nn.Sequential(*layers)  # Output layer for binary classification\n",
    "\n",
    "        return backbone\n",
    "\n",
    "    def get_fc(self):\n",
    "        return self.model.fc\n",
    "\n",
    "    def forward(self, images):\n",
    "        return self.model(images)"
   ]
  },
  {
   "cell_type": "markdown",
   "id": "c2da7dc1",
   "metadata": {
    "papermill": {
     "duration": 0.005363,
     "end_time": "2025-03-01T23:17:55.774060",
     "exception": false,
     "start_time": "2025-03-01T23:17:55.768697",
     "status": "completed"
    },
    "tags": []
   },
   "source": [
    "## Training Utils"
   ]
  },
  {
   "cell_type": "code",
   "execution_count": 7,
   "id": "d66b7c19",
   "metadata": {
    "execution": {
     "iopub.execute_input": "2025-03-01T23:17:55.785582Z",
     "iopub.status.busy": "2025-03-01T23:17:55.785372Z",
     "iopub.status.idle": "2025-03-01T23:17:55.791106Z",
     "shell.execute_reply": "2025-03-01T23:17:55.790491Z"
    },
    "papermill": {
     "duration": 0.012921,
     "end_time": "2025-03-01T23:17:55.792364",
     "exception": false,
     "start_time": "2025-03-01T23:17:55.779443",
     "status": "completed"
    },
    "tags": []
   },
   "outputs": [],
   "source": [
    "class TrainingUtilities:\n",
    "    @staticmethod\n",
    "    def save_model(model, model_descriptor, save_folder, verbose=0):\n",
    "        torch.save(model.state_dict(), save_folder + f\"/{model_descriptor}b1_model.pth\")\n",
    "        if verbose > 0:\n",
    "            print(f\"Saved model to {save_folder}/b1_model.pth\")\n",
    "\n",
    "    @staticmethod\n",
    "    def save_checkpoint(epoch, model_state_dict, optimizer_state_dict, scheduler_state_dict=None, save_folder='', verbose=0):\n",
    "        checkpoint = {\n",
    "            'epoch': epoch,\n",
    "            'model_state_dict': model_state_dict,\n",
    "            'optimizer_state_dict': optimizer_state_dict,\n",
    "            'scheduler_state_dict': scheduler_state_dict\n",
    "        }\n",
    "        torch.save(checkpoint, save_folder + f'/checkpoint-epoch{epoch}.pth')\n",
    "        if verbose > 0:\n",
    "            print(f'Saved checkpoint to {save_folder}/checkpoint-epoch{epoch}.pth')\n",
    "\n",
    "    @staticmethod\n",
    "    def load_checkpoint(model, optimizer, checkpoint_path, scheduled, verbose=0):\n",
    "        checkpoint = torch.load(checkpoint_path)\n",
    "\n",
    "        if verbose > 0:\n",
    "            print(f\"Loading checkpoint from {checkpoint_path}\")\n",
    "\n",
    "        epoch = checkpoint['epoch']\n",
    "        model_state_dict = checkpoint['model_state_dict']\n",
    "        optimizer_state_dict = checkpoint['optimizer_state_dict']\n",
    "        scheduler_state_dict = checkpoint['scheduler_state_dict']\n",
    "        model = model.load_state_dict(model_state_dict)\n",
    "        if scheduled:\n",
    "            optimizer.load_state_dict(optimizer_state_dict, scheduler_state_dict)\n",
    "        else:\n",
    "            optimizer = optimizer.load_state_dict(optimizer_state_dict)\n",
    "        return epoch, model, optimizer"
   ]
  },
  {
   "cell_type": "markdown",
   "id": "a18fe739",
   "metadata": {
    "papermill": {
     "duration": 0.00517,
     "end_time": "2025-03-01T23:17:55.803135",
     "exception": false,
     "start_time": "2025-03-01T23:17:55.797965",
     "status": "completed"
    },
    "tags": []
   },
   "source": [
    "## Trainer"
   ]
  },
  {
   "cell_type": "code",
   "execution_count": 8,
   "id": "0601b76c",
   "metadata": {
    "execution": {
     "iopub.execute_input": "2025-03-01T23:17:55.814886Z",
     "iopub.status.busy": "2025-03-01T23:17:55.814673Z",
     "iopub.status.idle": "2025-03-01T23:17:55.830074Z",
     "shell.execute_reply": "2025-03-01T23:17:55.829437Z"
    },
    "papermill": {
     "duration": 0.022864,
     "end_time": "2025-03-01T23:17:55.831384",
     "exception": false,
     "start_time": "2025-03-01T23:17:55.808520",
     "status": "completed"
    },
    "tags": []
   },
   "outputs": [],
   "source": [
    "class b1_ModelTrainer:\n",
    "    def __init__(self, model, optimizer, scheduled, criterion, epochs, dataloaders, device, save_folder,\n",
    "                 is_continue=False, checkpoint=None):\n",
    "        self.model = model\n",
    "        self.optimizer = optimizer\n",
    "        self.scheduled = scheduled\n",
    "        self.criterion = criterion\n",
    "        self.epochs = epochs\n",
    "        self.dataloaders = dataloaders\n",
    "        self.DEVICE = device\n",
    "        self.save_folder = save_folder\n",
    "        self.is_continue = is_continue\n",
    "        self.checkpoint = checkpoint\n",
    "        self.scaler = torch.amp.GradScaler()\n",
    "\n",
    "    # verbose 1 : checkpoint,\n",
    "    # verbose 3:  labels, preds\n",
    "    # verbose 4: logits\n",
    "    def train_model(self, verbose=0):\n",
    "        model, optimizer, criterion, epochs, dataloaders, scaler = self.model, self.optimizer, self.criterion, self.epochs, self.dataloaders, self.scaler\n",
    "\n",
    "        epoch = 0\n",
    "\n",
    "        train_losses = []\n",
    "        val_losses = []\n",
    "        val_accuracies = []\n",
    "\n",
    "        if self.is_continue:\n",
    "\n",
    "            if verbose > 0:\n",
    "                print(f\"Continuing from checkpoint {self.checkpoint}\")\n",
    "\n",
    "            epoch, model, optimizer = self.__load_checkpoint(model, optimizer, self.checkpoint, verbose)\n",
    "\n",
    "        for training_epoch in range(epoch, epochs):\n",
    "\n",
    "            print(f\"\\nTraining epoch {training_epoch+1}\")\n",
    "\n",
    "            ## change model mode depending on the phase\n",
    "            for phase in ['train', 'val']:\n",
    "                dataloader = dataloaders[phase]\n",
    "                epoch_loss = 0  # Track total loss for the epoch\n",
    "                if phase == 'train':\n",
    "                    if verbose > 0:\n",
    "                        dataloader = tqdm(dataloader, desc=phase)\n",
    "                    model.train()\n",
    "                    for inputs, labels in dataloader:\n",
    "\n",
    "                        inputs = inputs.to(self.DEVICE)\n",
    "                        labels = labels.to(self.DEVICE)\n",
    "\n",
    "                        if verbose > 3:\n",
    "                            print(f\"labels: {labels}\")\n",
    "\n",
    "                        # zero grads of he optim\n",
    "                        optimizer.zero_grad()\n",
    "\n",
    "                        # freeze the non-learnable weights\n",
    "                        # self.__handle_transfer_learning(phase, training_epoch / epochs)\n",
    "\n",
    "                        with torch.amp.autocast('cuda'):\n",
    "                            # forward pass\n",
    "                            logit = model(inputs)\n",
    "\n",
    "                            if verbose > 3:\n",
    "                                print(f\"logit: {logit}\")\n",
    "\n",
    "                            loss = criterion(logit, labels)\n",
    "\n",
    "                        scaler.scale(loss).backward()\n",
    "                        optimizer.step(scaler)\n",
    "                        scaler.update()\n",
    "\n",
    "                        epoch_loss += loss.item()  # Accumulate loss\n",
    "\n",
    "                    train_losses.append(epoch_loss / len(dataloader))\n",
    "                    print(\n",
    "                        f\"Epoch {training_epoch + 1}/{epochs}, {phase} Loss: {epoch_loss / len(dataloader)}\")  # Print loss\n",
    "                else:\n",
    "                    # skip evaluation if no suitable dataloader\n",
    "                    if dataloaders[phase] is None:\n",
    "                        continue\n",
    "                    model.eval()\n",
    "                    loss, acc = self.__eval_model(dataloader, verbose)\n",
    "                    val_losses.append(loss)\n",
    "                    val_accuracies.append(acc)\n",
    "                    print(\n",
    "                        f\"Epoch {training_epoch + 1}/{epochs}, ({phase}) Loss: {loss} | Accuracy: {acc}\")  # Print loss\n",
    "\n",
    "            if self.scheduled:\n",
    "                optimizer.scheduler_step()\n",
    "                TrainingUtilities.save_checkpoint(training_epoch, model.state_dict(), optimizer.optimizer_state_dict(),\n",
    "                                       optimizer.scheduler_state_dict(), self.save_folder, verbose)\n",
    "            else:\n",
    "                TrainingUtilities.save_checkpoint(training_epoch, model.state_dict(), optimizer.state_dict(),self.save_folder, verbose)\n",
    "\n",
    "            if training_epoch % 10 == 0:\n",
    "                TrainingUtilities.save_model(model, training_epoch, self.save_folder,verbose)\n",
    "\n",
    "        TrainingUtilities.save_model(model, 'final_', self.save_folder, verbose)\n",
    "        return train_losses, val_losses, val_accuracies\n",
    "\n",
    "    def __handle_transfer_learning(self, phase, ratio_epochs, tl_coeff=0, verbose=0):\n",
    "        if phase == \"train\":\n",
    "            if self.__check_transfer_learning(ratio_epochs, tl_coeff):\n",
    "                # Unfreeze all layers for fine-tuning\n",
    "                for param in self.model.parameters():\n",
    "                    param.requires_grad = True\n",
    "            else:\n",
    "                # Freeze the CNN part\n",
    "                for param in self.model.parameters():\n",
    "                    param.requires_grad = False\n",
    "                # Unfreeze the classification layer\n",
    "                for param in self.model.get_fc().parameters():\n",
    "                    param.requires_grad = True\n",
    "        elif phase == \"val\":\n",
    "            for param in self.model.parameters():\n",
    "                param.requires_grad = False\n",
    "\n",
    "    def __check_transfer_learning(self, ratio_epochs, tl_coeff=0):\n",
    "        return ratio_epochs >= tl_coeff\n",
    "\n",
    "    def __eval_model(self, dataloader, verbose=0):\n",
    "        model = self.model\n",
    "        criterion = self.criterion\n",
    "        model.eval()\n",
    "        val_loss = 0\n",
    "        correct_preds = 0\n",
    "        total_preds = 0\n",
    "        if verbose > 0:\n",
    "            dataloader = tqdm(dataloader, desc=\"Validation\")\n",
    "        with torch.no_grad():\n",
    "            with torch.amp.autocast('cuda'):\n",
    "                for inputs, labels in dataloader:\n",
    "                    inputs = inputs.to(self.DEVICE)\n",
    "                    labels = labels.to(self.DEVICE)\n",
    "\n",
    "                    if verbose > 2:\n",
    "                        print(f\"labels: {labels}\")\n",
    "\n",
    "                    # Forward pass\n",
    "                    logits = model(inputs)\n",
    "\n",
    "                    if verbose > 3:\n",
    "                        print(f\"logit: {logits}\")\n",
    "\n",
    "                    probs = F.softmax(logits, dim=1)  # Apply softmax to get probabilities\n",
    "\n",
    "                    if verbose > 3:\n",
    "                        print(f\"probs: {probs}\")\n",
    "\n",
    "                    loss = criterion(logits, labels)\n",
    "                    val_loss += loss.item()  # Accumulate loss\n",
    "\n",
    "                    # Compute accuracy\n",
    "                    predicted = torch.argmax(probs, dim=1)  # Get the class with the highest probability\n",
    "\n",
    "                    if verbose > 2:\n",
    "                        print(f\"predicted: {predicted}\")\n",
    "                        print(f\"true/false: {(predicted == labels)}\")\n",
    "\n",
    "                    correct_preds += (predicted == labels).sum().item()\n",
    "                    total_preds += labels.size(0)\n",
    "\n",
    "        # Calculate average loss and accuracy\n",
    "        avg_loss = val_loss / len(dataloader)\n",
    "        accuracy = correct_preds / total_preds\n",
    "        return avg_loss, accuracy"
   ]
  },
  {
   "cell_type": "markdown",
   "id": "fbc76f34",
   "metadata": {
    "papermill": {
     "duration": 0.005487,
     "end_time": "2025-03-01T23:17:55.842455",
     "exception": false,
     "start_time": "2025-03-01T23:17:55.836968",
     "status": "completed"
    },
    "tags": []
   },
   "source": [
    "## Dataset"
   ]
  },
  {
   "cell_type": "code",
   "execution_count": 9,
   "id": "2320b531",
   "metadata": {
    "execution": {
     "iopub.execute_input": "2025-03-01T23:17:55.854928Z",
     "iopub.status.busy": "2025-03-01T23:17:55.854638Z",
     "iopub.status.idle": "2025-03-01T23:17:55.861761Z",
     "shell.execute_reply": "2025-03-01T23:17:55.860960Z"
    },
    "papermill": {
     "duration": 0.014398,
     "end_time": "2025-03-01T23:17:55.863068",
     "exception": false,
     "start_time": "2025-03-01T23:17:55.848670",
     "status": "completed"
    },
    "tags": []
   },
   "outputs": [],
   "source": [
    "class B1Dataset(Dataset):\n",
    "\n",
    "    VIDEO_SPLITS = {\n",
    "        'train': {1, 3, 6, 7, 10, 13, 15, 16, 18, 22, 23, 31, 32, 36, 38, 39, 40, 41, 42, 48, 50, 52, 53, 54},\n",
    "        'val': {0, 2, 8, 12, 17, 19, 24, 26, 27, 28, 30, 33, 46, 49, 51},\n",
    "        'test': {4, 5, 9, 11, 14, 20, 21, 25, 29, 34, 35, 37, 43, 44, 45, 47}\n",
    "    }\n",
    "\n",
    "    def __init__(self, data, split='train', transform=None):\n",
    "        self.data = data\n",
    "        if transform is None:\n",
    "            self.transform = transforms.Compose([\n",
    "                transforms.Resize((256, 256)),\n",
    "                transforms.CenterCrop((224, 224)),\n",
    "                transforms.ToTensor(),\n",
    "                transforms.Normalize(mean=[0.485, 0.456, 0.406], std=[0.229, 0.224, 0.225]),\n",
    "            ])\n",
    "        else:\n",
    "            self.transform = transform\n",
    "\n",
    "        if split in self.VIDEO_SPLITS:\n",
    "            self.data = self.data[self.data['video'].astype(int).isin(self.VIDEO_SPLITS[split])]\n",
    "        else:\n",
    "            raise NameError(f'There is no such split: {split}, only {self.VIDEO_SPLITS}')\n",
    "\n",
    "    def __len__(self):\n",
    "        return len(self.data)\n",
    "\n",
    "    def __getitem__(self, idx):\n",
    "        img_path = self.data.iloc[idx]['frame']\n",
    "        label = self.data.iloc[idx]['mapped_class']\n",
    "\n",
    "        # Load image\n",
    "        image = Image.open(img_path).convert(\"RGB\")\n",
    "\n",
    "        # Apply transformations if provided\n",
    "        if self.transform:\n",
    "            image = self.transform(image)\n",
    "        return image, torch.tensor(label, dtype=torch.long)"
   ]
  },
  {
   "cell_type": "markdown",
   "id": "8e542d8b",
   "metadata": {
    "papermill": {
     "duration": 0.005323,
     "end_time": "2025-03-01T23:17:55.874423",
     "exception": false,
     "start_time": "2025-03-01T23:17:55.869100",
     "status": "completed"
    },
    "tags": []
   },
   "source": [
    "## Loss"
   ]
  },
  {
   "cell_type": "code",
   "execution_count": 10,
   "id": "8e3bb63c",
   "metadata": {
    "execution": {
     "iopub.execute_input": "2025-03-01T23:17:55.886393Z",
     "iopub.status.busy": "2025-03-01T23:17:55.886085Z",
     "iopub.status.idle": "2025-03-01T23:17:55.891660Z",
     "shell.execute_reply": "2025-03-01T23:17:55.890798Z"
    },
    "papermill": {
     "duration": 0.013147,
     "end_time": "2025-03-01T23:17:55.893079",
     "exception": false,
     "start_time": "2025-03-01T23:17:55.879932",
     "status": "completed"
    },
    "tags": []
   },
   "outputs": [],
   "source": [
    "class WeightedCrossEntropyLoss(torch.nn.Module):\n",
    "    def __init__(self, dataset, device):\n",
    "        super(WeightedCrossEntropyLoss, self).__init__()\n",
    "        self.dataset = dataset\n",
    "        self.device = device\n",
    "        weight = self.__compute_weights()\n",
    "        self.loss = nn.CrossEntropyLoss(weight=weight)\n",
    "\n",
    "    def __compute_weights(self):\n",
    "        print('Computing weights...')\n",
    "        label_counts = Counter([label.item() for _, label in self.dataset])\n",
    "        total_samples = len(self.dataset)\n",
    "\n",
    "        class_weights = [total_samples / label_counts[i] if i in label_counts else 0 for i in range(8)]\n",
    "\n",
    "        weights = torch.tensor(class_weights, dtype=torch.float32).to(self.device)\n",
    "        print('Weights computed.')\n",
    "        return weights\n",
    "\n",
    "    def forward(self, logit, target):\n",
    "        return self.loss(logit, target)"
   ]
  },
  {
   "cell_type": "markdown",
   "id": "e46a0d79",
   "metadata": {
    "papermill": {
     "duration": 0.005172,
     "end_time": "2025-03-01T23:17:55.903870",
     "exception": false,
     "start_time": "2025-03-01T23:17:55.898698",
     "status": "completed"
    },
    "tags": []
   },
   "source": [
    "## Optimizer"
   ]
  },
  {
   "cell_type": "code",
   "execution_count": 11,
   "id": "ed3e9e64",
   "metadata": {
    "execution": {
     "iopub.execute_input": "2025-03-01T23:17:55.915404Z",
     "iopub.status.busy": "2025-03-01T23:17:55.915168Z",
     "iopub.status.idle": "2025-03-01T23:17:55.920115Z",
     "shell.execute_reply": "2025-03-01T23:17:55.919323Z"
    },
    "papermill": {
     "duration": 0.012167,
     "end_time": "2025-03-01T23:17:55.921375",
     "exception": false,
     "start_time": "2025-03-01T23:17:55.909208",
     "status": "completed"
    },
    "tags": []
   },
   "outputs": [],
   "source": [
    "class AdamWScheduled():\n",
    "    def __init__(self, model_params, lr, step_size, gamma):\n",
    "        self.optimizer = optim.AdamW(filter(lambda p: p.requires_grad, model_params),  lr=lr)\n",
    "        self.scheduler = optim.lr_scheduler.StepLR(self.optimizer, step_size, gamma)\n",
    "\n",
    "    def step(self, scaler):\n",
    "        scaler.step(self.optimizer)\n",
    "\n",
    "    def zero_grad(self):\n",
    "        self.optimizer.zero_grad()\n",
    "\n",
    "    def scheduler_step(self):\n",
    "        self.scheduler.step()\n",
    "\n",
    "    def optimizer_state_dict(self):\n",
    "        return self.optimizer.state_dict()\n",
    "\n",
    "    def scheduler_state_dict(self):\n",
    "        return self.scheduler.state_dict()\n",
    "\n",
    "    def load_state_dict(self, optimizer_state_dict, scheduler_state_dict):\n",
    "        self.optimizer.load_state_dict(optimizer_state_dict)\n",
    "        self.scheduler.load_state_dict(scheduler_state_dict)"
   ]
  },
  {
   "cell_type": "markdown",
   "id": "b0d1a3b0",
   "metadata": {
    "papermill": {
     "duration": 0.005153,
     "end_time": "2025-03-01T23:17:55.931799",
     "exception": false,
     "start_time": "2025-03-01T23:17:55.926646",
     "status": "completed"
    },
    "tags": []
   },
   "source": [
    "## Dataloaders and Transforms"
   ]
  },
  {
   "cell_type": "code",
   "execution_count": 12,
   "id": "c6235a2c",
   "metadata": {
    "execution": {
     "iopub.execute_input": "2025-03-01T23:17:55.943354Z",
     "iopub.status.busy": "2025-03-01T23:17:55.943116Z",
     "iopub.status.idle": "2025-03-01T23:17:56.007459Z",
     "shell.execute_reply": "2025-03-01T23:17:56.006627Z"
    },
    "papermill": {
     "duration": 0.071564,
     "end_time": "2025-03-01T23:17:56.008788",
     "exception": false,
     "start_time": "2025-03-01T23:17:55.937224",
     "status": "completed"
    },
    "tags": []
   },
   "outputs": [
    {
     "data": {
      "text/plain": [
       "device(type='cuda')"
      ]
     },
     "execution_count": 12,
     "metadata": {},
     "output_type": "execute_result"
    }
   ],
   "source": [
    "device = torch.device('cuda' if torch.cuda.is_available() else 'cpu')\n",
    "device"
   ]
  },
  {
   "cell_type": "code",
   "execution_count": 13,
   "id": "2c28f1b6",
   "metadata": {
    "execution": {
     "iopub.execute_input": "2025-03-01T23:17:56.021281Z",
     "iopub.status.busy": "2025-03-01T23:17:56.021018Z",
     "iopub.status.idle": "2025-03-01T23:17:56.035513Z",
     "shell.execute_reply": "2025-03-01T23:17:56.034646Z"
    },
    "papermill": {
     "duration": 0.022589,
     "end_time": "2025-03-01T23:17:56.037192",
     "exception": false,
     "start_time": "2025-03-01T23:17:56.014603",
     "status": "completed"
    },
    "tags": []
   },
   "outputs": [],
   "source": [
    "train_transform = transforms.Compose([\n",
    "    transforms.Resize(256),            # Resize shorter side to 256     \n",
    "    transforms.RandomResizedCrop(224),  # Randomly crop and resize to 224x224\n",
    "    transforms.RandomRotation(degrees=5),                   # Randomly rotate images within ±5 degrees\n",
    "    transforms.ToTensor(),                                   # Convert PIL images to PyTorch tensors\n",
    "    transforms.Normalize(mean=[0.485, 0.456, 0.406],        # Normalize using ImageNet mean and std values\n",
    "                         std=[0.229, 0.224, 0.225]),         # (mean and std are the same used during ResNet pre-training)\n",
    "])\n",
    "\n",
    "train_dataset = B1Dataset(df, split='train', transform=train_transform)\n",
    "val_dataset = B1Dataset(df, split='val')\n",
    "test_dataset = B1Dataset(df, split='test')"
   ]
  },
  {
   "cell_type": "code",
   "execution_count": 14,
   "id": "3ddeef16",
   "metadata": {
    "execution": {
     "iopub.execute_input": "2025-03-01T23:17:56.050559Z",
     "iopub.status.busy": "2025-03-01T23:17:56.050299Z",
     "iopub.status.idle": "2025-03-01T23:17:56.054738Z",
     "shell.execute_reply": "2025-03-01T23:17:56.054102Z"
    },
    "papermill": {
     "duration": 0.012128,
     "end_time": "2025-03-01T23:17:56.056057",
     "exception": false,
     "start_time": "2025-03-01T23:17:56.043929",
     "status": "completed"
    },
    "tags": []
   },
   "outputs": [],
   "source": [
    "batch_size = 150\n",
    "train_loader = DataLoader(train_dataset, batch_size=batch_size, shuffle=True, num_workers=4)\n",
    "val_loader = DataLoader(val_dataset, batch_size=batch_size, shuffle=False, num_workers=4)\n",
    "test_loader = DataLoader(test_dataset, batch_size=batch_size, shuffle=False, num_workers=4)\n",
    "dataloaders = {'train': train_loader, 'val': val_loader}"
   ]
  },
  {
   "cell_type": "code",
   "execution_count": 15,
   "id": "7bdf62c2",
   "metadata": {
    "execution": {
     "iopub.execute_input": "2025-03-01T23:17:56.067972Z",
     "iopub.status.busy": "2025-03-01T23:17:56.067721Z",
     "iopub.status.idle": "2025-03-01T23:17:56.197901Z",
     "shell.execute_reply": "2025-03-01T23:17:56.196705Z"
    },
    "papermill": {
     "duration": 0.137928,
     "end_time": "2025-03-01T23:17:56.199658",
     "exception": false,
     "start_time": "2025-03-01T23:17:56.061730",
     "status": "completed"
    },
    "tags": []
   },
   "outputs": [],
   "source": [
    "!mkdir '/kaggle/working/checkpoints/'"
   ]
  },
  {
   "cell_type": "markdown",
   "id": "bc7af0a7",
   "metadata": {
    "papermill": {
     "duration": 0.005551,
     "end_time": "2025-03-01T23:17:56.211161",
     "exception": false,
     "start_time": "2025-03-01T23:17:56.205610",
     "status": "completed"
    },
    "tags": []
   },
   "source": [
    "## Custom Criterion"
   ]
  },
  {
   "cell_type": "code",
   "execution_count": 16,
   "id": "7896fbe3",
   "metadata": {
    "execution": {
     "iopub.execute_input": "2025-03-01T23:17:56.223179Z",
     "iopub.status.busy": "2025-03-01T23:17:56.222869Z",
     "iopub.status.idle": "2025-03-01T23:18:50.137404Z",
     "shell.execute_reply": "2025-03-01T23:18:50.136463Z"
    },
    "papermill": {
     "duration": 53.927087,
     "end_time": "2025-03-01T23:18:50.143805",
     "exception": false,
     "start_time": "2025-03-01T23:17:56.216718",
     "status": "completed"
    },
    "tags": []
   },
   "outputs": [
    {
     "name": "stdout",
     "output_type": "stream",
     "text": [
      "Computing weights...\n",
      "Weights computed.\n"
     ]
    }
   ],
   "source": [
    "criterion = WeightedCrossEntropyLoss(train_dataset, device)"
   ]
  },
  {
   "cell_type": "markdown",
   "id": "c644577b",
   "metadata": {
    "papermill": {
     "duration": 0.00568,
     "end_time": "2025-03-01T23:18:50.155107",
     "exception": false,
     "start_time": "2025-03-01T23:18:50.149427",
     "status": "completed"
    },
    "tags": []
   },
   "source": [
    "## Model Training"
   ]
  },
  {
   "cell_type": "code",
   "execution_count": 17,
   "id": "4253452a",
   "metadata": {
    "execution": {
     "iopub.execute_input": "2025-03-01T23:18:50.166892Z",
     "iopub.status.busy": "2025-03-01T23:18:50.166641Z",
     "iopub.status.idle": "2025-03-01T23:18:51.363889Z",
     "shell.execute_reply": "2025-03-01T23:18:51.363209Z"
    },
    "papermill": {
     "duration": 1.204839,
     "end_time": "2025-03-01T23:18:51.365477",
     "exception": false,
     "start_time": "2025-03-01T23:18:50.160638",
     "status": "completed"
    },
    "tags": []
   },
   "outputs": [
    {
     "name": "stderr",
     "output_type": "stream",
     "text": [
      "Downloading: \"https://download.pytorch.org/models/resnet50-11ad3fa6.pth\" to /root/.cache/torch/hub/checkpoints/resnet50-11ad3fa6.pth\n",
      "100%|██████████| 97.8M/97.8M [00:00<00:00, 192MB/s]\n"
     ]
    }
   ],
   "source": [
    "model = ResnetEvolution(hidden_layers=[])\n",
    "model = model.to(device)\n",
    "optimizer = AdamWScheduled(model_params=model.parameters(), lr=0.001, step_size=2, gamma=0.6)\n",
    "\n",
    "save_folder = '/kaggle/working/'\n",
    "trainer = b1_ModelTrainer(model, optimizer,True, criterion, epochs=30, dataloaders=dataloaders, device=device, save_folder=save_folder)"
   ]
  },
  {
   "cell_type": "code",
   "execution_count": 18,
   "id": "5b4762a1",
   "metadata": {
    "execution": {
     "iopub.execute_input": "2025-03-01T23:18:51.379481Z",
     "iopub.status.busy": "2025-03-01T23:18:51.379229Z",
     "iopub.status.idle": "2025-03-01T23:33:34.436475Z",
     "shell.execute_reply": "2025-03-01T23:33:34.435378Z"
    },
    "papermill": {
     "duration": 883.065903,
     "end_time": "2025-03-01T23:33:34.438310",
     "exception": false,
     "start_time": "2025-03-01T23:18:51.372407",
     "status": "completed"
    },
    "tags": []
   },
   "outputs": [
    {
     "name": "stdout",
     "output_type": "stream",
     "text": [
      "\n",
      "Training epoch 1\n",
      "Epoch 1/30, train Loss: 1.9877105553944905\n",
      "Epoch 1/30, (val) Loss: 8.56847752465142 | Accuracy: 0.1715137956748695\n",
      "\n",
      "Training epoch 2\n",
      "Epoch 2/30, train Loss: 1.628822127978007\n",
      "Epoch 2/30, (val) Loss: 2.129059765073988 | Accuracy: 0.2960477255779269\n",
      "\n",
      "Training epoch 3\n",
      "Epoch 3/30, train Loss: 1.4820833524068198\n",
      "Epoch 3/30, (val) Loss: 1.5553545819388495 | Accuracy: 0.44668158090976884\n",
      "\n",
      "Training epoch 4\n",
      "Epoch 4/30, train Loss: 1.3604434728622437\n",
      "Epoch 4/30, (val) Loss: 1.637855503294203 | Accuracy: 0.39671886651752425\n",
      "\n",
      "Training epoch 5\n",
      "Epoch 5/30, train Loss: 1.3093400955200196\n",
      "Epoch 5/30, (val) Loss: 1.489213850763109 | Accuracy: 0.4891871737509321\n",
      "\n",
      "Training epoch 6\n",
      "Epoch 6/30, train Loss: 1.2121087153752645\n",
      "Epoch 6/30, (val) Loss: 1.4260320001178317 | Accuracy: 0.5093214019388516\n",
      "\n",
      "Training epoch 7\n",
      "Epoch 7/30, train Loss: 1.136126987139384\n",
      "Epoch 7/30, (val) Loss: 1.3395677076445685 | Accuracy: 0.5689783743475019\n",
      "\n",
      "Training epoch 8\n",
      "Epoch 8/30, train Loss: 1.1092886765797934\n",
      "Epoch 8/30, (val) Loss: 1.5431855652067397 | Accuracy: 0.4809843400447427\n",
      "\n",
      "Training epoch 9\n",
      "Epoch 9/30, train Loss: 1.0347099781036377\n",
      "Epoch 9/30, (val) Loss: 1.357061677508884 | Accuracy: 0.5659955257270693\n",
      "\n",
      "Training epoch 10\n",
      "Epoch 10/30, train Loss: 1.0305160959561666\n",
      "Epoch 10/30, (val) Loss: 1.3174304564793904 | Accuracy: 0.5958240119313944\n",
      "\n",
      "Training epoch 11\n",
      "Epoch 11/30, train Loss: 0.957477581501007\n",
      "Epoch 11/30, (val) Loss: 1.3415581583976746 | Accuracy: 0.5883668903803132\n",
      "\n",
      "Training epoch 12\n",
      "Epoch 12/30, train Loss: 0.9325319528579712\n",
      "Epoch 12/30, (val) Loss: 1.3473222719298468 | Accuracy: 0.5965697240865027\n",
      "\n",
      "Training epoch 13\n",
      "Epoch 13/30, train Loss: 0.8823529005050659\n",
      "Epoch 13/30, (val) Loss: 1.3774870104259915 | Accuracy: 0.5741983594332588\n",
      "\n",
      "Training epoch 14\n",
      "Epoch 14/30, train Loss: 0.9072473565737407\n",
      "Epoch 14/30, (val) Loss: 1.3471622400813632 | Accuracy: 0.5928411633109619\n",
      "\n",
      "Training epoch 15\n",
      "Epoch 15/30, train Loss: 0.8644123355547587\n",
      "Epoch 15/30, (val) Loss: 1.3481886850463018 | Accuracy: 0.5965697240865027\n",
      "\n",
      "Training epoch 16\n",
      "Epoch 16/30, train Loss: 0.8570704420407613\n",
      "Epoch 16/30, (val) Loss: 1.3541333807839289 | Accuracy: 0.6055182699478001\n",
      "\n",
      "Training epoch 17\n",
      "Epoch 17/30, train Loss: 0.9091213186581929\n",
      "Epoch 17/30, (val) Loss: 1.3554362720913358 | Accuracy: 0.6085011185682326\n",
      "\n",
      "Training epoch 18\n",
      "Epoch 18/30, train Loss: 0.8552039662996928\n",
      "Epoch 18/30, (val) Loss: 1.3557465540038214 | Accuracy: 0.6055182699478001\n",
      "\n",
      "Training epoch 19\n",
      "Epoch 19/30, train Loss: 0.8523674607276917\n",
      "Epoch 19/30, (val) Loss: 1.3637280066808064 | Accuracy: 0.5965697240865027\n",
      "\n",
      "Training epoch 20\n",
      "Epoch 20/30, train Loss: 0.8753168225288391\n",
      "Epoch 20/30, (val) Loss: 1.3597105344136555 | Accuracy: 0.5965697240865027\n",
      "\n",
      "Training epoch 21\n",
      "Epoch 21/30, train Loss: 0.8690159400304158\n",
      "Epoch 21/30, (val) Loss: 1.3523578842480977 | Accuracy: 0.6002982848620433\n",
      "\n",
      "Training epoch 22\n",
      "Epoch 22/30, train Loss: 0.8510786970456441\n",
      "Epoch 22/30, (val) Loss: 1.3624345925119188 | Accuracy: 0.6010439970171514\n",
      "\n",
      "Training epoch 23\n",
      "Epoch 23/30, train Loss: 0.8512308955192566\n",
      "Epoch 23/30, (val) Loss: 1.358575463294983 | Accuracy: 0.6017897091722595\n",
      "\n",
      "Training epoch 24\n",
      "Epoch 24/30, train Loss: 0.8889341433842977\n",
      "Epoch 24/30, (val) Loss: 1.3544265694088407 | Accuracy: 0.6032811334824758\n",
      "\n",
      "Training epoch 25\n",
      "Epoch 25/30, train Loss: 0.8201580842336019\n",
      "Epoch 25/30, (val) Loss: 1.351639085345798 | Accuracy: 0.6017897091722595\n",
      "\n",
      "Training epoch 26\n",
      "Epoch 26/30, train Loss: 0.8542967200279236\n",
      "Epoch 26/30, (val) Loss: 1.3515514863861933 | Accuracy: 0.6025354213273676\n",
      "\n",
      "Training epoch 27\n",
      "Epoch 27/30, train Loss: 0.834492301940918\n",
      "Epoch 27/30, (val) Loss: 1.3540360000398424 | Accuracy: 0.6002982848620433\n",
      "\n",
      "Training epoch 28\n",
      "Epoch 28/30, train Loss: 0.8457744916280111\n",
      "Epoch 28/30, (val) Loss: 1.357907195885976 | Accuracy: 0.6025354213273676\n",
      "\n",
      "Training epoch 29\n",
      "Epoch 29/30, train Loss: 0.8606699268023174\n",
      "Epoch 29/30, (val) Loss: 1.3507409758037991 | Accuracy: 0.6025354213273676\n",
      "\n",
      "Training epoch 30\n",
      "Epoch 30/30, train Loss: 0.8407126545906067\n",
      "Epoch 30/30, (val) Loss: 1.355772250228458 | Accuracy: 0.598806860551827\n"
     ]
    }
   ],
   "source": [
    "train_losses, val_losses, val_accuracies = trainer.train_model(verbose=0)"
   ]
  },
  {
   "cell_type": "code",
   "execution_count": 19,
   "id": "c20821da",
   "metadata": {
    "execution": {
     "iopub.execute_input": "2025-03-01T23:33:34.459870Z",
     "iopub.status.busy": "2025-03-01T23:33:34.459559Z",
     "iopub.status.idle": "2025-03-01T23:33:34.860728Z",
     "shell.execute_reply": "2025-03-01T23:33:34.859720Z"
    },
    "papermill": {
     "duration": 0.413468,
     "end_time": "2025-03-01T23:33:34.862222",
     "exception": false,
     "start_time": "2025-03-01T23:33:34.448754",
     "status": "completed"
    },
    "tags": []
   },
   "outputs": [
    {
     "data": {
      "image/png": "[encoded data removed]",
      "text/plain": [
       "<Figure size 640x480 with 1 Axes>"
      ]
     },
     "metadata": {},
     "output_type": "display_data"
    },
    {
     "data": {
      "image/png": "[encoded data removed]",
      "text/plain": [
       "<Figure size 640x480 with 1 Axes>"
      ]
     },
     "metadata": {},
     "output_type": "display_data"
    }
   ],
   "source": [
    "plotter.plot_training_val_b1(train_losses, val_losses, val_accuracies)"
   ]
  },
  {
   "cell_type": "markdown",
   "id": "bf846b64",
   "metadata": {
    "papermill": {
     "duration": 0.010805,
     "end_time": "2025-03-01T23:33:34.884300",
     "exception": false,
     "start_time": "2025-03-01T23:33:34.873495",
     "status": "completed"
    },
    "tags": []
   },
   "source": [
    "## Model Evaluation"
   ]
  },
  {
   "cell_type": "code",
   "execution_count": 20,
   "id": "e8ffc50f",
   "metadata": {
    "execution": {
     "iopub.execute_input": "2025-03-01T23:33:34.908441Z",
     "iopub.status.busy": "2025-03-01T23:33:34.908162Z",
     "iopub.status.idle": "2025-03-01T23:33:34.917573Z",
     "shell.execute_reply": "2025-03-01T23:33:34.916961Z"
    },
    "papermill": {
     "duration": 0.022276,
     "end_time": "2025-03-01T23:33:34.918845",
     "exception": false,
     "start_time": "2025-03-01T23:33:34.896569",
     "status": "completed"
    },
    "tags": []
   },
   "outputs": [],
   "source": [
    "class b1_ModelTester():\n",
    "    def __init__(self, model, model_path, criterion, dataloader, device):\n",
    "        self.model = model\n",
    "        model_state_dict = torch.load(model_path, map_location=device)\n",
    "        self.model.load_state_dict(model_state_dict)\n",
    "        self.criterion = criterion\n",
    "        self.dataloader = dataloader\n",
    "        self.DEVICE = device\n",
    "\n",
    "    def evaluate(self, verbose=0):\n",
    "        dataloader = self.dataloader\n",
    "        model = self.model\n",
    "        criterion = self.criterion\n",
    "        model.eval()\n",
    "\n",
    "        # Initialize metrics tracking\n",
    "        val_loss = 0\n",
    "        all_labels = []\n",
    "        all_predictions = []\n",
    "        all_probabilities = []\n",
    "\n",
    "        if verbose > 0:\n",
    "            dataloader = tqdm(dataloader, desc=\"Testing\")\n",
    "\n",
    "        with torch.no_grad():\n",
    "            with torch.amp.autocast('cuda'):\n",
    "                for inputs, labels in dataloader:\n",
    "                    inputs = inputs.to(self.DEVICE)\n",
    "                    labels = labels.to(self.DEVICE)\n",
    "\n",
    "                    if verbose > 2:\n",
    "                        print(f\"labels: {labels}\")\n",
    "\n",
    "                    # Forward pass\n",
    "                    logits = model(inputs)\n",
    "                    probs = F.softmax(logits, dim=1)\n",
    "\n",
    "                    if verbose > 3:\n",
    "                        print(f\"logits: {logits}\")\n",
    "                        print(f\"probs: {probs}\")\n",
    "\n",
    "                    # Calculate loss\n",
    "                    loss = criterion(logits, labels)\n",
    "                    val_loss += loss.item()\n",
    "\n",
    "                    # Get predictions\n",
    "                    predicted = torch.argmax(probs, dim=1)\n",
    "\n",
    "                    if verbose > 2:\n",
    "                        print(f\"predicted: {predicted}\")\n",
    "                        print(f\"true/false: {(predicted == labels)}\")\n",
    "\n",
    "                    # Store predictions and labels for later metric calculation\n",
    "                    all_labels.extend(labels.cpu().numpy())\n",
    "                    all_predictions.extend(predicted.cpu().numpy())\n",
    "                    all_probabilities.extend(probs.cpu().numpy())\n",
    "\n",
    "        # Calculate average loss\n",
    "        avg_loss = val_loss / len(dataloader)\n",
    "\n",
    "        # Convert lists to numpy arrays for easier manipulation\n",
    "        all_labels = np.array(all_labels)\n",
    "        all_predictions = np.array(all_predictions)\n",
    "        all_probabilities = np.array(all_probabilities)\n",
    "\n",
    "        # Calculate metrics for each class\n",
    "        num_classes = all_probabilities.shape[1]\n",
    "        metrics_dict = {\n",
    "            'accuracy': accuracy_score(all_labels, all_predictions),\n",
    "            'precision': precision_score(all_labels, all_predictions, average='macro', zero_division=0),\n",
    "            'recall': recall_score(all_labels, all_predictions, average='macro', zero_division=0),\n",
    "            'f1': f1_score(all_labels, all_predictions, average='macro', zero_division=0),\n",
    "            'per_class': {\n",
    "                'precision': precision_score(all_labels, all_predictions, average=None, zero_division=0),\n",
    "                'recall': recall_score(all_labels, all_predictions, average=None, zero_division=0),\n",
    "                'f1': f1_score(all_labels, all_predictions, average=None, zero_division=0)\n",
    "            }\n",
    "        }\n",
    "\n",
    "        # Prepare confusion matrix data\n",
    "        confusion_data = {\n",
    "            'true_labels': all_labels,\n",
    "            'predictions': all_predictions,\n",
    "            'probabilities': all_probabilities,\n",
    "            'num_classes': num_classes\n",
    "        }\n",
    "\n",
    "        return avg_loss, metrics_dict, confusion_data"
   ]
  },
  {
   "cell_type": "code",
   "execution_count": 21,
   "id": "b688a438",
   "metadata": {
    "execution": {
     "iopub.execute_input": "2025-03-01T23:33:34.941429Z",
     "iopub.status.busy": "2025-03-01T23:33:34.941185Z",
     "iopub.status.idle": "2025-03-01T23:33:36.253068Z",
     "shell.execute_reply": "2025-03-01T23:33:36.252084Z"
    },
    "papermill": {
     "duration": 1.32482,
     "end_time": "2025-03-01T23:33:36.254665",
     "exception": false,
     "start_time": "2025-03-01T23:33:34.929845",
     "status": "completed"
    },
    "tags": []
   },
   "outputs": [
    {
     "name": "stderr",
     "output_type": "stream",
     "text": [
      "<ipython-input-20-1442f6c07dee>:4: FutureWarning: You are using `torch.load` with `weights_only=False` (the current default value), which uses the default pickle module implicitly. It is possible to construct malicious pickle data which will execute arbitrary code during unpickling (See https://github.com/pytorch/pytorch/blob/main/SECURITY.md#untrusted-models for more details). In a future release, the default value for `weights_only` will be flipped to `True`. This limits the functions that could be executed during unpickling. Arbitrary objects will no longer be allowed to be loaded via this mode unless they are explicitly allowlisted by the user via `torch.serialization.add_safe_globals`. We recommend you start setting `weights_only=True` for any use case where you don't have full control of the loaded file. Please open an issue on GitHub for any issues related to this experimental feature.\n",
      "  model_state_dict = torch.load(model_path, map_location=device)\n"
     ]
    }
   ],
   "source": [
    "model = ResnetEvolution(hidden_layers=[]).to(device)\n",
    "model_path = '/kaggle/input/b1_model/pytorch/b1_model/1/notebooks/b1-model-kaggle-trainer-super-resnet/model/b1_model.pth'\n",
    "tester = b1_ModelTester(model, model_path, criterion, test_loader, device)"
   ]
  },
  {
   "cell_type": "code",
   "execution_count": 22,
   "id": "5cb2c3c6",
   "metadata": {
    "execution": {
     "iopub.execute_input": "2025-03-01T23:33:36.278626Z",
     "iopub.status.busy": "2025-03-01T23:33:36.278293Z",
     "iopub.status.idle": "2025-03-01T23:33:48.744287Z",
     "shell.execute_reply": "2025-03-01T23:33:48.743102Z"
    },
    "papermill": {
     "duration": 12.479256,
     "end_time": "2025-03-01T23:33:48.745683",
     "exception": false,
     "start_time": "2025-03-01T23:33:36.266427",
     "status": "completed"
    },
    "tags": []
   },
   "outputs": [
    {
     "name": "stderr",
     "output_type": "stream",
     "text": [
      "Testing: 100%|██████████| 9/9 [00:12<00:00,  1.38s/it]\n"
     ]
    }
   ],
   "source": [
    "loss, metrics, confusion_data = tester.evaluate(verbose=1)"
   ]
  },
  {
   "cell_type": "code",
   "execution_count": 23,
   "id": "aa0094dd",
   "metadata": {
    "execution": {
     "iopub.execute_input": "2025-03-01T23:33:48.771212Z",
     "iopub.status.busy": "2025-03-01T23:33:48.770884Z",
     "iopub.status.idle": "2025-03-01T23:33:49.121113Z",
     "shell.execute_reply": "2025-03-01T23:33:49.120205Z"
    },
    "papermill": {
     "duration": 0.364737,
     "end_time": "2025-03-01T23:33:49.122483",
     "exception": false,
     "start_time": "2025-03-01T23:33:48.757746",
     "status": "completed"
    },
    "tags": []
   },
   "outputs": [
    {
     "name": "stdout",
     "output_type": "stream",
     "text": [
      "Loss: 1.5926\n",
      "Accuracy: 0.6432\n",
      "Precision: 0.6493\n",
      "Recall: 0.6524\n",
      "F1 Score: 0.6484\n"
     ]
    },
    {
     "data": {
      "image/png": "[encoded data removed]",
      "text/plain": [
       "<Figure size 1000x800 with 2 Axes>"
      ]
     },
     "metadata": {},
     "output_type": "display_data"
    }
   ],
   "source": [
    "plotter.plot_test_b1(loss, metrics, confusion_data)"
   ]
  }
 ],
 "metadata": {
  "kaggle": {
   "accelerator": "gpu",
   "dataSources": [
    {
     "datasetId": 5561212,
     "sourceId": 9198495,
     "sourceType": "datasetVersion"
    },
    {
     "isSourceIdPinned": true,
     "modelId": 237157,
     "modelInstanceId": 215451,
     "sourceId": 252011,
     "sourceType": "modelInstanceVersion"
    }
   ],
   "dockerImageVersionId": 30840,
   "isGpuEnabled": true,
   "isInternetEnabled": true,
   "language": "python",
   "sourceType": "notebook"
  },
  "kernelspec": {
   "display_name": "Python 3",
   "language": "python",
   "name": "python3"
  },
  "language_info": {
   "codemirror_mode": {
    "name": "ipython",
    "version": 3
   },
   "file_extension": ".py",
   "mimetype": "text/x-python",
   "name": "python",
   "nbconvert_exporter": "python",
   "pygments_lexer": "ipython3",
   "version": "3.10.12"
  },
  "papermill": {
   "default_parameters": {},
   "duration": 1026.894918,
   "end_time": "2025-03-01T23:33:51.771083",
   "environment_variables": {},
   "exception": null,
   "input_path": "__notebook__.ipynb",
   "output_path": "__notebook__.ipynb",
   "parameters": {},
   "start_time": "2025-03-01T23:16:44.876165",
   "version": "2.6.0"
  }
 },
 "nbformat": 4,
 "nbformat_minor": 5
}
