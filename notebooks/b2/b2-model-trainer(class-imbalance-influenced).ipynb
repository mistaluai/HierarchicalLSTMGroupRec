{
 "cells": [
  {
   "cell_type": "code",
   "execution_count": 1,
   "id": "054b92e6",
   "metadata": {
    "execution": {
     "iopub.execute_input": "2025-03-05T05:33:38.016845Z",
     "iopub.status.busy": "2025-03-05T05:33:38.016506Z",
     "iopub.status.idle": "2025-03-05T05:33:47.634246Z",
     "shell.execute_reply": "2025-03-05T05:33:47.633527Z"
    },
    "papermill": {
     "duration": 9.627012,
     "end_time": "2025-03-05T05:33:47.635787",
     "exception": false,
     "start_time": "2025-03-05T05:33:38.008775",
     "status": "completed"
    },
    "tags": []
   },
   "outputs": [],
   "source": [
    "import torch\n",
    "import torch.nn as nn\n",
    "import torch.optim as optim\n",
    "from torch.utils.data import DataLoader\n",
    "from torchvision import transforms\n",
    "from tqdm import tqdm\n",
    "from torch.utils.data import Dataset\n",
    "import pandas as pd\n",
    "from PIL import Image\n",
    "import torchvision\n",
    "import os\n",
    "from torchvision.transforms import v2\n",
    "import glob\n",
    "import torch.nn.functional as F\n",
    "from torchvision.models import ResNet50_Weights\n",
    "from collections import Counter\n",
    "import matplotlib.pyplot as plt\n",
    "import numpy as np\n",
    "import glob\n",
    "import torch\n",
    "import torch.nn.functional as F\n",
    "import numpy as np\n",
    "from tqdm import tqdm\n",
    "import seaborn as sns\n",
    "from sklearn.metrics import (\n",
    "    accuracy_score,\n",
    "    precision_score,\n",
    "    recall_score,\n",
    "    f1_score,\n",
    "    confusion_matrix\n",
    ")"
   ]
  },
  {
   "cell_type": "markdown",
   "id": "02066fc8",
   "metadata": {
    "papermill": {
     "duration": 0.006441,
     "end_time": "2025-03-05T05:33:47.648477",
     "exception": false,
     "start_time": "2025-03-05T05:33:47.642036",
     "status": "completed"
    },
    "tags": []
   },
   "source": [
    "## Plotter"
   ]
  },
  {
   "cell_type": "code",
   "execution_count": 2,
   "id": "d2adf03e",
   "metadata": {
    "execution": {
     "iopub.execute_input": "2025-03-05T05:33:47.660984Z",
     "iopub.status.busy": "2025-03-05T05:33:47.660506Z",
     "iopub.status.idle": "2025-03-05T05:33:47.667070Z",
     "shell.execute_reply": "2025-03-05T05:33:47.666371Z"
    },
    "papermill": {
     "duration": 0.014153,
     "end_time": "2025-03-05T05:33:47.668325",
     "exception": false,
     "start_time": "2025-03-05T05:33:47.654172",
     "status": "completed"
    },
    "tags": []
   },
   "outputs": [],
   "source": [
    "class Plotter:\n",
    "\n",
    "    def plot_training_val_b1(self, training_loss, val_loss, val_accuracy):\n",
    "        epochs = range(1, len(training_loss) + 1)\n",
    "\n",
    "        fig, ax1 = plt.subplots()\n",
    "        ax1.plot(epochs, training_loss, 'b-', label='Training Loss')\n",
    "        ax1.plot(epochs, val_loss, 'r-', label='Validation Loss')\n",
    "        ax1.set_xlabel('Epochs')\n",
    "        ax1.set_ylabel('Loss')\n",
    "        ax1.legend()\n",
    "        ax1.set_title('Training and Validation Loss')\n",
    "\n",
    "        plt.figure()\n",
    "        plt.plot(epochs, val_accuracy, 'g-', label='Validation Accuracy')\n",
    "        plt.xlabel('Epochs')\n",
    "        plt.ylabel('Accuracy')\n",
    "        plt.legend()\n",
    "        plt.title('Validation Accuracy')\n",
    "\n",
    "        plt.show()\n",
    "\n",
    "    def plot_test_b1(self, loss, metrics, confusion_data):\n",
    "        # Print metrics\n",
    "        print(f\"Loss: {loss:.4f}\")\n",
    "        print(f\"Accuracy: {metrics['accuracy']:.4f}\")\n",
    "        print(f\"Precision: {metrics['precision']:.4f}\")\n",
    "        print(f\"Recall: {metrics['recall']:.4f}\")\n",
    "        print(f\"F1 Score: {metrics['f1']:.4f}\")\n",
    "\n",
    "        # Plot confusion matrix\n",
    "        cm = confusion_matrix(confusion_data['true_labels'], confusion_data['predictions'])\n",
    "        plt.figure(figsize=(10, 8))\n",
    "        sns.heatmap(cm, annot=True, fmt='d', cmap='Blues')\n",
    "        plt.xlabel('Predicted')\n",
    "        plt.ylabel('True')\n",
    "        plt.title('Confusion Matrix')\n",
    "        plt.show()\n",
    "\n",
    "plotter = Plotter()"
   ]
  },
  {
   "cell_type": "markdown",
   "id": "b75ce0f6",
   "metadata": {
    "papermill": {
     "duration": 0.005355,
     "end_time": "2025-03-05T05:33:47.679548",
     "exception": false,
     "start_time": "2025-03-05T05:33:47.674193",
     "status": "completed"
    },
    "tags": []
   },
   "source": [
    "## Data Processing"
   ]
  },
  {
   "cell_type": "code",
   "execution_count": 3,
   "id": "38758e26",
   "metadata": {
    "execution": {
     "iopub.execute_input": "2025-03-05T05:33:47.691712Z",
     "iopub.status.busy": "2025-03-05T05:33:47.691388Z",
     "iopub.status.idle": "2025-03-05T05:33:47.703902Z",
     "shell.execute_reply": "2025-03-05T05:33:47.703052Z"
    },
    "papermill": {
     "duration": 0.019988,
     "end_time": "2025-03-05T05:33:47.705095",
     "exception": false,
     "start_time": "2025-03-05T05:33:47.685107",
     "status": "completed"
    },
    "tags": []
   },
   "outputs": [],
   "source": [
    "class DataProcessorBaselineTwo():\n",
    "\n",
    "    def __init__(self, videos_root, map_classes=True):\n",
    "        self.frame_mapping = {'l-spike': 0, 'l_set': 1, 'r_set': 2, 'r-pass': 3, 'r_spike': 4, 'l-pass': 5,\n",
    "                              'r_winpoint': 6, 'l_winpoint': 7}\n",
    "        self.player_mapping = {\n",
    "            'waiting': 0, 'setting': 1, 'digging': 2, 'falling': 3, 'spiking': 4,\n",
    "            'blocking': 5, 'jumping': 6, 'moving': 7, 'standing': 8}\n",
    "        self.map_classes = map_classes\n",
    "        self.root = videos_root\n",
    "\n",
    "        self.data_classes, self.player_classes = self.concat_annotations()\n",
    "        self.dataset = self.collect_video_data()\n",
    "\n",
    "\n",
    "    def get_dataset(self):\n",
    "        return self.dataset\n",
    "\n",
    "    def __process_players(self, line):\n",
    "        words = line.split()\n",
    "        boxes = []  # List to store (box, class) tuples\n",
    "\n",
    "        # Skip frame ID and extra info (assuming it's always at index 1)\n",
    "        words = words[2:]\n",
    "\n",
    "        # Iterate through bounding box annotations\n",
    "        for i in range(0, len(words), 5):\n",
    "            x1, y1, x2, y2 = map(int, words[i:i + 4])  # Extract coordinates\n",
    "\n",
    "            class_name = words[i + 4]  # Extract class name\n",
    "            class_id = self.player_mapping[class_name]\n",
    "\n",
    "            boxes.append(((x1, y1, x2, y2), class_id))\n",
    "\n",
    "        return boxes\n",
    "\n",
    "    def __process_annotations(self, annotations_file):\n",
    "        classes_dict = {}\n",
    "        players_dict = {}\n",
    "        with open(annotations_file, 'r') as file:\n",
    "            for line in file:\n",
    "                parts = line.strip().split()\n",
    "\n",
    "                if len(parts) > 1:  # Ensure there are at least 2 words\n",
    "                    filename = parts[0]  # First word is the filename\n",
    "                    action = parts[1]  # Second word is the action\n",
    "                    classes_dict[filename] = action\n",
    "\n",
    "                    players_annotations = self.__process_players(line)\n",
    "                    players_dict[filename] = players_annotations\n",
    "\n",
    "        return classes_dict, players_dict\n",
    "\n",
    "    def concat_annotations(self):\n",
    "        data_classes = {}\n",
    "        playerdata_classes = {}\n",
    "        for video_folder in sorted(os.listdir(self.root)):  # Iterate over videos\n",
    "            video_path = os.path.join(self.root, video_folder)\n",
    "\n",
    "            if not os.path.isdir(video_path):\n",
    "                continue  # Skip files, process only directories\n",
    "\n",
    "            for annotation_folder in sorted(os.listdir(video_path)):  # Iterate over clips\n",
    "                annotation_path = os.path.join(video_path, annotation_folder)\n",
    "                if not os.path.isdir(annotation_path):\n",
    "                    if annotation_folder == 'annotations.txt':\n",
    "                        frame_classes, player_classes = self.__process_annotations(annotation_path)\n",
    "                        data_classes = {**frame_classes, **data_classes}\n",
    "                        playerdata_classes = {**player_classes, **playerdata_classes}\n",
    "\n",
    "        return data_classes, playerdata_classes\n",
    "\n",
    "    def collect_video_data(self):\n",
    "        dataset = []  # List to store video data\n",
    "        missing = 0\n",
    "        for video_folder in sorted(os.listdir(self.root)):  # Iterate over videos\n",
    "            video_path = os.path.join(self.root, video_folder)\n",
    "            if not os.path.isdir(video_path):\n",
    "                continue  # Skip files, process only directories\n",
    "\n",
    "            for clip_folder in sorted(os.listdir(video_path)):  # Iterate over clips\n",
    "                clip_path = os.path.join(video_path, clip_folder)\n",
    "                if not os.path.isdir(clip_path):\n",
    "                    continue\n",
    "\n",
    "                frames = sorted(\n",
    "                    [os.path.join(clip_path, f) for f in os.listdir(clip_path) if f.endswith(\".jpg\")]\n",
    "                )\n",
    "                if len(frames) == 41:  # Ensure expected number of frames\n",
    "                    target_frame = frames[20]\n",
    "                    frame_name = target_frame.split('/')[-1]\n",
    "                    if frame_name in self.data_classes:\n",
    "                        class_name = self.data_classes[frame_name]\n",
    "                        players_annotation = self.player_classes[frame_name]\n",
    "                        dataset.append({\n",
    "                            \"video\": video_folder,\n",
    "                            \"clip\": clip_folder,\n",
    "                            \"frame\": target_frame,\n",
    "                            \"class\": self.frame_mapping[class_name],\n",
    "                            \"players\": players_annotation\n",
    "                        })\n",
    "                    else:\n",
    "                        missing += 1\n",
    "\n",
    "        print(f'missing {missing} frames')\n",
    "        return dataset"
   ]
  },
  {
   "cell_type": "markdown",
   "id": "10cb883b",
   "metadata": {
    "papermill": {
     "duration": 0.005731,
     "end_time": "2025-03-05T05:33:47.716452",
     "exception": false,
     "start_time": "2025-03-05T05:33:47.710721",
     "status": "completed"
    },
    "tags": []
   },
   "source": [
    "Make sure you want to run this before running it"
   ]
  },
  {
   "cell_type": "code",
   "execution_count": 4,
   "id": "946ba04f",
   "metadata": {
    "execution": {
     "iopub.execute_input": "2025-03-05T05:33:47.728280Z",
     "iopub.status.busy": "2025-03-05T05:33:47.728003Z",
     "iopub.status.idle": "2025-03-05T05:33:47.863272Z",
     "shell.execute_reply": "2025-03-05T05:33:47.862372Z"
    },
    "papermill": {
     "duration": 0.143067,
     "end_time": "2025-03-05T05:33:47.865030",
     "exception": false,
     "start_time": "2025-03-05T05:33:47.721963",
     "status": "completed"
    },
    "tags": []
   },
   "outputs": [
    {
     "name": "stdout",
     "output_type": "stream",
     "text": [
      "rm: cannot remove '/kaggle/working/': Device or resource busy\r\n"
     ]
    }
   ],
   "source": [
    "!rm -rf '/kaggle/working/'"
   ]
  },
  {
   "cell_type": "code",
   "execution_count": 5,
   "id": "f9a63111",
   "metadata": {
    "execution": {
     "iopub.execute_input": "2025-03-05T05:33:47.878082Z",
     "iopub.status.busy": "2025-03-05T05:33:47.877811Z",
     "iopub.status.idle": "2025-03-05T05:34:45.333239Z",
     "shell.execute_reply": "2025-03-05T05:34:45.332335Z"
    },
    "papermill": {
     "duration": 57.469015,
     "end_time": "2025-03-05T05:34:45.340433",
     "exception": false,
     "start_time": "2025-03-05T05:33:47.871418",
     "status": "completed"
    },
    "tags": []
   },
   "outputs": [
    {
     "name": "stdout",
     "output_type": "stream",
     "text": [
      "missing 3 frames\n"
     ]
    }
   ],
   "source": [
    "base_path = '/kaggle/input/volleyball/volleyball_/videos/'\n",
    "df = DataProcessorBaselineTwo(base_path).get_dataset()"
   ]
  },
  {
   "cell_type": "markdown",
   "id": "984f2857",
   "metadata": {
    "papermill": {
     "duration": 0.00542,
     "end_time": "2025-03-05T05:34:45.351697",
     "exception": false,
     "start_time": "2025-03-05T05:34:45.346277",
     "status": "completed"
    },
    "tags": []
   },
   "source": [
    "## Model"
   ]
  },
  {
   "cell_type": "code",
   "execution_count": 6,
   "id": "d87f77e5",
   "metadata": {
    "execution": {
     "iopub.execute_input": "2025-03-05T05:34:45.364177Z",
     "iopub.status.busy": "2025-03-05T05:34:45.363868Z",
     "iopub.status.idle": "2025-03-05T05:34:45.369099Z",
     "shell.execute_reply": "2025-03-05T05:34:45.368422Z"
    },
    "papermill": {
     "duration": 0.013045,
     "end_time": "2025-03-05T05:34:45.370419",
     "exception": false,
     "start_time": "2025-03-05T05:34:45.357374",
     "status": "completed"
    },
    "tags": []
   },
   "outputs": [],
   "source": [
    "class ResnetEvolution(nn.Module):\n",
    "    def __init__(self):\n",
    "        super(ResnetEvolution, self).__init__()\n",
    "        self.model = self.__init_backbone(torchvision.models.resnet50(weights=ResNet50_Weights.IMAGENET1K_V2, progress=False))\n",
    "\n",
    "    def __init_backbone(self, backbone):\n",
    "        num_features = backbone.fc.in_features\n",
    "        layers = nn.Sequential(\n",
    "            nn.Linear(num_features, 4096),\n",
    "            nn.Linear(4096, 2048),\n",
    "            nn.ReLU(),\n",
    "            nn.Dropout(0.2),\n",
    "            nn.Linear(2048, 9)\n",
    "        )\n",
    "        backbone.fc = layers\n",
    "        return backbone\n",
    "\n",
    "    def get_fc(self):\n",
    "        return self.model.fc\n",
    "\n",
    "    def forward(self, images):\n",
    "        return self.model(images)"
   ]
  },
  {
   "cell_type": "markdown",
   "id": "cdfcf63b",
   "metadata": {
    "papermill": {
     "duration": 0.005766,
     "end_time": "2025-03-05T05:34:45.381802",
     "exception": false,
     "start_time": "2025-03-05T05:34:45.376036",
     "status": "completed"
    },
    "tags": []
   },
   "source": [
    "## Training Utils"
   ]
  },
  {
   "cell_type": "code",
   "execution_count": 7,
   "id": "0ea9fb87",
   "metadata": {
    "execution": {
     "iopub.execute_input": "2025-03-05T05:34:45.394200Z",
     "iopub.status.busy": "2025-03-05T05:34:45.393889Z",
     "iopub.status.idle": "2025-03-05T05:34:45.399980Z",
     "shell.execute_reply": "2025-03-05T05:34:45.399226Z"
    },
    "papermill": {
     "duration": 0.013772,
     "end_time": "2025-03-05T05:34:45.401183",
     "exception": false,
     "start_time": "2025-03-05T05:34:45.387411",
     "status": "completed"
    },
    "tags": []
   },
   "outputs": [],
   "source": [
    "class TrainingUtilities:\n",
    "    @staticmethod\n",
    "    def save_model(model, model_descriptor, save_folder, verbose=0):\n",
    "        torch.save(model.state_dict(), save_folder + f\"/{model_descriptor}b1_model.pth\")\n",
    "        if verbose > 0:\n",
    "            print(f\"Saved model to {save_folder}/b1_model.pth\")\n",
    "\n",
    "    @staticmethod\n",
    "    def save_checkpoint(epoch, model_state_dict, optimizer_state_dict, scheduler_state_dict=None, save_folder='', verbose=0):\n",
    "        checkpoint = {\n",
    "            'epoch': epoch,\n",
    "            'model_state_dict': model_state_dict,\n",
    "            'optimizer_state_dict': optimizer_state_dict,\n",
    "            'scheduler_state_dict': scheduler_state_dict\n",
    "        }\n",
    "        torch.save(checkpoint, save_folder + f'/checkpoint-epoch{epoch}.pth')\n",
    "        if verbose > 0:\n",
    "            print(f'Saved checkpoint to {save_folder}/checkpoint-epoch{epoch}.pth')\n",
    "\n",
    "    @staticmethod\n",
    "    def load_checkpoint(model, optimizer, checkpoint_path, scheduled, verbose=0):\n",
    "        checkpoint = torch.load(checkpoint_path)\n",
    "\n",
    "        if verbose > 0:\n",
    "            print(f\"Loading checkpoint from {checkpoint_path}\")\n",
    "\n",
    "        epoch = checkpoint['epoch']\n",
    "        model_state_dict = checkpoint['model_state_dict']\n",
    "        optimizer_state_dict = checkpoint['optimizer_state_dict']\n",
    "        scheduler_state_dict = checkpoint['scheduler_state_dict']\n",
    "        model = model.load_state_dict(model_state_dict)\n",
    "        if scheduled:\n",
    "            optimizer.load_state_dict(optimizer_state_dict, scheduler_state_dict)\n",
    "        else:\n",
    "            optimizer = optimizer.load_state_dict(optimizer_state_dict)\n",
    "        return epoch, model, optimizer"
   ]
  },
  {
   "cell_type": "markdown",
   "id": "d3ae4f2a",
   "metadata": {
    "papermill": {
     "duration": 0.005671,
     "end_time": "2025-03-05T05:34:45.412903",
     "exception": false,
     "start_time": "2025-03-05T05:34:45.407232",
     "status": "completed"
    },
    "tags": []
   },
   "source": [
    "## Trainer"
   ]
  },
  {
   "cell_type": "code",
   "execution_count": 8,
   "id": "6d530f9e",
   "metadata": {
    "execution": {
     "iopub.execute_input": "2025-03-05T05:34:45.425867Z",
     "iopub.status.busy": "2025-03-05T05:34:45.425511Z",
     "iopub.status.idle": "2025-03-05T05:34:45.442508Z",
     "shell.execute_reply": "2025-03-05T05:34:45.441824Z"
    },
    "papermill": {
     "duration": 0.025076,
     "end_time": "2025-03-05T05:34:45.443804",
     "exception": false,
     "start_time": "2025-03-05T05:34:45.418728",
     "status": "completed"
    },
    "tags": []
   },
   "outputs": [],
   "source": [
    "class b1_ModelTrainer:\n",
    "    def __init__(self, model, optimizer, scheduled, criterion, epochs, dataloaders, device, save_folder,\n",
    "                 is_continue=False, checkpoint=None):\n",
    "        self.model = model\n",
    "        self.optimizer = optimizer\n",
    "        self.scheduled = scheduled\n",
    "        self.criterion = criterion\n",
    "        self.epochs = epochs\n",
    "        self.dataloaders = dataloaders\n",
    "        self.DEVICE = device\n",
    "        self.save_folder = save_folder\n",
    "        self.is_continue = is_continue\n",
    "        self.checkpoint = checkpoint\n",
    "        self.scaler = torch.amp.GradScaler()\n",
    "\n",
    "    # verbose 1 : checkpoint,\n",
    "    # verbose 3:  labels, preds\n",
    "    # verbose 4: logits\n",
    "    def train_model(self, verbose=0):\n",
    "        model, optimizer, criterion, epochs, dataloaders, scaler = self.model, self.optimizer, self.criterion, self.epochs, self.dataloaders, self.scaler\n",
    "\n",
    "        epoch = 0\n",
    "\n",
    "        train_losses = []\n",
    "        val_losses = []\n",
    "        val_accuracies = []\n",
    "\n",
    "        if self.is_continue:\n",
    "\n",
    "            if verbose > 0:\n",
    "                print(f\"Continuing from checkpoint {self.checkpoint}\")\n",
    "\n",
    "            epoch, model, optimizer = self.__load_checkpoint(model, optimizer, self.checkpoint, verbose)\n",
    "\n",
    "        for training_epoch in range(epoch, epochs):\n",
    "\n",
    "            print(f\"\\nTraining epoch {training_epoch+1}\")\n",
    "\n",
    "            ## change model mode depending on the phase\n",
    "            for phase in ['train', 'val']:\n",
    "                dataloader = dataloaders[phase]\n",
    "                epoch_loss = 0  # Track total loss for the epoch\n",
    "                if phase == 'train':\n",
    "                    if verbose > 0:\n",
    "                        dataloader = tqdm(dataloader, desc=phase)\n",
    "                    model.train()\n",
    "                    for inputs, labels in dataloader:\n",
    "\n",
    "                        inputs = inputs.to(self.DEVICE)\n",
    "                        labels = labels.to(self.DEVICE)\n",
    "\n",
    "                        if verbose > 3:\n",
    "                            print(f\"labels: {labels}\")\n",
    "\n",
    "                        # zero grads of he optim\n",
    "                        optimizer.zero_grad()\n",
    "\n",
    "                        # freeze the non-learnable weights\n",
    "                        # self.__handle_transfer_learning(phase, training_epoch / epochs)\n",
    "\n",
    "                        with torch.amp.autocast('cuda'):\n",
    "                            # forward pass\n",
    "                            logit = model(inputs)\n",
    "\n",
    "                            if verbose > 3:\n",
    "                                print(f\"logit: {logit}\")\n",
    "\n",
    "                            loss = criterion(logit, labels)\n",
    "\n",
    "                        scaler.scale(loss).backward()\n",
    "                        optimizer.step(scaler)\n",
    "                        scaler.update()\n",
    "\n",
    "                        epoch_loss += loss.item()  # Accumulate loss\n",
    "\n",
    "                    train_losses.append(epoch_loss / len(dataloader))\n",
    "                    print(\n",
    "                        f\"Epoch {training_epoch + 1}/{epochs}, {phase} Loss: {epoch_loss / len(dataloader)}\")  # Print loss\n",
    "                else:\n",
    "                    # skip evaluation if no suitable dataloader\n",
    "                    if dataloaders[phase] is None:\n",
    "                        continue\n",
    "                    model.eval()\n",
    "                    loss, acc = self.__eval_model(dataloader, verbose)\n",
    "                    val_losses.append(loss)\n",
    "                    val_accuracies.append(acc)\n",
    "                    print(\n",
    "                        f\"Epoch {training_epoch + 1}/{epochs}, ({phase}) Loss: {loss} | Accuracy: {acc}\")  # Print loss\n",
    "\n",
    "            if self.scheduled:\n",
    "                optimizer.scheduler_step()\n",
    "                TrainingUtilities.save_checkpoint(training_epoch, model.state_dict(), optimizer.optimizer_state_dict(),\n",
    "                                       optimizer.scheduler_state_dict(), self.save_folder, verbose)\n",
    "            else:\n",
    "                TrainingUtilities.save_checkpoint(training_epoch, model.state_dict(), optimizer.state_dict(),self.save_folder, verbose)\n",
    "\n",
    "            if training_epoch % 10 == 0:\n",
    "                TrainingUtilities.save_model(model, training_epoch, self.save_folder,verbose)\n",
    "\n",
    "        TrainingUtilities.save_model(model, 'final_', self.save_folder, verbose)\n",
    "        return train_losses, val_losses, val_accuracies\n",
    "\n",
    "    def __handle_transfer_learning(self, phase, ratio_epochs, tl_coeff=0, verbose=0):\n",
    "        if phase == \"train\":\n",
    "            if self.__check_transfer_learning(ratio_epochs, tl_coeff):\n",
    "                # Unfreeze all layers for fine-tuning\n",
    "                for param in self.model.parameters():\n",
    "                    param.requires_grad = True\n",
    "            else:\n",
    "                # Freeze the CNN part\n",
    "                for param in self.model.parameters():\n",
    "                    param.requires_grad = False\n",
    "                # Unfreeze the classification layer\n",
    "                for param in self.model.get_fc().parameters():\n",
    "                    param.requires_grad = True\n",
    "        elif phase == \"val\":\n",
    "            for param in self.model.parameters():\n",
    "                param.requires_grad = False\n",
    "\n",
    "    def __check_transfer_learning(self, ratio_epochs, tl_coeff=0):\n",
    "        return ratio_epochs >= tl_coeff\n",
    "\n",
    "    def __eval_model(self, dataloader, verbose=0):\n",
    "        model = self.model\n",
    "        criterion = self.criterion\n",
    "        model.eval()\n",
    "        val_loss = 0\n",
    "        correct_preds = 0\n",
    "        total_preds = 0\n",
    "        if verbose > 0:\n",
    "            dataloader = tqdm(dataloader, desc=\"Validation\")\n",
    "        with torch.no_grad():\n",
    "            with torch.amp.autocast('cuda'):\n",
    "                for inputs, labels in dataloader:\n",
    "                    inputs = inputs.to(self.DEVICE)\n",
    "                    labels = labels.to(self.DEVICE)\n",
    "\n",
    "                    if verbose > 2:\n",
    "                        print(f\"labels: {labels}\")\n",
    "\n",
    "                    # Forward pass\n",
    "                    logits = model(inputs)\n",
    "\n",
    "                    if verbose > 3:\n",
    "                        print(f\"logit: {logits}\")\n",
    "\n",
    "                    probs = F.softmax(logits, dim=1)  # Apply softmax to get probabilities\n",
    "\n",
    "                    if verbose > 3:\n",
    "                        print(f\"probs: {probs}\")\n",
    "\n",
    "                    loss = criterion(logits, labels)\n",
    "                    val_loss += loss.item()  # Accumulate loss\n",
    "\n",
    "                    # Compute accuracy\n",
    "                    predicted = torch.argmax(probs, dim=1)  # Get the class with the highest probability\n",
    "\n",
    "                    if verbose > 2:\n",
    "                        print(f\"predicted: {predicted}\")\n",
    "                        print(f\"true/false: {(predicted == labels)}\")\n",
    "\n",
    "                    correct_preds += (predicted == labels).sum().item()\n",
    "                    total_preds += labels.size(0)\n",
    "\n",
    "        # Calculate average loss and accuracy\n",
    "        avg_loss = val_loss / len(dataloader)\n",
    "        accuracy = correct_preds / total_preds\n",
    "        return avg_loss, accuracy"
   ]
  },
  {
   "cell_type": "markdown",
   "id": "b8c05705",
   "metadata": {
    "papermill": {
     "duration": 0.005387,
     "end_time": "2025-03-05T05:34:45.455161",
     "exception": false,
     "start_time": "2025-03-05T05:34:45.449774",
     "status": "completed"
    },
    "tags": []
   },
   "source": [
    "## Dataset"
   ]
  },
  {
   "cell_type": "code",
   "execution_count": 9,
   "id": "5c5a4b1f",
   "metadata": {
    "execution": {
     "iopub.execute_input": "2025-03-05T05:34:45.467445Z",
     "iopub.status.busy": "2025-03-05T05:34:45.467181Z",
     "iopub.status.idle": "2025-03-05T05:34:45.476429Z",
     "shell.execute_reply": "2025-03-05T05:34:45.475741Z"
    },
    "papermill": {
     "duration": 0.016986,
     "end_time": "2025-03-05T05:34:45.477766",
     "exception": false,
     "start_time": "2025-03-05T05:34:45.460780",
     "status": "completed"
    },
    "tags": []
   },
   "outputs": [],
   "source": [
    "class PlayerDataset(Dataset):\n",
    "    def __init__(self, dataset, split='train', transform=None):\n",
    "        self.dataset = dataset\n",
    "        if transform is None:\n",
    "            self.transform = transforms.Compose([\n",
    "                transforms.Resize((224, 224)),\n",
    "                transforms.ToTensor(),\n",
    "                transforms.Normalize(mean=[0.485, 0.456, 0.406], std=[0.229, 0.224, 0.225]),\n",
    "            ])\n",
    "        else:\n",
    "            self.transform = transform\n",
    "\n",
    "        VIDEO_SPLITS = {\n",
    "            'train': [1, 3, 6, 7, 10, 13, 15, 16, 18, 22, 23, 31, 32, 36, 38, 39, 40, 41, 42, 48, 50, 52, 53, 54],\n",
    "            'val': [0, 2, 8, 12, 17, 19, 24, 26, 27, 28, 30, 33, 46, 49, 51],\n",
    "            'test': [4, 5, 9, 11, 14, 20, 21, 25, 29, 34, 35, 37, 43, 44, 45, 47]\n",
    "        }\n",
    "\n",
    "        self.index_map = []\n",
    "        list_split = VIDEO_SPLITS[split]\n",
    "        self.labels = []\n",
    "        for item_idx, item in enumerate(self.dataset):\n",
    "            if int(item['video']) in list_split:\n",
    "                for player_idx, (bbox, action_class) in enumerate(item['players']):\n",
    "                    self.index_map.append((item_idx, player_idx))\n",
    "                    self.labels.append(action_class)\n",
    "        print(f'the {split} has {len(self.index_map)} samples')\n",
    "        self.invalid = 0\n",
    "\n",
    "    def get_labels(self):\n",
    "        return self.labels\n",
    "\n",
    "    def __len__(self):\n",
    "        return len(self.index_map)\n",
    "\n",
    "    def __getitem__(self, idx):\n",
    "        item_idx, player_idx = self.index_map[idx]\n",
    "        item = self.dataset[item_idx]\n",
    "        frame_path = item['frame']\n",
    "        bbox, action_class = item['players'][player_idx]\n",
    "\n",
    "        image = Image.open(frame_path).convert('RGB')\n",
    "        x1, y1, w, h = bbox\n",
    "        x2 = x1 + w\n",
    "        y2 = y1 + h\n",
    "        bbox = (x1, y1, x2, y2)\n",
    "\n",
    "        if bbox[2] <= bbox[0] or bbox[3] <= bbox[1]:\n",
    "            self.invalid += 1\n",
    "            print(f'invalids:{self.invalid}')\n",
    "            return torch.rand(3, 224, 244), torch.tensor(action_class, dtype=torch.long)\n",
    "\n",
    "        cropped_image = image.crop(bbox)  # (x1, y1, x2, y2)\n",
    "\n",
    "        if self.transform:\n",
    "            cropped_image = self.transform(cropped_image)\n",
    "\n",
    "        return cropped_image, torch.tensor(action_class, dtype=torch.long)"
   ]
  },
  {
   "cell_type": "markdown",
   "id": "207bd05e",
   "metadata": {
    "papermill": {
     "duration": 0.005422,
     "end_time": "2025-03-05T05:34:45.489269",
     "exception": false,
     "start_time": "2025-03-05T05:34:45.483847",
     "status": "completed"
    },
    "tags": []
   },
   "source": [
    "## Loss"
   ]
  },
  {
   "cell_type": "code",
   "execution_count": 10,
   "id": "75991236",
   "metadata": {
    "execution": {
     "iopub.execute_input": "2025-03-05T05:34:45.501398Z",
     "iopub.status.busy": "2025-03-05T05:34:45.501116Z",
     "iopub.status.idle": "2025-03-05T05:34:45.506160Z",
     "shell.execute_reply": "2025-03-05T05:34:45.505468Z"
    },
    "papermill": {
     "duration": 0.012616,
     "end_time": "2025-03-05T05:34:45.507403",
     "exception": false,
     "start_time": "2025-03-05T05:34:45.494787",
     "status": "completed"
    },
    "tags": []
   },
   "outputs": [],
   "source": [
    "class WeightedCrossEntropyLoss(nn.Module):\n",
    "    def __init__(self, dataset, device, num_classes=8):\n",
    "        super().__init__()\n",
    "        self.device = device\n",
    "        self.num_classes = num_classes\n",
    "        self.loss = nn.CrossEntropyLoss(weight=self.__compute_weights(dataset).to(device))\n",
    "\n",
    "    def __compute_weights(self, dataset):\n",
    "        labels = torch.tensor(dataset.get_labels(), dtype=torch.long)\n",
    "        class_counts = torch.bincount(labels, minlength=self.num_classes)\n",
    "        total_samples = len(labels)\n",
    "        weights = total_samples / (class_counts + 1e-6)  # Avoid div by zero\n",
    "        return weights.float()\n",
    "\n",
    "    def forward(self, logit, target):\n",
    "        return self.loss(logit, target)"
   ]
  },
  {
   "cell_type": "markdown",
   "id": "daa22f39",
   "metadata": {
    "papermill": {
     "duration": 0.005515,
     "end_time": "2025-03-05T05:34:45.518864",
     "exception": false,
     "start_time": "2025-03-05T05:34:45.513349",
     "status": "completed"
    },
    "tags": []
   },
   "source": [
    "## Optimizer"
   ]
  },
  {
   "cell_type": "code",
   "execution_count": 11,
   "id": "5401be46",
   "metadata": {
    "execution": {
     "iopub.execute_input": "2025-03-05T05:34:45.531588Z",
     "iopub.status.busy": "2025-03-05T05:34:45.531294Z",
     "iopub.status.idle": "2025-03-05T05:34:45.536535Z",
     "shell.execute_reply": "2025-03-05T05:34:45.535782Z"
    },
    "papermill": {
     "duration": 0.013407,
     "end_time": "2025-03-05T05:34:45.537935",
     "exception": false,
     "start_time": "2025-03-05T05:34:45.524528",
     "status": "completed"
    },
    "tags": []
   },
   "outputs": [],
   "source": [
    "class AdamWScheduled():\n",
    "    def __init__(self, model_params, lr, step_size, gamma):\n",
    "        self.optimizer = optim.AdamW(filter(lambda p: p.requires_grad, model_params),  lr=lr)\n",
    "        self.scheduler = optim.lr_scheduler.StepLR(self.optimizer, step_size, gamma)\n",
    "\n",
    "    def step(self, scaler):\n",
    "        scaler.step(self.optimizer)\n",
    "\n",
    "    def zero_grad(self):\n",
    "        self.optimizer.zero_grad()\n",
    "\n",
    "    def scheduler_step(self):\n",
    "        self.scheduler.step()\n",
    "\n",
    "    def optimizer_state_dict(self):\n",
    "        return self.optimizer.state_dict()\n",
    "\n",
    "    def scheduler_state_dict(self):\n",
    "        return self.scheduler.state_dict()\n",
    "\n",
    "    def load_state_dict(self, optimizer_state_dict, scheduler_state_dict):\n",
    "        self.optimizer.load_state_dict(optimizer_state_dict)\n",
    "        self.scheduler.load_state_dict(scheduler_state_dict)"
   ]
  },
  {
   "cell_type": "markdown",
   "id": "273f9b7c",
   "metadata": {
    "papermill": {
     "duration": 0.005579,
     "end_time": "2025-03-05T05:34:45.549738",
     "exception": false,
     "start_time": "2025-03-05T05:34:45.544159",
     "status": "completed"
    },
    "tags": []
   },
   "source": [
    "## Dataloaders and Transforms"
   ]
  },
  {
   "cell_type": "code",
   "execution_count": 12,
   "id": "6332b236",
   "metadata": {
    "execution": {
     "iopub.execute_input": "2025-03-05T05:34:45.562776Z",
     "iopub.status.busy": "2025-03-05T05:34:45.562425Z",
     "iopub.status.idle": "2025-03-05T05:34:45.632327Z",
     "shell.execute_reply": "2025-03-05T05:34:45.631423Z"
    },
    "papermill": {
     "duration": 0.07794,
     "end_time": "2025-03-05T05:34:45.633803",
     "exception": false,
     "start_time": "2025-03-05T05:34:45.555863",
     "status": "completed"
    },
    "tags": []
   },
   "outputs": [
    {
     "data": {
      "text/plain": [
       "device(type='cuda')"
      ]
     },
     "execution_count": 12,
     "metadata": {},
     "output_type": "execute_result"
    }
   ],
   "source": [
    "device = torch.device('cuda' if torch.cuda.is_available() else 'cpu')\n",
    "device"
   ]
  },
  {
   "cell_type": "code",
   "execution_count": 13,
   "id": "75ea9a96",
   "metadata": {
    "execution": {
     "iopub.execute_input": "2025-03-05T05:34:45.646807Z",
     "iopub.status.busy": "2025-03-05T05:34:45.646507Z",
     "iopub.status.idle": "2025-03-05T05:34:45.681677Z",
     "shell.execute_reply": "2025-03-05T05:34:45.680913Z"
    },
    "papermill": {
     "duration": 0.043059,
     "end_time": "2025-03-05T05:34:45.683001",
     "exception": false,
     "start_time": "2025-03-05T05:34:45.639942",
     "status": "completed"
    },
    "tags": []
   },
   "outputs": [
    {
     "name": "stdout",
     "output_type": "stream",
     "text": [
      "the train has 25111 samples\n",
      "the val has 15612 samples\n",
      "the test has 15533 samples\n"
     ]
    }
   ],
   "source": [
    "train_transform = transforms.Compose([\n",
    "    transforms.Resize(256),            # Resize shorter side to 256     \n",
    "    transforms.RandomResizedCrop(224),  # Randomly crop and resize to 224x224\n",
    "    transforms.RandomRotation(degrees=5),                   # Randomly rotate images within ±5 degrees\n",
    "    transforms.ToTensor(),                                   # Convert PIL images to PyTorch tensors\n",
    "    transforms.Normalize(mean=[0.485, 0.456, 0.406],        # Normalize using ImageNet mean and std values\n",
    "                         std=[0.229, 0.224, 0.225]),         # (mean and std are the same used during ResNet pre-training)\n",
    "])\n",
    "\n",
    "train_dataset = PlayerDataset(df, split='train', transform=train_transform)\n",
    "val_dataset = PlayerDataset(df, split='val')\n",
    "test_dataset = PlayerDataset(df, split='test')"
   ]
  },
  {
   "cell_type": "code",
   "execution_count": 14,
   "id": "bd676ffe",
   "metadata": {
    "execution": {
     "iopub.execute_input": "2025-03-05T05:34:45.695878Z",
     "iopub.status.busy": "2025-03-05T05:34:45.695563Z",
     "iopub.status.idle": "2025-03-05T05:34:45.700446Z",
     "shell.execute_reply": "2025-03-05T05:34:45.699647Z"
    },
    "papermill": {
     "duration": 0.0127,
     "end_time": "2025-03-05T05:34:45.701820",
     "exception": false,
     "start_time": "2025-03-05T05:34:45.689120",
     "status": "completed"
    },
    "tags": []
   },
   "outputs": [],
   "source": [
    "batch_size = 150\n",
    "train_loader = DataLoader(train_dataset, batch_size=batch_size, shuffle=True, num_workers=4)\n",
    "val_loader = DataLoader(val_dataset, batch_size=batch_size, shuffle=False, num_workers=4)\n",
    "test_loader = DataLoader(test_dataset, batch_size=batch_size, shuffle=False, num_workers=4)\n",
    "dataloaders = {'train': train_loader, 'val': val_loader}"
   ]
  },
  {
   "cell_type": "code",
   "execution_count": null,
   "id": "6d1e5163",
   "metadata": {
    "papermill": {
     "duration": 0.005523,
     "end_time": "2025-03-05T05:34:45.713272",
     "exception": false,
     "start_time": "2025-03-05T05:34:45.707749",
     "status": "completed"
    },
    "tags": []
   },
   "outputs": [],
   "source": []
  },
  {
   "cell_type": "markdown",
   "id": "af0c0c67",
   "metadata": {
    "papermill": {
     "duration": 0.005472,
     "end_time": "2025-03-05T05:34:45.724478",
     "exception": false,
     "start_time": "2025-03-05T05:34:45.719006",
     "status": "completed"
    },
    "tags": []
   },
   "source": [
    "## Custom Criterion"
   ]
  },
  {
   "cell_type": "code",
   "execution_count": 15,
   "id": "a669ddec",
   "metadata": {
    "execution": {
     "iopub.execute_input": "2025-03-05T05:34:45.737129Z",
     "iopub.status.busy": "2025-03-05T05:34:45.736819Z",
     "iopub.status.idle": "2025-03-05T05:34:45.972481Z",
     "shell.execute_reply": "2025-03-05T05:34:45.971738Z"
    },
    "papermill": {
     "duration": 0.244003,
     "end_time": "2025-03-05T05:34:45.974118",
     "exception": false,
     "start_time": "2025-03-05T05:34:45.730115",
     "status": "completed"
    },
    "tags": []
   },
   "outputs": [],
   "source": [
    "criterion = WeightedCrossEntropyLoss(train_dataset, device, num_classes=9)"
   ]
  },
  {
   "cell_type": "code",
   "execution_count": 16,
   "id": "3c501351",
   "metadata": {
    "execution": {
     "iopub.execute_input": "2025-03-05T05:34:45.987315Z",
     "iopub.status.busy": "2025-03-05T05:34:45.987041Z",
     "iopub.status.idle": "2025-03-05T05:34:46.299458Z",
     "shell.execute_reply": "2025-03-05T05:34:46.298466Z"
    },
    "papermill": {
     "duration": 0.320527,
     "end_time": "2025-03-05T05:34:46.300817",
     "exception": false,
     "start_time": "2025-03-05T05:34:45.980290",
     "status": "completed"
    },
    "tags": []
   },
   "outputs": [
    {
     "name": "stdout",
     "output_type": "stream",
     "text": [
      "tensor([ 16.2953,  41.1656,  24.0297,  45.4909,  45.0018,  21.9694, 160.9680,\n",
      "         10.5998,   1.4653], device='cuda:0')\n"
     ]
    }
   ],
   "source": [
    "print(criterion.loss.weight)"
   ]
  },
  {
   "cell_type": "markdown",
   "id": "1836c870",
   "metadata": {
    "papermill": {
     "duration": 0.005759,
     "end_time": "2025-03-05T05:34:46.312860",
     "exception": false,
     "start_time": "2025-03-05T05:34:46.307101",
     "status": "completed"
    },
    "tags": []
   },
   "source": [
    "## Model Training"
   ]
  },
  {
   "cell_type": "code",
   "execution_count": 17,
   "id": "4e59a5e9",
   "metadata": {
    "execution": {
     "iopub.execute_input": "2025-03-05T05:34:46.326045Z",
     "iopub.status.busy": "2025-03-05T05:34:46.325722Z",
     "iopub.status.idle": "2025-03-05T05:34:47.705478Z",
     "shell.execute_reply": "2025-03-05T05:34:47.704748Z"
    },
    "papermill": {
     "duration": 1.388229,
     "end_time": "2025-03-05T05:34:47.707042",
     "exception": false,
     "start_time": "2025-03-05T05:34:46.318813",
     "status": "completed"
    },
    "tags": []
   },
   "outputs": [
    {
     "name": "stderr",
     "output_type": "stream",
     "text": [
      "Downloading: \"https://download.pytorch.org/models/resnet50-11ad3fa6.pth\" to /root/.cache/torch/hub/checkpoints/resnet50-11ad3fa6.pth\n"
     ]
    }
   ],
   "source": [
    "model = ResnetEvolution()\n",
    "model = model.to(device)\n",
    "optimizer = AdamWScheduled(model_params=model.parameters(), lr=0.001, step_size=5, gamma=0.6)\n",
    "\n",
    "save_folder = '/kaggle/working/'\n",
    "trainer = b1_ModelTrainer(model, optimizer,True, criterion, epochs=30, dataloaders=dataloaders, device=device, save_folder=save_folder)"
   ]
  },
  {
   "cell_type": "code",
   "execution_count": 18,
   "id": "a8d01b18",
   "metadata": {
    "execution": {
     "iopub.execute_input": "2025-03-05T05:34:47.720379Z",
     "iopub.status.busy": "2025-03-05T05:34:47.720122Z",
     "iopub.status.idle": "2025-03-05T05:34:47.723349Z",
     "shell.execute_reply": "2025-03-05T05:34:47.722726Z"
    },
    "papermill": {
     "duration": 0.011101,
     "end_time": "2025-03-05T05:34:47.724447",
     "exception": false,
     "start_time": "2025-03-05T05:34:47.713346",
     "status": "completed"
    },
    "tags": []
   },
   "outputs": [],
   "source": [
    "torch.cuda.empty_cache()"
   ]
  },
  {
   "cell_type": "code",
   "execution_count": 19,
   "id": "d98f6b67",
   "metadata": {
    "execution": {
     "iopub.execute_input": "2025-03-05T05:34:47.737456Z",
     "iopub.status.busy": "2025-03-05T05:34:47.737191Z",
     "iopub.status.idle": "2025-03-05T07:25:50.186107Z",
     "shell.execute_reply": "2025-03-05T07:25:50.185185Z"
    },
    "papermill": {
     "duration": 6662.457405,
     "end_time": "2025-03-05T07:25:50.187842",
     "exception": false,
     "start_time": "2025-03-05T05:34:47.730437",
     "status": "completed"
    },
    "tags": []
   },
   "outputs": [
    {
     "name": "stdout",
     "output_type": "stream",
     "text": [
      "\n",
      "Training epoch 1\n",
      "Epoch 1/30, train Loss: 2.151802828624135\n",
      "Epoch 1/30, (val) Loss: 2.212996181987581 | Accuracy: 0.08198821419420958\n",
      "\n",
      "Training epoch 2\n",
      "Epoch 2/30, train Loss: 2.1007533825579143\n",
      "Epoch 2/30, (val) Loss: 2.688588775907244 | Accuracy: 0.0754547783756085\n",
      "\n",
      "Training epoch 3\n",
      "Epoch 3/30, train Loss: 2.0747196901412237\n",
      "Epoch 3/30, (val) Loss: 2.6624209052040464 | Accuracy: 0.10914681014604151\n",
      "\n",
      "Training epoch 4\n",
      "Epoch 4/30, train Loss: 2.0443414605799175\n",
      "Epoch 4/30, (val) Loss: 2.809462112472171 | Accuracy: 0.21259287727389187\n",
      "\n",
      "Training epoch 5\n",
      "Epoch 5/30, train Loss: 2.0305146227280297\n",
      "Epoch 5/30, (val) Loss: 2.476147392817906 | Accuracy: 0.09774532410965923\n",
      "\n",
      "Training epoch 6\n",
      "Epoch 6/30, train Loss: 1.963431811048871\n",
      "Epoch 6/30, (val) Loss: 2.330000817208063 | Accuracy: 0.11625672559569562\n",
      "\n",
      "Training epoch 7\n",
      "Epoch 7/30, train Loss: 1.9310681543179922\n",
      "Epoch 7/30, (val) Loss: 2.783056162652515 | Accuracy: 0.10543171919036638\n",
      "\n",
      "Training epoch 8\n",
      "Epoch 8/30, train Loss: 1.9251948311215354\n",
      "Epoch 8/30, (val) Loss: 2.4759885322479973 | Accuracy: 0.11420702024084038\n",
      "\n",
      "Training epoch 9\n",
      "Epoch 9/30, train Loss: 1.8958750835486822\n",
      "Epoch 9/30, (val) Loss: 2.133052803221203 | Accuracy: 0.09236484755316424\n",
      "\n",
      "Training epoch 10\n",
      "Epoch 10/30, train Loss: 1.8817300143696012\n",
      "Epoch 10/30, (val) Loss: 2.1492205460866294 | Accuracy: 0.14303100179349218\n",
      "\n",
      "Training epoch 11\n",
      "Epoch 11/30, train Loss: 1.826927471728552\n",
      "Epoch 11/30, (val) Loss: 2.365156549499148 | Accuracy: 0.11830643095055086\n",
      "\n",
      "Training epoch 12\n",
      "Epoch 12/30, train Loss: 1.8109794542902993\n",
      "Epoch 12/30, (val) Loss: 2.356571728842599 | Accuracy: 0.11228542147066359\n",
      "\n",
      "Training epoch 13\n",
      "Epoch 13/30, train Loss: 1.8059508601824443\n",
      "Epoch 13/30, (val) Loss: 2.0950289045061385 | Accuracy: 0.11920317704330002\n",
      "\n",
      "Training epoch 14\n",
      "Epoch 14/30, train Loss: 1.8015795662289573\n",
      "Epoch 14/30, (val) Loss: 2.177737820716131 | Accuracy: 0.12323853446067128\n",
      "\n",
      "Training epoch 15\n",
      "Epoch 15/30, train Loss: 1.7830730548926763\n",
      "Epoch 15/30, (val) Loss: 2.1900532347815376 | Accuracy: 0.11177299513194978\n",
      "\n",
      "Training epoch 16\n",
      "Epoch 16/30, train Loss: 1.7466434353873843\n",
      "Epoch 16/30, (val) Loss: 2.1800355207352413 | Accuracy: 0.12336664104534974\n",
      "\n",
      "Training epoch 17\n",
      "Epoch 17/30, train Loss: 1.7323441122259413\n",
      "Epoch 17/30, (val) Loss: 2.151607230731419 | Accuracy: 0.12259800153727901\n",
      "\n",
      "Training epoch 18\n",
      "Epoch 18/30, train Loss: 1.7303385748749687\n",
      "Epoch 18/30, (val) Loss: 2.0360651345480054 | Accuracy: 0.1350243402510889\n",
      "\n",
      "Training epoch 19\n",
      "Epoch 19/30, train Loss: 1.7070010460558391\n",
      "Epoch 19/30, (val) Loss: 2.2058363471712386 | Accuracy: 0.12144504227517294\n",
      "\n",
      "Training epoch 20\n",
      "Epoch 20/30, train Loss: 1.6951291993969964\n",
      "Epoch 20/30, (val) Loss: 2.0716016337985086 | Accuracy: 0.14482449397899053\n",
      "\n",
      "Training epoch 21\n",
      "Epoch 21/30, train Loss: 1.6775199479999996\n",
      "Epoch 21/30, (val) Loss: 1.9724460908344814 | Accuracy: 0.14476044068665128\n",
      "\n",
      "Training epoch 22\n",
      "Epoch 22/30, train Loss: 1.6358060453619276\n",
      "Epoch 22/30, (val) Loss: 2.0318616594587056 | Accuracy: 0.16474506789648988\n",
      "\n",
      "Training epoch 23\n",
      "Epoch 23/30, train Loss: 1.6481619058620363\n",
      "Epoch 23/30, (val) Loss: 2.0285654067993164 | Accuracy: 0.15321547527542917\n",
      "\n",
      "Training epoch 24\n",
      "Epoch 24/30, train Loss: 1.6324238124347867\n",
      "Epoch 24/30, (val) Loss: 1.9357849087033954 | Accuracy: 0.1525749423520369\n",
      "\n",
      "Training epoch 25\n",
      "Epoch 25/30, train Loss: 1.6287362327178319\n",
      "Epoch 25/30, (val) Loss: 1.9590136425835745 | Accuracy: 0.1603894440174225\n",
      "\n",
      "Training epoch 26\n",
      "Epoch 26/30, train Loss: 1.59168888486567\n",
      "Epoch 26/30, (val) Loss: 2.0535267739068894 | Accuracy: 0.16090187035613632\n",
      "\n",
      "Training epoch 27\n",
      "Epoch 27/30, train Loss: 1.608946170835268\n",
      "Epoch 27/30, (val) Loss: 1.9667284318378992 | Accuracy: 0.16634640020497055\n",
      "\n",
      "Training epoch 28\n",
      "Epoch 28/30, train Loss: 1.5675910335211527\n",
      "Epoch 28/30, (val) Loss: 2.057936449277969 | Accuracy: 0.15436843453753524\n",
      "\n",
      "Training epoch 29\n",
      "Epoch 29/30, train Loss: 1.5667534002235957\n",
      "Epoch 29/30, (val) Loss: 2.1185870102473667 | Accuracy: 0.14552908019472202\n",
      "\n",
      "Training epoch 30\n",
      "Epoch 30/30, train Loss: 1.5529167148328962\n",
      "Epoch 30/30, (val) Loss: 2.031466636203584 | Accuracy: 0.170445810914681\n"
     ]
    }
   ],
   "source": [
    "train_losses, val_losses, val_accuracies = trainer.train_model(verbose=0)"
   ]
  },
  {
   "cell_type": "code",
   "execution_count": 20,
   "id": "8910808d",
   "metadata": {
    "execution": {
     "iopub.execute_input": "2025-03-05T07:25:50.210050Z",
     "iopub.status.busy": "2025-03-05T07:25:50.209718Z",
     "iopub.status.idle": "2025-03-05T07:25:50.662309Z",
     "shell.execute_reply": "2025-03-05T07:25:50.661408Z"
    },
    "papermill": {
     "duration": 0.465383,
     "end_time": "2025-03-05T07:25:50.663862",
     "exception": false,
     "start_time": "2025-03-05T07:25:50.198479",
     "status": "completed"
    },
    "tags": []
   },
   "outputs": [
    {
     "data": {
      "image/png": "[encoded data removed]",
      "text/plain": [
       "<Figure size 640x480 with 1 Axes>"
      ]
     },
     "metadata": {},
     "output_type": "display_data"
    },
    {
     "data": {
      "image/png": "[encoded data removed]",
      "text/plain": [
       "<Figure size 640x480 with 1 Axes>"
      ]
     },
     "metadata": {},
     "output_type": "display_data"
    }
   ],
   "source": [
    "plotter.plot_training_val_b1(train_losses, val_losses, val_accuracies)"
   ]
  },
  {
   "cell_type": "markdown",
   "id": "6703277f",
   "metadata": {
    "papermill": {
     "duration": 0.011529,
     "end_time": "2025-03-05T07:25:50.687367",
     "exception": false,
     "start_time": "2025-03-05T07:25:50.675838",
     "status": "completed"
    },
    "tags": []
   },
   "source": [
    "## Model Evaluation"
   ]
  },
  {
   "cell_type": "code",
   "execution_count": 21,
   "id": "e9f35f35",
   "metadata": {
    "execution": {
     "iopub.execute_input": "2025-03-05T07:25:50.711963Z",
     "iopub.status.busy": "2025-03-05T07:25:50.711619Z",
     "iopub.status.idle": "2025-03-05T07:25:50.721597Z",
     "shell.execute_reply": "2025-03-05T07:25:50.720860Z"
    },
    "papermill": {
     "duration": 0.023682,
     "end_time": "2025-03-05T07:25:50.722916",
     "exception": false,
     "start_time": "2025-03-05T07:25:50.699234",
     "status": "completed"
    },
    "tags": []
   },
   "outputs": [],
   "source": [
    "class b1_ModelTester():\n",
    "    def __init__(self, model, criterion, dataloader, device, load_model=False, model_path=None):\n",
    "        self.model = model\n",
    "        if load_model:\n",
    "            model_state_dict = torch.load(model_path, map_location=device)\n",
    "            self.model.load_state_dict(model_state_dict)\n",
    "        self.criterion = criterion\n",
    "        self.dataloader = dataloader\n",
    "        self.DEVICE = device\n",
    "\n",
    "    def evaluate(self, verbose=0):\n",
    "        dataloader = self.dataloader\n",
    "        model = self.model\n",
    "        criterion = self.criterion\n",
    "        model.eval()\n",
    "\n",
    "        # Initialize metrics tracking\n",
    "        val_loss = 0\n",
    "        all_labels = []\n",
    "        all_predictions = []\n",
    "        all_probabilities = []\n",
    "\n",
    "        if verbose > 0:\n",
    "            dataloader = tqdm(dataloader, desc=\"Testing\")\n",
    "\n",
    "        with torch.no_grad():\n",
    "            with torch.amp.autocast('cuda'):\n",
    "                for inputs, labels in dataloader:\n",
    "                    inputs = inputs.to(self.DEVICE)\n",
    "                    labels = labels.to(self.DEVICE)\n",
    "\n",
    "                    if verbose > 2:\n",
    "                        print(f\"labels: {labels}\")\n",
    "\n",
    "                    # Forward pass\n",
    "                    logits = model(inputs)\n",
    "                    probs = F.softmax(logits, dim=1)\n",
    "\n",
    "                    if verbose > 3:\n",
    "                        print(f\"logits: {logits}\")\n",
    "                        print(f\"probs: {probs}\")\n",
    "\n",
    "                    # Calculate loss\n",
    "                    loss = criterion(logits, labels)\n",
    "                    val_loss += loss.item()\n",
    "\n",
    "                    # Get predictions\n",
    "                    predicted = torch.argmax(probs, dim=1)\n",
    "\n",
    "                    if verbose > 2:\n",
    "                        print(f\"predicted: {predicted}\")\n",
    "                        print(f\"true/false: {(predicted == labels)}\")\n",
    "\n",
    "                    # Store predictions and labels for later metric calculation\n",
    "                    all_labels.extend(labels.cpu().numpy())\n",
    "                    all_predictions.extend(predicted.cpu().numpy())\n",
    "                    all_probabilities.extend(probs.cpu().numpy())\n",
    "\n",
    "        # Calculate average loss\n",
    "        avg_loss = val_loss / len(dataloader)\n",
    "\n",
    "        # Convert lists to numpy arrays for easier manipulation\n",
    "        all_labels = np.array(all_labels)\n",
    "        all_predictions = np.array(all_predictions)\n",
    "        all_probabilities = np.array(all_probabilities)\n",
    "\n",
    "        # Calculate metrics for each class\n",
    "        num_classes = all_probabilities.shape[1]\n",
    "        metrics_dict = {\n",
    "            'accuracy': accuracy_score(all_labels, all_predictions),\n",
    "            'precision': precision_score(all_labels, all_predictions, average='macro', zero_division=0),\n",
    "            'recall': recall_score(all_labels, all_predictions, average='macro', zero_division=0),\n",
    "            'f1': f1_score(all_labels, all_predictions, average='macro', zero_division=0),\n",
    "            'per_class': {\n",
    "                'precision': precision_score(all_labels, all_predictions, average=None, zero_division=0),\n",
    "                'recall': recall_score(all_labels, all_predictions, average=None, zero_division=0),\n",
    "                'f1': f1_score(all_labels, all_predictions, average=None, zero_division=0)\n",
    "            }\n",
    "        }\n",
    "\n",
    "        # Prepare confusion matrix data\n",
    "        confusion_data = {\n",
    "            'true_labels': all_labels,\n",
    "            'predictions': all_predictions,\n",
    "            'probabilities': all_probabilities,\n",
    "            'num_classes': num_classes\n",
    "        }\n",
    "\n",
    "        return avg_loss, metrics_dict, confusion_data"
   ]
  },
  {
   "cell_type": "code",
   "execution_count": 22,
   "id": "48cefe73",
   "metadata": {
    "execution": {
     "iopub.execute_input": "2025-03-05T07:25:50.751856Z",
     "iopub.status.busy": "2025-03-05T07:25:50.751413Z",
     "iopub.status.idle": "2025-03-05T07:25:50.755860Z",
     "shell.execute_reply": "2025-03-05T07:25:50.754905Z"
    },
    "papermill": {
     "duration": 0.021139,
     "end_time": "2025-03-05T07:25:50.758228",
     "exception": false,
     "start_time": "2025-03-05T07:25:50.737089",
     "status": "completed"
    },
    "tags": []
   },
   "outputs": [],
   "source": [
    "tester = b1_ModelTester(model, criterion, test_loader, device)"
   ]
  },
  {
   "cell_type": "code",
   "execution_count": 23,
   "id": "1d6290d4",
   "metadata": {
    "execution": {
     "iopub.execute_input": "2025-03-05T07:25:50.795230Z",
     "iopub.status.busy": "2025-03-05T07:25:50.794714Z",
     "iopub.status.idle": "2025-03-05T07:27:08.111995Z",
     "shell.execute_reply": "2025-03-05T07:27:08.110882Z"
    },
    "papermill": {
     "duration": 77.335387,
     "end_time": "2025-03-05T07:27:08.113563",
     "exception": false,
     "start_time": "2025-03-05T07:25:50.778176",
     "status": "completed"
    },
    "tags": []
   },
   "outputs": [
    {
     "name": "stderr",
     "output_type": "stream",
     "text": [
      "Testing: 100%|██████████| 104/104 [01:17<00:00,  1.35it/s]\n"
     ]
    }
   ],
   "source": [
    "loss, metrics, confusion_data = tester.evaluate(verbose=1)"
   ]
  },
  {
   "cell_type": "code",
   "execution_count": 24,
   "id": "a9ff846a",
   "metadata": {
    "execution": {
     "iopub.execute_input": "2025-03-05T07:27:08.148596Z",
     "iopub.status.busy": "2025-03-05T07:27:08.148280Z",
     "iopub.status.idle": "2025-03-05T07:27:08.555193Z",
     "shell.execute_reply": "2025-03-05T07:27:08.554178Z"
    },
    "papermill": {
     "duration": 0.425934,
     "end_time": "2025-03-05T07:27:08.556586",
     "exception": false,
     "start_time": "2025-03-05T07:27:08.130652",
     "status": "completed"
    },
    "tags": []
   },
   "outputs": [
    {
     "name": "stdout",
     "output_type": "stream",
     "text": [
      "Loss: 1.9172\n",
      "Accuracy: 0.1770\n",
      "Precision: 0.2115\n",
      "Recall: 0.3500\n",
      "F1 Score: 0.1722\n"
     ]
    },
    {
     "data": {
      "image/png": "[encoded data removed]",
      "text/plain": [
       "<Figure size 1000x800 with 2 Axes>"
      ]
     },
     "metadata": {},
     "output_type": "display_data"
    }
   ],
   "source": [
    "plotter.plot_test_b1(loss, metrics, confusion_data)"
   ]
  }
 ],
 "metadata": {
  "kaggle": {
   "accelerator": "gpu",
   "dataSources": [
    {
     "datasetId": 5561212,
     "sourceId": 9198495,
     "sourceType": "datasetVersion"
    },
    {
     "isSourceIdPinned": true,
     "modelId": 237157,
     "modelInstanceId": 215451,
     "sourceId": 252011,
     "sourceType": "modelInstanceVersion"
    }
   ],
   "dockerImageVersionId": 30919,
   "isGpuEnabled": true,
   "isInternetEnabled": true,
   "language": "python",
   "sourceType": "notebook"
  },
  "kernelspec": {
   "display_name": "Python 3",
   "language": "python",
   "name": "python3"
  },
  "language_info": {
   "codemirror_mode": {
    "name": "ipython",
    "version": 3
   },
   "file_extension": ".py",
   "mimetype": "text/x-python",
   "name": "python",
   "nbconvert_exporter": "python",
   "pygments_lexer": "ipython3",
   "version": "3.10.12"
  },
  "papermill": {
   "default_parameters": {},
   "duration": 6815.489504,
   "end_time": "2025-03-05T07:27:10.810736",
   "environment_variables": {},
   "exception": null,
   "input_path": "__notebook__.ipynb",
   "output_path": "__notebook__.ipynb",
   "parameters": {},
   "start_time": "2025-03-05T05:33:35.321232",
   "version": "2.6.0"
  }
 },
 "nbformat": 4,
 "nbformat_minor": 5
}
