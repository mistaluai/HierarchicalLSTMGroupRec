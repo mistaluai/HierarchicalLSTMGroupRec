{
 "cells": [
  {
   "cell_type": "code",
   "execution_count": 1,
   "id": "3f7e13b6",
   "metadata": {
    "execution": {
     "iopub.execute_input": "2025-03-22T04:02:23.145345Z",
     "iopub.status.busy": "2025-03-22T04:02:23.144917Z",
     "iopub.status.idle": "2025-03-22T04:02:32.889265Z",
     "shell.execute_reply": "2025-03-22T04:02:32.888550Z"
    },
    "papermill": {
     "duration": 9.753885,
     "end_time": "2025-03-22T04:02:32.890805",
     "exception": false,
     "start_time": "2025-03-22T04:02:23.136920",
     "status": "completed"
    },
    "tags": []
   },
   "outputs": [],
   "source": [
    "import torch\n",
    "import torch.nn as nn\n",
    "import torch.optim as optim\n",
    "from torch.utils.data import DataLoader, default_collate\n",
    "from torchvision import transforms\n",
    "from tqdm import tqdm\n",
    "from torch.utils.data import Dataset\n",
    "import pandas as pd\n",
    "from PIL import Image\n",
    "import torchvision\n",
    "import os\n",
    "from torchvision import datasets, transforms, models\n",
    "from torchvision.transforms import v2\n",
    "import glob\n",
    "import torch.nn.functional as F\n",
    "from torchvision.models import ResNet50_Weights\n",
    "from collections import Counter\n",
    "import matplotlib.pyplot as plt\n",
    "import numpy as np\n",
    "import glob\n",
    "import torch\n",
    "import torch.nn.functional as F\n",
    "import numpy as np\n",
    "from tqdm import tqdm\n",
    "import seaborn as sns\n",
    "from sklearn.metrics import (\n",
    "    accuracy_score,\n",
    "    precision_score,\n",
    "    recall_score,\n",
    "    f1_score,\n",
    "    confusion_matrix\n",
    ")\n",
    "import random\n",
    "from copy import deepcopy"
   ]
  },
  {
   "cell_type": "markdown",
   "id": "4c0afdf1",
   "metadata": {
    "papermill": {
     "duration": 0.00554,
     "end_time": "2025-03-22T04:02:32.902746",
     "exception": false,
     "start_time": "2025-03-22T04:02:32.897206",
     "status": "completed"
    },
    "tags": []
   },
   "source": [
    "## Plotter"
   ]
  },
  {
   "cell_type": "code",
   "execution_count": 2,
   "id": "6ac7570a",
   "metadata": {
    "execution": {
     "iopub.execute_input": "2025-03-22T04:02:32.915145Z",
     "iopub.status.busy": "2025-03-22T04:02:32.914751Z",
     "iopub.status.idle": "2025-03-22T04:02:32.921316Z",
     "shell.execute_reply": "2025-03-22T04:02:32.920482Z"
    },
    "papermill": {
     "duration": 0.014096,
     "end_time": "2025-03-22T04:02:32.922589",
     "exception": false,
     "start_time": "2025-03-22T04:02:32.908493",
     "status": "completed"
    },
    "tags": []
   },
   "outputs": [],
   "source": [
    "class Plotter:\n",
    "\n",
    "    def plot_training_val_b1(self, training_loss, val_loss, val_accuracy):\n",
    "        epochs = range(1, len(training_loss) + 1)\n",
    "\n",
    "        fig, ax1 = plt.subplots()\n",
    "        ax1.plot(epochs, training_loss, 'b-', label='Training Loss')\n",
    "        ax1.plot(epochs, val_loss, 'r-', label='Validation Loss')\n",
    "        ax1.set_xlabel('Epochs')\n",
    "        ax1.set_ylabel('Loss')\n",
    "        ax1.legend()\n",
    "        ax1.set_title('Training and Validation Loss')\n",
    "\n",
    "        plt.figure()\n",
    "        plt.plot(epochs, val_accuracy, 'g-', label='Validation Accuracy')\n",
    "        plt.xlabel('Epochs')\n",
    "        plt.ylabel('Accuracy')\n",
    "        plt.legend()\n",
    "        plt.title('Validation Accuracy')\n",
    "\n",
    "        plt.show()\n",
    "\n",
    "    def plot_test_b1(self, loss, metrics, confusion_data):\n",
    "        # Print metrics\n",
    "        print(f\"Loss: {loss:.4f}\")\n",
    "        print(f\"Accuracy: {metrics['accuracy']:.4f}\")\n",
    "        print(f\"Precision: {metrics['precision']:.4f}\")\n",
    "        print(f\"Recall: {metrics['recall']:.4f}\")\n",
    "        print(f\"F1 Score: {metrics['f1']:.4f}\")\n",
    "\n",
    "        # Plot confusion matrix\n",
    "        cm = confusion_matrix(confusion_data['true_labels'], confusion_data['predictions'])\n",
    "        plt.figure(figsize=(10, 8))\n",
    "        sns.heatmap(cm, annot=True, fmt='d', cmap='Blues')\n",
    "        plt.xlabel('Predicted')\n",
    "        plt.ylabel('True')\n",
    "        plt.title('Confusion Matrix')\n",
    "        plt.show()\n",
    "\n",
    "plotter = Plotter()"
   ]
  },
  {
   "cell_type": "markdown",
   "id": "9d94dadd",
   "metadata": {
    "papermill": {
     "duration": 0.005445,
     "end_time": "2025-03-22T04:02:32.933906",
     "exception": false,
     "start_time": "2025-03-22T04:02:32.928461",
     "status": "completed"
    },
    "tags": []
   },
   "source": [
    "## Data Processing"
   ]
  },
  {
   "cell_type": "code",
   "execution_count": 3,
   "id": "d6335866",
   "metadata": {
    "execution": {
     "iopub.execute_input": "2025-03-22T04:02:32.946117Z",
     "iopub.status.busy": "2025-03-22T04:02:32.945844Z",
     "iopub.status.idle": "2025-03-22T04:02:32.954109Z",
     "shell.execute_reply": "2025-03-22T04:02:32.953502Z"
    },
    "papermill": {
     "duration": 0.015759,
     "end_time": "2025-03-22T04:02:32.955346",
     "exception": false,
     "start_time": "2025-03-22T04:02:32.939587",
     "status": "completed"
    },
    "tags": []
   },
   "outputs": [],
   "source": [
    "class DataProcessorBaselineTwo():\n",
    "\n",
    "    def __init__(self, videos_root, map_classes=True):\n",
    "        self.frame_mapping = {'l-spike': 0, 'l_set': 1, 'r_set': 2, 'r-pass': 3, 'r_spike': 4, 'l-pass': 5,\n",
    "                              'r_winpoint': 6, 'l_winpoint': 7}\n",
    "        self.player_mapping = {\n",
    "            'waiting': 0, 'setting': 1, 'digging': 2, 'falling': 3, 'spiking': 4,\n",
    "            'blocking': 5, 'jumping': 6, 'moving': 7, 'standing': 8}\n",
    "        self.map_classes = map_classes\n",
    "        self.root = videos_root\n",
    "\n",
    "        self.dataset = self.collect_video_data()\n",
    "\n",
    "\n",
    "    def get_dataset(self):\n",
    "        return self.dataset\n",
    "\n",
    "    def __process_players(self, line):\n",
    "        words = line.split()\n",
    "        boxes = []  # List to store (box, class) tuples\n",
    "\n",
    "        # Skip frame ID and extra info (assuming it's always at index 1)\n",
    "        words = words[2:]\n",
    "\n",
    "        # Iterate through bounding box annotations\n",
    "        for i in range(0, len(words), 5):\n",
    "            x1, y1, x2, y2 = map(int, words[i:i + 4])  # Extract coordinates\n",
    "\n",
    "            class_name = words[i + 4]  # Extract class name\n",
    "            class_id = self.player_mapping[class_name]\n",
    "\n",
    "            boxes.append(((x1, y1, x2, y2), class_id))\n",
    "\n",
    "        return boxes\n",
    "\n",
    "    def collect_video_data(self):\n",
    "        dataset = []  # List to store video data\n",
    "        videos = np.arange(55)\n",
    "        for video in videos:\n",
    "            video_path = os.path.join(self.root, str(video))\n",
    "            annotation_path = os.path.join(video_path, 'annotations.txt')\n",
    "            data_from_annotation = self.__parse_annotation(annotation_path, video_path, video)\n",
    "            dataset.extend(data_from_annotation)\n",
    "        return dataset\n",
    "\n",
    "    def __parse_annotation(self, annotation, video_path, video_id):\n",
    "        output = []\n",
    "        with open(annotation, 'r') as f:\n",
    "            for line in f:\n",
    "                parts = line.strip().split()\n",
    "                # Extract the frame ID (image name) and frame activity class\n",
    "                frame_image = parts[0]  # Image name (e.g., '48075.jpg')\n",
    "                frame_activity_class = parts[1]  # Frame Activity Class (e.g., 'r_winpoint')\n",
    "\n",
    "                # Remove .jpg from frame_image to get the frame ID\n",
    "                frame_id = os.path.splitext(frame_image)[0]\n",
    "\n",
    "                # Construct the expected path to the target image\n",
    "                target_image_path = os.path.join(video_path, str(frame_id), frame_image)\n",
    "\n",
    "                # get players in frame\n",
    "                players = self.__process_players(line)\n",
    "                if os.path.exists(target_image_path):\n",
    "                    output.append(\n",
    "                        {\n",
    "                            'video': video_id,\n",
    "                            'frame': target_image_path,\n",
    "                            'class': frame_activity_class,\n",
    "                            'mapped_class': self.frame_mapping[frame_activity_class],\n",
    "                            'players': players\n",
    "                        }\n",
    "                    )\n",
    "                else:\n",
    "                    print(f\"Target image not found: {target_image_path}\")\n",
    "        return output"
   ]
  },
  {
   "cell_type": "markdown",
   "id": "baed1525",
   "metadata": {
    "papermill": {
     "duration": 0.005495,
     "end_time": "2025-03-22T04:02:32.966587",
     "exception": false,
     "start_time": "2025-03-22T04:02:32.961092",
     "status": "completed"
    },
    "tags": []
   },
   "source": [
    "Make sure you want to run this before running it"
   ]
  },
  {
   "cell_type": "code",
   "execution_count": 4,
   "id": "0afcb99e",
   "metadata": {
    "execution": {
     "iopub.execute_input": "2025-03-22T04:02:32.978647Z",
     "iopub.status.busy": "2025-03-22T04:02:32.978436Z",
     "iopub.status.idle": "2025-03-22T04:02:33.110487Z",
     "shell.execute_reply": "2025-03-22T04:02:33.109357Z"
    },
    "papermill": {
     "duration": 0.139808,
     "end_time": "2025-03-22T04:02:33.112074",
     "exception": false,
     "start_time": "2025-03-22T04:02:32.972266",
     "status": "completed"
    },
    "tags": []
   },
   "outputs": [
    {
     "name": "stdout",
     "output_type": "stream",
     "text": [
      "rm: cannot remove '/kaggle/working/': Device or resource busy\r\n"
     ]
    }
   ],
   "source": [
    "!rm -rf '/kaggle/working/'"
   ]
  },
  {
   "cell_type": "code",
   "execution_count": 5,
   "id": "54e3e342",
   "metadata": {
    "execution": {
     "iopub.execute_input": "2025-03-22T04:02:33.125056Z",
     "iopub.status.busy": "2025-03-22T04:02:33.124781Z",
     "iopub.status.idle": "2025-03-22T04:03:18.638921Z",
     "shell.execute_reply": "2025-03-22T04:03:18.637906Z"
    },
    "papermill": {
     "duration": 45.522371,
     "end_time": "2025-03-22T04:03:18.640681",
     "exception": false,
     "start_time": "2025-03-22T04:02:33.118310",
     "status": "completed"
    },
    "tags": []
   },
   "outputs": [],
   "source": [
    "base_path = '/kaggle/input/volleyball/volleyball_/videos/'\n",
    "df = DataProcessorBaselineTwo(base_path).get_dataset()"
   ]
  },
  {
   "cell_type": "markdown",
   "id": "899b93b5",
   "metadata": {
    "papermill": {
     "duration": 0.005546,
     "end_time": "2025-03-22T04:03:18.652658",
     "exception": false,
     "start_time": "2025-03-22T04:03:18.647112",
     "status": "completed"
    },
    "tags": []
   },
   "source": [
    "## Model"
   ]
  },
  {
   "cell_type": "code",
   "execution_count": 6,
   "id": "72da4cea",
   "metadata": {
    "execution": {
     "iopub.execute_input": "2025-03-22T04:03:18.664964Z",
     "iopub.status.busy": "2025-03-22T04:03:18.664716Z",
     "iopub.status.idle": "2025-03-22T04:03:18.669494Z",
     "shell.execute_reply": "2025-03-22T04:03:18.668718Z"
    },
    "papermill": {
     "duration": 0.012171,
     "end_time": "2025-03-22T04:03:18.670643",
     "exception": false,
     "start_time": "2025-03-22T04:03:18.658472",
     "status": "completed"
    },
    "tags": []
   },
   "outputs": [],
   "source": [
    "class ResnetEvolution(nn.Module):\n",
    "    def __init__(self):\n",
    "        super(ResnetEvolution, self).__init__()\n",
    "        self.model = self.__init_backbone(torchvision.models.resnet50(weights=ResNet50_Weights.IMAGENET1K_V2, progress=False))\n",
    "\n",
    "    def __init_backbone(self, backbone):\n",
    "        num_features = backbone.fc.in_features\n",
    "        layers = nn.Sequential(\n",
    "            nn.Linear(num_features, 9),\n",
    "        )\n",
    "        backbone.fc = layers\n",
    "        return backbone\n",
    "\n",
    "    def get_fc(self):\n",
    "        return self.model.fc\n",
    "\n",
    "    def forward(self, images):\n",
    "        return self.model(images)"
   ]
  },
  {
   "cell_type": "markdown",
   "id": "5accd9de",
   "metadata": {
    "papermill": {
     "duration": 0.005529,
     "end_time": "2025-03-22T04:03:18.681973",
     "exception": false,
     "start_time": "2025-03-22T04:03:18.676444",
     "status": "completed"
    },
    "tags": []
   },
   "source": [
    "## Training Utils"
   ]
  },
  {
   "cell_type": "code",
   "execution_count": 7,
   "id": "b9b10d7c",
   "metadata": {
    "execution": {
     "iopub.execute_input": "2025-03-22T04:03:18.694163Z",
     "iopub.status.busy": "2025-03-22T04:03:18.693929Z",
     "iopub.status.idle": "2025-03-22T04:03:18.699777Z",
     "shell.execute_reply": "2025-03-22T04:03:18.699022Z"
    },
    "papermill": {
     "duration": 0.01321,
     "end_time": "2025-03-22T04:03:18.701020",
     "exception": false,
     "start_time": "2025-03-22T04:03:18.687810",
     "status": "completed"
    },
    "tags": []
   },
   "outputs": [],
   "source": [
    "class TrainingUtilities:\n",
    "    @staticmethod\n",
    "    def save_model(model, model_descriptor, save_folder, verbose=0):\n",
    "        torch.save(model.state_dict(), save_folder + f\"/{model_descriptor}b1_model.pth\")\n",
    "        if verbose > 0:\n",
    "            print(f\"Saved model to {save_folder}/b1_model.pth\")\n",
    "\n",
    "    @staticmethod\n",
    "    def save_checkpoint(epoch, model_state_dict, optimizer_state_dict, scheduler_state_dict=None, save_folder='', verbose=0):\n",
    "        checkpoint = {\n",
    "            'epoch': epoch,\n",
    "            'model_state_dict': model_state_dict,\n",
    "            'optimizer_state_dict': optimizer_state_dict,\n",
    "            'scheduler_state_dict': scheduler_state_dict\n",
    "        }\n",
    "        torch.save(checkpoint, save_folder + f'/checkpoint-epoch{epoch}.pth')\n",
    "        if verbose > 0:\n",
    "            print(f'Saved checkpoint to {save_folder}/checkpoint-epoch{epoch}.pth')\n",
    "\n",
    "    @staticmethod\n",
    "    def load_checkpoint(model, optimizer, checkpoint_path, scheduled, verbose=0):\n",
    "        checkpoint = torch.load(checkpoint_path)\n",
    "\n",
    "        if verbose > 0:\n",
    "            print(f\"Loading checkpoint from {checkpoint_path}\")\n",
    "\n",
    "        epoch = checkpoint['epoch']\n",
    "        model_state_dict = checkpoint['model_state_dict']\n",
    "        optimizer_state_dict = checkpoint['optimizer_state_dict']\n",
    "        scheduler_state_dict = checkpoint['scheduler_state_dict']\n",
    "        model = model.load_state_dict(model_state_dict)\n",
    "        if scheduled:\n",
    "            optimizer.load_state_dict(optimizer_state_dict, scheduler_state_dict)\n",
    "        else:\n",
    "            optimizer = optimizer.load_state_dict(optimizer_state_dict)\n",
    "        return epoch, model, optimizer"
   ]
  },
  {
   "cell_type": "markdown",
   "id": "e91aa798",
   "metadata": {
    "papermill": {
     "duration": 0.005615,
     "end_time": "2025-03-22T04:03:18.712497",
     "exception": false,
     "start_time": "2025-03-22T04:03:18.706882",
     "status": "completed"
    },
    "tags": []
   },
   "source": [
    "## Trainer"
   ]
  },
  {
   "cell_type": "code",
   "execution_count": 8,
   "id": "f148e026",
   "metadata": {
    "execution": {
     "iopub.execute_input": "2025-03-22T04:03:18.724647Z",
     "iopub.status.busy": "2025-03-22T04:03:18.724425Z",
     "iopub.status.idle": "2025-03-22T04:03:18.739571Z",
     "shell.execute_reply": "2025-03-22T04:03:18.738939Z"
    },
    "papermill": {
     "duration": 0.022406,
     "end_time": "2025-03-22T04:03:18.740636",
     "exception": false,
     "start_time": "2025-03-22T04:03:18.718230",
     "status": "completed"
    },
    "tags": []
   },
   "outputs": [],
   "source": [
    "class b1_ModelTrainer:\n",
    "    def __init__(self, model, optimizer, scheduled, criterion, epochs, dataloaders, device, save_folder,\n",
    "                 is_continue=False, checkpoint=None):\n",
    "        self.model = model\n",
    "        self.optimizer = optimizer\n",
    "        self.scheduled = scheduled\n",
    "        self.criterion = criterion\n",
    "        self.epochs = epochs\n",
    "        self.dataloaders = dataloaders\n",
    "        self.DEVICE = device\n",
    "        self.save_folder = save_folder\n",
    "        self.is_continue = is_continue\n",
    "        self.checkpoint = checkpoint\n",
    "        self.scaler = torch.amp.GradScaler()\n",
    "\n",
    "    # verbose 1 : checkpoint,\n",
    "    # verbose 3:  labels, preds\n",
    "    # verbose 4: logits\n",
    "    def train_model(self, verbose=0):\n",
    "        model, optimizer, criterion, epochs, dataloaders, scaler = self.model, self.optimizer, self.criterion, self.epochs, self.dataloaders, self.scaler\n",
    "        best_model = model\n",
    "        best_acc = 0.0\n",
    "        epoch = 0\n",
    "\n",
    "        train_losses = []\n",
    "        val_losses = []\n",
    "        val_accuracies = []\n",
    "\n",
    "        if self.is_continue:\n",
    "\n",
    "            if verbose > 0:\n",
    "                print(f\"Continuing from checkpoint {self.checkpoint}\")\n",
    "\n",
    "            epoch, model, optimizer = self.__load_checkpoint(model, optimizer, self.checkpoint, verbose)\n",
    "\n",
    "        for training_epoch in range(epoch, epochs):\n",
    "\n",
    "            print(f\"\\nTraining epoch {training_epoch+1}\")\n",
    "\n",
    "            ## change model mode depending on the phase\n",
    "            for phase in ['train', 'val']:\n",
    "                dataloader = dataloaders[phase]\n",
    "                epoch_loss = 0  # Track total loss for the epoch\n",
    "                if phase == 'train':\n",
    "                    if verbose > 0:\n",
    "                        dataloader = tqdm(dataloader, desc=phase)\n",
    "                    model.train()\n",
    "                    for inputs, labels in dataloader:\n",
    "\n",
    "                        inputs = inputs.to(self.DEVICE)\n",
    "                        labels = labels.to(self.DEVICE)\n",
    "\n",
    "                        if verbose > 3:\n",
    "                            print(f\"labels: {labels}\")\n",
    "\n",
    "                        # zero grads of he optim\n",
    "                        optimizer.zero_grad()\n",
    "\n",
    "                        # freeze the non-learnable weights\n",
    "                        # self.__handle_transfer_learning(phase, training_epoch / epochs)\n",
    "\n",
    "                        with torch.amp.autocast('cuda'):\n",
    "                            # forward pass\n",
    "                            logit = model(inputs)\n",
    "\n",
    "                            if verbose > 3:\n",
    "                                print(f\"logit: {logit}\")\n",
    "\n",
    "                            loss = criterion(logit, labels)\n",
    "\n",
    "                        scaler.scale(loss).backward()\n",
    "                        optimizer.step(scaler)\n",
    "                        scaler.update()\n",
    "\n",
    "                        epoch_loss += loss.item()  # Accumulate loss\n",
    "\n",
    "                    train_losses.append(epoch_loss / len(dataloader))\n",
    "                    print(\n",
    "                        f\"Epoch {training_epoch + 1}/{epochs}, {phase} Loss: {epoch_loss / len(dataloader)}\")  # Print loss\n",
    "                else:\n",
    "                    # skip evaluation if no suitable dataloader\n",
    "                    if dataloaders[phase] is None:\n",
    "                        continue\n",
    "                    model.eval()\n",
    "                    loss, acc = self.__eval_model(dataloader, verbose)\n",
    "                    if acc > best_acc:\n",
    "                        best_acc = acc\n",
    "                        best_model = deepcopy(model)\n",
    "                    val_losses.append(loss)\n",
    "                    val_accuracies.append(acc)\n",
    "                    print(\n",
    "                        f\"Epoch {training_epoch + 1}/{epochs}, ({phase}) Loss: {loss} | Accuracy: {acc}\")  # Print loss\n",
    "\n",
    "            if self.scheduled:\n",
    "                optimizer.scheduler_step()\n",
    "                if training_epoch % 10 == 0:\n",
    "                    TrainingUtilities.save_checkpoint(training_epoch, model.state_dict(), optimizer.optimizer_state_dict(),\n",
    "                                           optimizer.scheduler_state_dict(), self.save_folder, verbose)\n",
    "            else:\n",
    "                if training_epoch % 10 == 0:\n",
    "                    TrainingUtilities.save_checkpoint(training_epoch, model.state_dict(), optimizer.state_dict(),self.save_folder, verbose)\n",
    "\n",
    "            if training_epoch % 10 == 0:\n",
    "                TrainingUtilities.save_model(model, training_epoch, self.save_folder,verbose)\n",
    "\n",
    "        TrainingUtilities.save_model(best_model, 'final_', self.save_folder, verbose)\n",
    "        return train_losses, val_losses, val_accuracies, best_model\n",
    "\n",
    "    def __handle_transfer_learning(self, phase, ratio_epochs, tl_coeff=0, verbose=0):\n",
    "        if phase == \"train\":\n",
    "            if self.__check_transfer_learning(ratio_epochs, tl_coeff):\n",
    "                # Unfreeze all layers for fine-tuning\n",
    "                for param in self.model.parameters():\n",
    "                    param.requires_grad = True\n",
    "            else:\n",
    "                # Freeze the CNN part\n",
    "                for param in self.model.parameters():\n",
    "                    param.requires_grad = False\n",
    "                # Unfreeze the classification layer\n",
    "                for param in self.model.get_fc().parameters():\n",
    "                    param.requires_grad = True\n",
    "        elif phase == \"val\":\n",
    "            for param in self.model.parameters():\n",
    "                param.requires_grad = False\n",
    "\n",
    "    def __check_transfer_learning(self, ratio_epochs, tl_coeff=0):\n",
    "        return ratio_epochs >= tl_coeff\n",
    "\n",
    "    def __eval_model(self, dataloader, verbose=0):\n",
    "        model = self.model\n",
    "        criterion = self.criterion\n",
    "        model.eval()\n",
    "        val_loss = 0\n",
    "        correct_preds = 0\n",
    "        total_preds = 0\n",
    "        if verbose > 0:\n",
    "            dataloader = tqdm(dataloader, desc=\"Validation\")\n",
    "        with torch.no_grad():\n",
    "            with torch.amp.autocast('cuda'):\n",
    "                for inputs, labels in dataloader:\n",
    "                    inputs = inputs.to(self.DEVICE)\n",
    "                    labels = labels.to(self.DEVICE)\n",
    "\n",
    "                    if verbose > 2:\n",
    "                        print(f\"labels: {labels}\")\n",
    "\n",
    "                    # Forward pass\n",
    "                    logits = model(inputs)\n",
    "\n",
    "                    if verbose > 3:\n",
    "                        print(f\"logit: {logits}\")\n",
    "\n",
    "                    probs = F.softmax(logits, dim=1)  # Apply softmax to get probabilities\n",
    "\n",
    "                    if verbose > 3:\n",
    "                        print(f\"probs: {probs}\")\n",
    "\n",
    "                    loss = criterion(logits, labels)\n",
    "                    val_loss += loss.item()  # Accumulate loss\n",
    "\n",
    "                    # Compute accuracy\n",
    "                    predicted = torch.argmax(probs, dim=1)  # Get the class with the highest probability\n",
    "\n",
    "                    if verbose > 2:\n",
    "                        print(f\"predicted: {predicted}\")\n",
    "                        print(f\"true/false: {(predicted == labels)}\")\n",
    "\n",
    "                    correct_preds += (predicted == labels).sum().item()\n",
    "                    total_preds += labels.size(0)\n",
    "\n",
    "        # Calculate average loss and accuracy\n",
    "        avg_loss = val_loss / len(dataloader)\n",
    "        accuracy = correct_preds / total_preds\n",
    "        return avg_loss, accuracy"
   ]
  },
  {
   "cell_type": "markdown",
   "id": "9c1f720d",
   "metadata": {
    "papermill": {
     "duration": 0.005402,
     "end_time": "2025-03-22T04:03:18.751810",
     "exception": false,
     "start_time": "2025-03-22T04:03:18.746408",
     "status": "completed"
    },
    "tags": []
   },
   "source": [
    "## Dataset"
   ]
  },
  {
   "cell_type": "code",
   "execution_count": 9,
   "id": "a1b2a0d5",
   "metadata": {
    "execution": {
     "iopub.execute_input": "2025-03-22T04:03:18.763744Z",
     "iopub.status.busy": "2025-03-22T04:03:18.763529Z",
     "iopub.status.idle": "2025-03-22T04:03:18.772998Z",
     "shell.execute_reply": "2025-03-22T04:03:18.772369Z"
    },
    "papermill": {
     "duration": 0.016662,
     "end_time": "2025-03-22T04:03:18.774134",
     "exception": false,
     "start_time": "2025-03-22T04:03:18.757472",
     "status": "completed"
    },
    "tags": []
   },
   "outputs": [],
   "source": [
    "class PlayerDataset(Dataset):\n",
    "    def __init__(self, dataset, split='train', transform=None, downsampled_class=8, downsample_ratio=0.15, downsample=True):\n",
    "        self.dataset = dataset\n",
    "        if transform is None:\n",
    "            self.transform = transforms.Compose([\n",
    "                transforms.Resize((224, 224)),\n",
    "                transforms.ToTensor(),\n",
    "                transforms.Normalize(mean=[0.485, 0.456, 0.406], std=[0.229, 0.224, 0.225]),\n",
    "            ])\n",
    "        else:\n",
    "            self.transform = transform\n",
    "\n",
    "        VIDEO_SPLITS = {\n",
    "            'train': [1, 3, 6, 7, 10, 13, 15, 16, 18, 22, 23, 31, 32, 36, 38, 39, 40, 41, 42, 48, 50, 52, 53, 54],\n",
    "            'val': [0, 2, 8, 12, 17, 19, 24, 26, 27, 28, 30, 33, 46, 49, 51],\n",
    "            'test': [4, 5, 9, 11, 14, 20, 21, 25, 29, 34, 35, 37, 43, 44, 45, 47]\n",
    "        }\n",
    "\n",
    "        self.index_map = []\n",
    "        list_split = VIDEO_SPLITS[split]\n",
    "        self.labels = []\n",
    "\n",
    "        downsampled_class_index_map = []\n",
    "        for item_idx, item in enumerate(self.dataset):\n",
    "            if int(item['video']) in list_split:\n",
    "                for player_idx, (bbox, action_class) in enumerate(item['players']):\n",
    "                    if action_class != downsampled_class:\n",
    "                        self.index_map.append((item_idx, player_idx))\n",
    "                        self.labels.append(action_class)\n",
    "                    else:\n",
    "                        downsampled_class_index_map.append((item_idx, player_idx))\n",
    "\n",
    "        downsample_size = int(len(downsampled_class_index_map) * downsample_ratio)\n",
    "        if downsample:\n",
    "            downsampled_class_index_map = random.sample(downsampled_class_index_map, downsample_size)\n",
    "\n",
    "        self.index_map.extend(downsampled_class_index_map)\n",
    "        self.labels.extend([downsampled_class] * len(downsampled_class_index_map))\n",
    "\n",
    "        print(f'the {split} has {len(self.index_map)} samples')\n",
    "        self.invalid = 0\n",
    "\n",
    "    def get_labels(self):\n",
    "        return self.labels\n",
    "\n",
    "    def __len__(self):\n",
    "        return len(self.index_map)\n",
    "\n",
    "    def __getitem__(self, idx):\n",
    "        item_idx, player_idx = self.index_map[idx]\n",
    "        item = self.dataset[item_idx]\n",
    "        frame_path = item['frame']\n",
    "        bbox, action_class = item['players'][player_idx]\n",
    "\n",
    "        image = Image.open(frame_path).convert('RGB')\n",
    "        x1, y1, w, h = bbox\n",
    "        x2 = x1 + w\n",
    "        y2 = y1 + h\n",
    "        bbox = (x1, y1, x2, y2)\n",
    "\n",
    "        if bbox[2] <= bbox[0] or bbox[3] <= bbox[1]:\n",
    "            self.invalid += 1\n",
    "            print(f'invalids:{self.invalid}')\n",
    "            return torch.rand(3, 224, 244), torch.tensor(action_class, dtype=torch.long)\n",
    "\n",
    "        cropped_image = image.crop(bbox)  # (x1, y1, x2, y2)\n",
    "\n",
    "        cropped_image = self.transform(cropped_image)\n",
    "\n",
    "        return cropped_image, torch.tensor(action_class, dtype=torch.long)"
   ]
  },
  {
   "cell_type": "markdown",
   "id": "a4ebab2b",
   "metadata": {
    "papermill": {
     "duration": 0.005457,
     "end_time": "2025-03-22T04:03:18.785511",
     "exception": false,
     "start_time": "2025-03-22T04:03:18.780054",
     "status": "completed"
    },
    "tags": []
   },
   "source": [
    "## Loss"
   ]
  },
  {
   "cell_type": "code",
   "execution_count": 10,
   "id": "7a9a5f5f",
   "metadata": {
    "execution": {
     "iopub.execute_input": "2025-03-22T04:03:18.798754Z",
     "iopub.status.busy": "2025-03-22T04:03:18.798540Z",
     "iopub.status.idle": "2025-03-22T04:03:18.802861Z",
     "shell.execute_reply": "2025-03-22T04:03:18.802277Z"
    },
    "papermill": {
     "duration": 0.012765,
     "end_time": "2025-03-22T04:03:18.804031",
     "exception": false,
     "start_time": "2025-03-22T04:03:18.791266",
     "status": "completed"
    },
    "tags": []
   },
   "outputs": [],
   "source": [
    "class WeightedCrossEntropyLoss(nn.Module):\n",
    "    def __init__(self, dataset, device, num_classes=8):\n",
    "        super().__init__()\n",
    "        self.device = device\n",
    "        self.num_classes = num_classes\n",
    "        self.weights = self.__compute_weights(dataset).to(device)\n",
    "        self.loss = nn.CrossEntropyLoss(weight=self.weights)\n",
    "\n",
    "    def __compute_weights(self, dataset):\n",
    "        labels = torch.tensor(dataset.get_labels(), dtype=torch.long)\n",
    "        class_counts = torch.bincount(labels, minlength=self.num_classes)\n",
    "        total_samples = len(labels)\n",
    "        weights = total_samples / (class_counts + 1e-6)  # Avoid div by zero\n",
    "        return weights.float()\n",
    "\n",
    "    def forward(self, logit, target):\n",
    "        return self.loss(logit, target)"
   ]
  },
  {
   "cell_type": "code",
   "execution_count": 11,
   "id": "7e93c990",
   "metadata": {
    "execution": {
     "iopub.execute_input": "2025-03-22T04:03:18.816240Z",
     "iopub.status.busy": "2025-03-22T04:03:18.816004Z",
     "iopub.status.idle": "2025-03-22T04:03:18.819351Z",
     "shell.execute_reply": "2025-03-22T04:03:18.818759Z"
    },
    "papermill": {
     "duration": 0.010586,
     "end_time": "2025-03-22T04:03:18.820447",
     "exception": false,
     "start_time": "2025-03-22T04:03:18.809861",
     "status": "completed"
    },
    "tags": []
   },
   "outputs": [],
   "source": [
    "class AugmentationCELoss(WeightedCrossEntropyLoss):\n",
    "    def __init__(self, dataset, device, num_classes):\n",
    "        super().__init__(dataset, device, num_classes)\n",
    "\n",
    "    def forward(self, logit, target):\n",
    "        return F.cross_entropy(logit, target, weight=self.weights)"
   ]
  },
  {
   "cell_type": "markdown",
   "id": "b834fd57",
   "metadata": {
    "papermill": {
     "duration": 0.005828,
     "end_time": "2025-03-22T04:03:18.832053",
     "exception": false,
     "start_time": "2025-03-22T04:03:18.826225",
     "status": "completed"
    },
    "tags": []
   },
   "source": [
    "## Optimizer"
   ]
  },
  {
   "cell_type": "code",
   "execution_count": 12,
   "id": "2e7167d1",
   "metadata": {
    "execution": {
     "iopub.execute_input": "2025-03-22T04:03:18.844027Z",
     "iopub.status.busy": "2025-03-22T04:03:18.843826Z",
     "iopub.status.idle": "2025-03-22T04:03:18.848300Z",
     "shell.execute_reply": "2025-03-22T04:03:18.847678Z"
    },
    "papermill": {
     "duration": 0.011733,
     "end_time": "2025-03-22T04:03:18.849492",
     "exception": false,
     "start_time": "2025-03-22T04:03:18.837759",
     "status": "completed"
    },
    "tags": []
   },
   "outputs": [],
   "source": [
    "class AdamWScheduled():\n",
    "    def __init__(self, model_params, lr, step_size, gamma):\n",
    "        self.optimizer = optim.AdamW(model_params,  lr=lr)\n",
    "        self.scheduler = optim.lr_scheduler.StepLR(self.optimizer, step_size, gamma)\n",
    "\n",
    "    def step(self, scaler):\n",
    "        scaler.step(self.optimizer)\n",
    "\n",
    "    def zero_grad(self):\n",
    "        self.optimizer.zero_grad()\n",
    "\n",
    "    def scheduler_step(self):\n",
    "        self.scheduler.step()\n",
    "\n",
    "    def optimizer_state_dict(self):\n",
    "        return self.optimizer.state_dict()\n",
    "\n",
    "    def scheduler_state_dict(self):\n",
    "        return self.scheduler.state_dict()\n",
    "\n",
    "    def load_state_dict(self, optimizer_state_dict, scheduler_state_dict):\n",
    "        self.optimizer.load_state_dict(optimizer_state_dict)\n",
    "        self.scheduler.load_state_dict(scheduler_state_dict)"
   ]
  },
  {
   "cell_type": "markdown",
   "id": "1cf7d454",
   "metadata": {
    "papermill": {
     "duration": 0.005421,
     "end_time": "2025-03-22T04:03:18.860543",
     "exception": false,
     "start_time": "2025-03-22T04:03:18.855122",
     "status": "completed"
    },
    "tags": []
   },
   "source": [
    "## Custom dataloader"
   ]
  },
  {
   "cell_type": "code",
   "execution_count": 13,
   "id": "415a6c47",
   "metadata": {
    "execution": {
     "iopub.execute_input": "2025-03-22T04:03:18.872546Z",
     "iopub.status.busy": "2025-03-22T04:03:18.872324Z",
     "iopub.status.idle": "2025-03-22T04:03:18.876828Z",
     "shell.execute_reply": "2025-03-22T04:03:18.876187Z"
    },
    "papermill": {
     "duration": 0.011691,
     "end_time": "2025-03-22T04:03:18.877969",
     "exception": false,
     "start_time": "2025-03-22T04:03:18.866278",
     "status": "completed"
    },
    "tags": []
   },
   "outputs": [],
   "source": [
    "class AugmentationDataLoader():\n",
    "    def __init__(self, dataset, batch_size, shuffle, num_workers, pin_memory, num_classes, mixup_alpha=1.0, cutmix_alpha=1.0):\n",
    "        mixup_alpha = float(mixup_alpha)\n",
    "        cutmix_alpha = float(cutmix_alpha)\n",
    "\n",
    "        cutmix = v2.CutMix(num_classes=num_classes, alpha=cutmix_alpha)\n",
    "        mixup = v2.MixUp(num_classes=num_classes, alpha=mixup_alpha)\n",
    "        self.cutmix_or_mixup = v2.RandomChoice([cutmix, mixup])\n",
    "        self.loader = DataLoader(dataset, batch_size=batch_size, num_workers=num_workers, pin_memory=pin_memory, shuffle=shuffle, collate_fn=self.collate_fn)\n",
    "\n",
    "    def get_loader(self):\n",
    "        return self.loader\n",
    "\n",
    "    def collate_fn(self, batch):\n",
    "        inputs, labels = default_collate(batch)\n",
    "        return self.cutmix_or_mixup(inputs, labels)"
   ]
  },
  {
   "cell_type": "markdown",
   "id": "e367cf53",
   "metadata": {
    "papermill": {
     "duration": 0.005491,
     "end_time": "2025-03-22T04:03:18.889106",
     "exception": false,
     "start_time": "2025-03-22T04:03:18.883615",
     "status": "completed"
    },
    "tags": []
   },
   "source": [
    "## Dataloaders and Transforms"
   ]
  },
  {
   "cell_type": "code",
   "execution_count": 14,
   "id": "37d8c464",
   "metadata": {
    "execution": {
     "iopub.execute_input": "2025-03-22T04:03:18.901417Z",
     "iopub.status.busy": "2025-03-22T04:03:18.901117Z",
     "iopub.status.idle": "2025-03-22T04:03:18.952915Z",
     "shell.execute_reply": "2025-03-22T04:03:18.952228Z"
    },
    "papermill": {
     "duration": 0.059418,
     "end_time": "2025-03-22T04:03:18.954228",
     "exception": false,
     "start_time": "2025-03-22T04:03:18.894810",
     "status": "completed"
    },
    "tags": []
   },
   "outputs": [
    {
     "data": {
      "text/plain": [
       "device(type='cuda')"
      ]
     },
     "execution_count": 14,
     "metadata": {},
     "output_type": "execute_result"
    }
   ],
   "source": [
    "device = torch.device('cuda' if torch.cuda.is_available() else 'cpu')\n",
    "device"
   ]
  },
  {
   "cell_type": "code",
   "execution_count": 15,
   "id": "bb910fed",
   "metadata": {
    "execution": {
     "iopub.execute_input": "2025-03-22T04:03:18.967125Z",
     "iopub.status.busy": "2025-03-22T04:03:18.966912Z",
     "iopub.status.idle": "2025-03-22T04:03:18.999207Z",
     "shell.execute_reply": "2025-03-22T04:03:18.998542Z"
    },
    "papermill": {
     "duration": 0.039946,
     "end_time": "2025-03-22T04:03:19.000467",
     "exception": false,
     "start_time": "2025-03-22T04:03:18.960521",
     "status": "completed"
    },
    "tags": []
   },
   "outputs": [
    {
     "name": "stdout",
     "output_type": "stream",
     "text": [
      "the train has 8754 samples\n",
      "the val has 5416 samples\n",
      "the test has 5403 samples\n",
      "the test has 15526 samples\n"
     ]
    }
   ],
   "source": [
    "train_dataset = PlayerDataset(df, split='train', downsample_ratio=0.05)\n",
    "val_dataset = PlayerDataset(df, split='val', downsample_ratio=0.05)\n",
    "test_dataset_downsampled = PlayerDataset(df, split='test', downsample_ratio=0.05)\n",
    "test_dataset = PlayerDataset(df, split='test', downsample=False)"
   ]
  },
  {
   "cell_type": "code",
   "execution_count": 16,
   "id": "1a7b6c07",
   "metadata": {
    "execution": {
     "iopub.execute_input": "2025-03-22T04:03:19.013154Z",
     "iopub.status.busy": "2025-03-22T04:03:19.012943Z",
     "iopub.status.idle": "2025-03-22T04:03:19.072276Z",
     "shell.execute_reply": "2025-03-22T04:03:19.071617Z"
    },
    "papermill": {
     "duration": 0.067065,
     "end_time": "2025-03-22T04:03:19.073598",
     "exception": false,
     "start_time": "2025-03-22T04:03:19.006533",
     "status": "completed"
    },
    "tags": []
   },
   "outputs": [],
   "source": [
    "batch_size = 150\n",
    "train_loader = AugmentationDataLoader(train_dataset, batch_size=batch_size, shuffle=True, num_workers=4, pin_memory=True, num_classes=9, mixup_alpha=0.9, cutmix_alpha=0.9).get_loader()\n",
    "val_loader = DataLoader(val_dataset, batch_size=batch_size, shuffle=False, num_workers=4)\n",
    "test_loader = DataLoader(test_dataset, batch_size=batch_size, shuffle=False, num_workers=4)\n",
    "test_loader_ds = DataLoader(test_dataset_downsampled, batch_size=batch_size, shuffle=False, num_workers=4)\n",
    "dataloaders = {'train': train_loader, 'val': val_loader}"
   ]
  },
  {
   "cell_type": "markdown",
   "id": "0408bad0",
   "metadata": {
    "papermill": {
     "duration": 0.005878,
     "end_time": "2025-03-22T04:03:19.085727",
     "exception": false,
     "start_time": "2025-03-22T04:03:19.079849",
     "status": "completed"
    },
    "tags": []
   },
   "source": [
    "## Custom Criterion"
   ]
  },
  {
   "cell_type": "code",
   "execution_count": 17,
   "id": "166d330c",
   "metadata": {
    "execution": {
     "iopub.execute_input": "2025-03-22T04:03:19.098779Z",
     "iopub.status.busy": "2025-03-22T04:03:19.098510Z",
     "iopub.status.idle": "2025-03-22T04:03:19.289476Z",
     "shell.execute_reply": "2025-03-22T04:03:19.288767Z"
    },
    "papermill": {
     "duration": 0.199323,
     "end_time": "2025-03-22T04:03:19.290939",
     "exception": false,
     "start_time": "2025-03-22T04:03:19.091616",
     "status": "completed"
    },
    "tags": []
   },
   "outputs": [],
   "source": [
    "# criterion = WeightedCrossEntropyLoss(train_dataset, device, num_classes=9)\n",
    "criterion = AugmentationCELoss(dataset=train_dataset, device=device, num_classes=9)"
   ]
  },
  {
   "cell_type": "markdown",
   "id": "ed68b971",
   "metadata": {
    "papermill": {
     "duration": 0.005635,
     "end_time": "2025-03-22T04:03:19.302935",
     "exception": false,
     "start_time": "2025-03-22T04:03:19.297300",
     "status": "completed"
    },
    "tags": []
   },
   "source": [
    "## Model Training"
   ]
  },
  {
   "cell_type": "code",
   "execution_count": 18,
   "id": "7d56f49b",
   "metadata": {
    "execution": {
     "iopub.execute_input": "2025-03-22T04:03:19.315740Z",
     "iopub.status.busy": "2025-03-22T04:03:19.315445Z",
     "iopub.status.idle": "2025-03-22T04:03:21.733666Z",
     "shell.execute_reply": "2025-03-22T04:03:21.732708Z"
    },
    "papermill": {
     "duration": 2.426387,
     "end_time": "2025-03-22T04:03:21.735398",
     "exception": false,
     "start_time": "2025-03-22T04:03:19.309011",
     "status": "completed"
    },
    "tags": []
   },
   "outputs": [
    {
     "name": "stderr",
     "output_type": "stream",
     "text": [
      "Downloading: \"https://download.pytorch.org/models/resnet50-11ad3fa6.pth\" to /root/.cache/torch/hub/checkpoints/resnet50-11ad3fa6.pth\n"
     ]
    }
   ],
   "source": [
    "model = ResnetEvolution().to(device)\n",
    "optimizer = AdamWScheduled(model_params=model.parameters(), lr=0.001, step_size=10, gamma=0.1)\n",
    "\n",
    "save_folder = '/kaggle/working/'\n",
    "trainer = b1_ModelTrainer(model, optimizer,True, criterion, epochs=30, dataloaders=dataloaders, device=device, save_folder=save_folder)"
   ]
  },
  {
   "cell_type": "code",
   "execution_count": 19,
   "id": "a273fb7a",
   "metadata": {
    "execution": {
     "iopub.execute_input": "2025-03-22T04:03:21.748851Z",
     "iopub.status.busy": "2025-03-22T04:03:21.748603Z",
     "iopub.status.idle": "2025-03-22T04:41:03.120806Z",
     "shell.execute_reply": "2025-03-22T04:41:03.119584Z"
    },
    "papermill": {
     "duration": 2261.380124,
     "end_time": "2025-03-22T04:41:03.122174",
     "exception": false,
     "start_time": "2025-03-22T04:03:21.742050",
     "status": "completed"
    },
    "tags": []
   },
   "outputs": [
    {
     "name": "stdout",
     "output_type": "stream",
     "text": [
      "\n",
      "Training epoch 1\n",
      "Epoch 1/30, train Loss: 16.125758268065372\n",
      "Epoch 1/30, (val) Loss: 1.541759822819684 | Accuracy: 0.4492245199409158\n",
      "\n",
      "Training epoch 2\n",
      "Epoch 2/30, train Loss: 13.984549587055788\n",
      "Epoch 2/30, (val) Loss: 1.2947850436777681 | Accuracy: 0.5657311669128509\n",
      "\n",
      "Training epoch 3\n",
      "Epoch 3/30, train Loss: 12.687742087800624\n",
      "Epoch 3/30, (val) Loss: 1.5569886065818168 | Accuracy: 0.4950147710487445\n",
      "\n",
      "Training epoch 4\n",
      "Epoch 4/30, train Loss: 11.758934934260482\n",
      "Epoch 4/30, (val) Loss: 1.3196050750242698 | Accuracy: 0.5251107828655834\n",
      "\n",
      "Training epoch 5\n",
      "Epoch 5/30, train Loss: 11.44663749306889\n",
      "Epoch 5/30, (val) Loss: 1.1588006245123375 | Accuracy: 0.5588995568685377\n",
      "\n",
      "Training epoch 6\n",
      "Epoch 6/30, train Loss: 10.524385161319021\n",
      "Epoch 6/30, (val) Loss: 1.2074752530536137 | Accuracy: 0.6286927621861153\n",
      "\n",
      "Training epoch 7\n",
      "Epoch 7/30, train Loss: 9.956616825976614\n",
      "Epoch 7/30, (val) Loss: 1.2468237989657633 | Accuracy: 0.604135893648449\n",
      "\n",
      "Training epoch 8\n",
      "Epoch 8/30, train Loss: 10.014246916366837\n",
      "Epoch 8/30, (val) Loss: 1.214694838266115 | Accuracy: 0.6152141802067946\n",
      "\n",
      "Training epoch 9\n",
      "Epoch 9/30, train Loss: 9.445073354042183\n",
      "Epoch 9/30, (val) Loss: 1.3304876346845884 | Accuracy: 0.6482644017725259\n",
      "\n",
      "Training epoch 10\n",
      "Epoch 10/30, train Loss: 8.568182795734728\n",
      "Epoch 10/30, (val) Loss: 1.2387451610049687 | Accuracy: 0.6750369276218612\n",
      "\n",
      "Training epoch 11\n",
      "Epoch 11/30, train Loss: 7.563184804835562\n",
      "Epoch 11/30, (val) Loss: 1.1305154578105823 | Accuracy: 0.7018094534711965\n",
      "\n",
      "Training epoch 12\n",
      "Epoch 12/30, train Loss: 7.690600443694551\n",
      "Epoch 12/30, (val) Loss: 1.1390918138864878 | Accuracy: 0.6903618906942393\n",
      "\n",
      "Training epoch 13\n",
      "Epoch 13/30, train Loss: 6.858798554388144\n",
      "Epoch 13/30, (val) Loss: 1.1428143269306905 | Accuracy: 0.6947932053175776\n",
      "\n",
      "Training epoch 14\n",
      "Epoch 14/30, train Loss: 7.521802399118068\n",
      "Epoch 14/30, (val) Loss: 1.1581224766937461 | Accuracy: 0.7110413589364845\n",
      "\n",
      "Training epoch 15\n",
      "Epoch 15/30, train Loss: 7.329040842541193\n",
      "Epoch 15/30, (val) Loss: 1.1433738760046057 | Accuracy: 0.6957163958641064\n",
      "\n",
      "Training epoch 16\n",
      "Epoch 16/30, train Loss: 7.104654093920174\n",
      "Epoch 16/30, (val) Loss: 1.1229268054704409 | Accuracy: 0.7149187592319055\n",
      "\n",
      "Training epoch 17\n",
      "Epoch 17/30, train Loss: 6.3841139810570215\n",
      "Epoch 17/30, (val) Loss: 1.1591751414376337 | Accuracy: 0.7139955686853766\n",
      "\n",
      "Training epoch 18\n",
      "Epoch 18/30, train Loss: 7.176654154971494\n",
      "Epoch 18/30, (val) Loss: 1.1511547790991294 | Accuracy: 0.705317577548006\n",
      "\n",
      "Training epoch 19\n",
      "Epoch 19/30, train Loss: 7.026576303829581\n",
      "Epoch 19/30, (val) Loss: 1.1613126767648232 | Accuracy: 0.7066100443131462\n",
      "\n",
      "Training epoch 20\n",
      "Epoch 20/30, train Loss: 6.53112977642124\n",
      "Epoch 20/30, (val) Loss: 1.1410012809005943 | Accuracy: 0.7154726735598228\n",
      "\n",
      "Training epoch 21\n",
      "Epoch 21/30, train Loss: 6.385456813594042\n",
      "Epoch 21/30, (val) Loss: 1.1412987290201961 | Accuracy: 0.7141802067946824\n",
      "\n",
      "Training epoch 22\n",
      "Epoch 22/30, train Loss: 6.189787214085207\n",
      "Epoch 22/30, (val) Loss: 1.1366280526728243 | Accuracy: 0.7034711964549483\n",
      "\n",
      "Training epoch 23\n",
      "Epoch 23/30, train Loss: 6.50129943126339\n",
      "Epoch 23/30, (val) Loss: 1.149126392764014 | Accuracy: 0.7169497784342689\n",
      "\n",
      "Training epoch 24\n",
      "Epoch 24/30, train Loss: 6.71575463222245\n",
      "Epoch 24/30, (val) Loss: 1.149159088328078 | Accuracy: 0.706794682422452\n",
      "\n",
      "Training epoch 25\n",
      "Epoch 25/30, train Loss: 6.527784456640987\n",
      "Epoch 25/30, (val) Loss: 1.1538003699199573 | Accuracy: 0.71602658788774\n",
      "\n",
      "Training epoch 26\n",
      "Epoch 26/30, train Loss: 6.506320209826454\n",
      "Epoch 26/30, (val) Loss: 1.1484044129784043 | Accuracy: 0.7178729689807977\n",
      "\n",
      "Training epoch 27\n",
      "Epoch 27/30, train Loss: 6.255266106734841\n",
      "Epoch 27/30, (val) Loss: 1.156890248930132 | Accuracy: 0.7193500738552437\n",
      "\n",
      "Training epoch 28\n",
      "Epoch 28/30, train Loss: 6.0630306394423465\n",
      "Epoch 28/30, (val) Loss: 1.1578211317191254 | Accuracy: 0.7173190546528804\n",
      "\n",
      "Training epoch 29\n",
      "Epoch 29/30, train Loss: 6.017243575241606\n",
      "Epoch 29/30, (val) Loss: 1.1570512894037608 | Accuracy: 0.7151033973412112\n",
      "\n",
      "Training epoch 30\n",
      "Epoch 30/30, train Loss: 6.722282281366446\n",
      "Epoch 30/30, (val) Loss: 1.1565616211375676 | Accuracy: 0.7175036927621861\n"
     ]
    }
   ],
   "source": [
    "train_losses, val_losses, val_accuracies, best_model = trainer.train_model(verbose=0)"
   ]
  },
  {
   "cell_type": "code",
   "execution_count": 20,
   "id": "9655c600",
   "metadata": {
    "execution": {
     "iopub.execute_input": "2025-03-22T04:41:03.141244Z",
     "iopub.status.busy": "2025-03-22T04:41:03.140931Z",
     "iopub.status.idle": "2025-03-22T04:41:03.530841Z",
     "shell.execute_reply": "2025-03-22T04:41:03.529955Z"
    },
    "papermill": {
     "duration": 0.400901,
     "end_time": "2025-03-22T04:41:03.532249",
     "exception": false,
     "start_time": "2025-03-22T04:41:03.131348",
     "status": "completed"
    },
    "tags": []
   },
   "outputs": [
    {
     "data": {
      "image/png": "[encoded data removed]",
      "text/plain": [
       "<Figure size 640x480 with 1 Axes>"
      ]
     },
     "metadata": {},
     "output_type": "display_data"
    },
    {
     "data": {
      "image/png": "[encoded data removed]",
      "text/plain": [
       "<Figure size 640x480 with 1 Axes>"
      ]
     },
     "metadata": {},
     "output_type": "display_data"
    }
   ],
   "source": [
    "plotter.plot_training_val_b1(train_losses, val_losses, val_accuracies)"
   ]
  },
  {
   "cell_type": "markdown",
   "id": "32b02da7",
   "metadata": {
    "papermill": {
     "duration": 0.009548,
     "end_time": "2025-03-22T04:41:03.551829",
     "exception": false,
     "start_time": "2025-03-22T04:41:03.542281",
     "status": "completed"
    },
    "tags": []
   },
   "source": [
    "## Model Evaluation"
   ]
  },
  {
   "cell_type": "code",
   "execution_count": 21,
   "id": "8957fb98",
   "metadata": {
    "execution": {
     "iopub.execute_input": "2025-03-22T04:41:03.572287Z",
     "iopub.status.busy": "2025-03-22T04:41:03.572001Z",
     "iopub.status.idle": "2025-03-22T04:41:03.581651Z",
     "shell.execute_reply": "2025-03-22T04:41:03.580730Z"
    },
    "papermill": {
     "duration": 0.021178,
     "end_time": "2025-03-22T04:41:03.582844",
     "exception": false,
     "start_time": "2025-03-22T04:41:03.561666",
     "status": "completed"
    },
    "tags": []
   },
   "outputs": [],
   "source": [
    "class b1_ModelTester():\n",
    "    def __init__(self, model, criterion, dataloader, device):\n",
    "        self.model = model\n",
    "        self.criterion = criterion\n",
    "        self.dataloader = dataloader\n",
    "        self.DEVICE = device\n",
    "\n",
    "    def evaluate(self, verbose=0):\n",
    "        dataloader = self.dataloader\n",
    "        model = self.model\n",
    "        criterion = self.criterion\n",
    "        model.eval()\n",
    "\n",
    "        # Initialize metrics tracking\n",
    "        val_loss = 0\n",
    "        all_labels = []\n",
    "        all_predictions = []\n",
    "        all_probabilities = []\n",
    "\n",
    "        if verbose > 0:\n",
    "            dataloader = tqdm(dataloader, desc=\"Testing\")\n",
    "\n",
    "        with torch.no_grad():\n",
    "            with torch.amp.autocast('cuda'):\n",
    "                for inputs, labels in dataloader:\n",
    "                    inputs = inputs.to(self.DEVICE, non_blocking=True)\n",
    "                    labels = labels.to(self.DEVICE, non_blocking=True)\n",
    "\n",
    "                    if verbose > 2:\n",
    "                        print(f\"labels: {labels}\")\n",
    "\n",
    "                    # Forward pass\n",
    "                    logits = model(inputs)\n",
    "                    probs = F.softmax(logits, dim=1)\n",
    "\n",
    "                    if verbose > 3:\n",
    "                        print(f\"logits: {logits}\")\n",
    "                        print(f\"probs: {probs}\")\n",
    "\n",
    "                    # Calculate loss\n",
    "                    loss = criterion(logits, labels)\n",
    "                    val_loss += loss.item()\n",
    "\n",
    "                    # Get predictions\n",
    "                    predicted = torch.argmax(probs, dim=1)\n",
    "\n",
    "                    if verbose > 2:\n",
    "                        print(f\"predicted: {predicted}\")\n",
    "                        print(f\"true/false: {(predicted == labels)}\")\n",
    "\n",
    "                    # Store predictions and labels for later metric calculation\n",
    "                    all_labels.extend(labels.cpu().numpy())\n",
    "                    all_predictions.extend(predicted.cpu().numpy())\n",
    "                    all_probabilities.extend(probs.cpu().numpy())\n",
    "\n",
    "        # Calculate average loss\n",
    "        avg_loss = val_loss / len(dataloader)\n",
    "\n",
    "        # Convert lists to numpy arrays for easier manipulation\n",
    "        all_labels = np.array(all_labels)\n",
    "        all_predictions = np.array(all_predictions)\n",
    "        all_probabilities = np.array(all_probabilities)\n",
    "\n",
    "        # Calculate metrics for each class\n",
    "        num_classes = all_probabilities.shape[1]\n",
    "        metrics_dict = {\n",
    "            'accuracy': accuracy_score(all_labels, all_predictions),\n",
    "            'precision': precision_score(all_labels, all_predictions, average='macro', zero_division=0),\n",
    "            'recall': recall_score(all_labels, all_predictions, average='macro', zero_division=0),\n",
    "            'f1': f1_score(all_labels, all_predictions, average='macro', zero_division=0),\n",
    "            'per_class': {\n",
    "                'precision': precision_score(all_labels, all_predictions, average=None, zero_division=0),\n",
    "                'recall': recall_score(all_labels, all_predictions, average=None, zero_division=0),\n",
    "                'f1': f1_score(all_labels, all_predictions, average=None, zero_division=0)\n",
    "            }\n",
    "        }\n",
    "\n",
    "        # Prepare confusion matrix data\n",
    "        confusion_data = {\n",
    "            'true_labels': all_labels,\n",
    "            'predictions': all_predictions,\n",
    "            'probabilities': all_probabilities,\n",
    "            'num_classes': num_classes\n",
    "        }\n",
    "\n",
    "        return avg_loss, metrics_dict, confusion_data"
   ]
  },
  {
   "cell_type": "code",
   "execution_count": 22,
   "id": "cd48037c",
   "metadata": {
    "execution": {
     "iopub.execute_input": "2025-03-22T04:41:03.602767Z",
     "iopub.status.busy": "2025-03-22T04:41:03.602549Z",
     "iopub.status.idle": "2025-03-22T04:41:03.605720Z",
     "shell.execute_reply": "2025-03-22T04:41:03.605081Z"
    },
    "papermill": {
     "duration": 0.014348,
     "end_time": "2025-03-22T04:41:03.606940",
     "exception": false,
     "start_time": "2025-03-22T04:41:03.592592",
     "status": "completed"
    },
    "tags": []
   },
   "outputs": [],
   "source": [
    "tester = b1_ModelTester(best_model, criterion, test_loader, device)\n",
    "tester_ds = b1_ModelTester(best_model, criterion, test_loader_ds, device)"
   ]
  },
  {
   "cell_type": "code",
   "execution_count": 23,
   "id": "0cfa4d21",
   "metadata": {
    "execution": {
     "iopub.execute_input": "2025-03-22T04:41:03.627061Z",
     "iopub.status.busy": "2025-03-22T04:41:03.626863Z",
     "iopub.status.idle": "2025-03-22T04:42:14.514067Z",
     "shell.execute_reply": "2025-03-22T04:42:14.513017Z"
    },
    "papermill": {
     "duration": 70.899173,
     "end_time": "2025-03-22T04:42:14.515790",
     "exception": false,
     "start_time": "2025-03-22T04:41:03.616617",
     "status": "completed"
    },
    "tags": []
   },
   "outputs": [],
   "source": [
    "loss, metrics, confusion_data = tester.evaluate(verbose=0)"
   ]
  },
  {
   "cell_type": "code",
   "execution_count": 24,
   "id": "ac893a3d",
   "metadata": {
    "execution": {
     "iopub.execute_input": "2025-03-22T04:42:14.580945Z",
     "iopub.status.busy": "2025-03-22T04:42:14.580607Z",
     "iopub.status.idle": "2025-03-22T04:42:14.946855Z",
     "shell.execute_reply": "2025-03-22T04:42:14.945956Z"
    },
    "papermill": {
     "duration": 0.378126,
     "end_time": "2025-03-22T04:42:14.948136",
     "exception": false,
     "start_time": "2025-03-22T04:42:14.570010",
     "status": "completed"
    },
    "tags": []
   },
   "outputs": [
    {
     "name": "stdout",
     "output_type": "stream",
     "text": [
      "Loss: 1.3136\n",
      "Accuracy: 0.5663\n",
      "Precision: 0.4986\n",
      "Recall: 0.6911\n",
      "F1 Score: 0.5456\n"
     ]
    },
    {
     "data": {
      "image/png": "[encoded data removed]",
      "text/plain": [
       "<Figure size 1000x800 with 2 Axes>"
      ]
     },
     "metadata": {},
     "output_type": "display_data"
    }
   ],
   "source": [
    "plotter.plot_test_b1(loss, metrics, confusion_data)"
   ]
  },
  {
   "cell_type": "code",
   "execution_count": 25,
   "id": "7b7dcb2e",
   "metadata": {
    "execution": {
     "iopub.execute_input": "2025-03-22T04:42:14.970982Z",
     "iopub.status.busy": "2025-03-22T04:42:14.970737Z",
     "iopub.status.idle": "2025-03-22T04:42:40.023796Z",
     "shell.execute_reply": "2025-03-22T04:42:40.022644Z"
    },
    "papermill": {
     "duration": 25.066167,
     "end_time": "2025-03-22T04:42:40.025571",
     "exception": false,
     "start_time": "2025-03-22T04:42:14.959404",
     "status": "completed"
    },
    "tags": []
   },
   "outputs": [],
   "source": [
    "loss, metrics, confusion_data = tester_ds.evaluate(verbose=0)"
   ]
  },
  {
   "cell_type": "code",
   "execution_count": 26,
   "id": "5cf9f6a0",
   "metadata": {
    "execution": {
     "iopub.execute_input": "2025-03-22T04:42:40.048702Z",
     "iopub.status.busy": "2025-03-22T04:42:40.048430Z",
     "iopub.status.idle": "2025-03-22T04:42:40.403715Z",
     "shell.execute_reply": "2025-03-22T04:42:40.402966Z"
    },
    "papermill": {
     "duration": 0.368308,
     "end_time": "2025-03-22T04:42:40.405137",
     "exception": false,
     "start_time": "2025-03-22T04:42:40.036829",
     "status": "completed"
    },
    "tags": []
   },
   "outputs": [
    {
     "name": "stdout",
     "output_type": "stream",
     "text": [
      "Loss: 0.9898\n",
      "Accuracy: 0.7496\n",
      "Precision: 0.7047\n",
      "Recall: 0.6909\n",
      "F1 Score: 0.6935\n"
     ]
    },
    {
     "data": {
      "image/png": "[encoded data removed]",
      "text/plain": [
       "<Figure size 1000x800 with 2 Axes>"
      ]
     },
     "metadata": {},
     "output_type": "display_data"
    }
   ],
   "source": [
    "plotter.plot_test_b1(loss, metrics, confusion_data)"
   ]
  }
 ],
 "metadata": {
  "kaggle": {
   "accelerator": "gpu",
   "dataSources": [
    {
     "datasetId": 5561212,
     "sourceId": 9198495,
     "sourceType": "datasetVersion"
    },
    {
     "isSourceIdPinned": true,
     "modelId": 237157,
     "modelInstanceId": 215451,
     "sourceId": 252011,
     "sourceType": "modelInstanceVersion"
    }
   ],
   "dockerImageVersionId": 30919,
   "isGpuEnabled": true,
   "isInternetEnabled": true,
   "language": "python",
   "sourceType": "notebook"
  },
  "kernelspec": {
   "display_name": "Python 3",
   "language": "python",
   "name": "python3"
  },
  "language_info": {
   "codemirror_mode": {
    "name": "ipython",
    "version": 3
   },
   "file_extension": ".py",
   "mimetype": "text/x-python",
   "name": "python",
   "nbconvert_exporter": "python",
   "pygments_lexer": "ipython3",
   "version": "3.10.12"
  },
  "papermill": {
   "default_parameters": {},
   "duration": 2421.915027,
   "end_time": "2025-03-22T04:42:42.341372",
   "environment_variables": {},
   "exception": null,
   "input_path": "__notebook__.ipynb",
   "output_path": "__notebook__.ipynb",
   "parameters": {},
   "start_time": "2025-03-22T04:02:20.426345",
   "version": "2.6.0"
  }
 },
 "nbformat": 4,
 "nbformat_minor": 5
}
