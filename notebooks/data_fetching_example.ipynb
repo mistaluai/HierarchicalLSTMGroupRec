{
  "cells": [
    {
      "cell_type": "markdown",
      "metadata": {
        "id": "view-in-github",
        "colab_type": "text"
      },
      "source": [
        "<a href=\"https://colab.research.google.com/github/mistaluai/HierarchicalLSTMGroupRec/blob/main/notebooks/data_fetching_example.ipynb\" target=\"_parent\"><img src=\"https://colab.research.google.com/assets/colab-badge.svg\" alt=\"Open In Colab\"/></a>"
      ]
    },
    {
      "cell_type": "code",
      "execution_count": null,
      "metadata": {
        "id": "FRHuQaNIfk7E"
      },
      "outputs": [],
      "source": [
        "import os\n",
        "import gdown\n",
        "import zipfile"
      ]
    },
    {
      "cell_type": "code",
      "execution_count": 23,
      "metadata": {
        "id": "zVOkg7It-1NV"
      },
      "outputs": [],
      "source": [
        "class DataFetcher:\n",
        "    \"\"\"\n",
        "    A class to download and extract ZIP files from Google Drive.\n",
        "\n",
        "    Attributes:\n",
        "    -----------\n",
        "    output_dir : str\n",
        "        Directory where downloaded and extracted files will be stored.\n",
        "    filename : str\n",
        "        Name of the ZIP file.\n",
        "    file_id : str\n",
        "        Google Drive file ID for downloading.\n",
        "    zip_path : str\n",
        "        Full path to the downloaded ZIP file.\n",
        "    extract_path : str\n",
        "        Full path to the extracted contents.\n",
        "    \"\"\"\n",
        "\n",
        "    def __init__(self, output_dir='data'):\n",
        "        \"\"\"\n",
        "        Initializes the DataFetcher with output directory, filename, and Google Drive file ID.\n",
        "\n",
        "        Parameters:\n",
        "        -----------\n",
        "        output_dir : str, optional\n",
        "            Directory where data will be stored (default is 'data').\n",
        "        filename : str\n",
        "            The name of the ZIP file to be downloaded and extracted.\n",
        "        file_id : str\n",
        "            The Google Drive file ID of the ZIP file.\n",
        "        \"\"\"\n",
        "        self.output_dir = output_dir\n",
        "        os.makedirs(self.output_dir, exist_ok=True)\n",
        "\n",
        "    def __download(self, file_id, zip_path):\n",
        "        \"\"\"\n",
        "        Downloads the ZIP file from Google Drive using gdown.\n",
        "        \"\"\"\n",
        "        url = f\"https://drive.google.com/uc?id={file_id}\"\n",
        "        gdown.download(url, zip_path, quiet=False)\n",
        "\n",
        "    def __extract(self, zip_path, extract_path):\n",
        "        \"\"\"\n",
        "        Extracts the downloaded ZIP file to the specified directory.\n",
        "        \"\"\"\n",
        "        os.makedirs(extract_path, exist_ok=True)\n",
        "        with zipfile.ZipFile(zip_path, 'r') as zip_ref:\n",
        "            zip_ref.extractall(extract_path)\n",
        "        print(f\"Extracted to {extract_path}\")\n",
        "\n",
        "    def __cleanup(self, zip_path):\n",
        "        \"\"\"\n",
        "        Deletes the ZIP file after extraction.\n",
        "        \"\"\"\n",
        "        if os.path.exists(zip_path):\n",
        "            os.remove(zip_path)\n",
        "            print(f\"Deleted ZIP file: {zip_path}\")\n",
        "\n",
        "    def __download_and_extract(self, filename, file_id):\n",
        "        \"\"\"\n",
        "        Downloads and extracts the specified ZIP file.\n",
        "        Returns:\n",
        "        --------\n",
        "        str\n",
        "            Path to the extracted directory.\n",
        "        \"\"\"\n",
        "        zip_file = os.path.join(self.output_dir, filename)\n",
        "        extract_path = os.path.join(self.output_dir, filename.replace(\".zip\", \"\"))\n",
        "\n",
        "        self.__download(file_id, zip_file)\n",
        "        self.__extract(zip_file, extract_path)\n",
        "        self.__cleanup(zip_file)\n",
        "        return extract_path\n",
        "\n",
        "    def fetch_data(self, files):\n",
        "        \"\"\"\n",
        "        Public method to initiate the download and extraction process.\n",
        "\n",
        "        Returns:\n",
        "        --------\n",
        "        str\n",
        "            Path to the extracted directory.\n",
        "        \"\"\"\n",
        "        files_path = []\n",
        "        for filename, file_id in files.items():\n",
        "            files_path.append(self.__download_and_extract(filename, file_id))\n",
        "\n",
        "        return files_path\n"
      ]
    },
    {
      "cell_type": "code",
      "execution_count": null,
      "metadata": {
        "id": "TP9fimIEfoNZ"
      },
      "outputs": [],
      "source": [
        "files = {\n",
        "    '1.zip':'1wFIUNjnK0tUV_DWRs0vARn3ygRqNaKG8',\n",
        "    '2.zip':'1j7U9Vn7Z6lyegdKwEm4mLL_zBmJ7sE0Z',\n",
        "    '3.zip':'1qNpZA-ZdEIW70t1X-D0Dhmm_IcLDB6Zv'\n",
        "}\n",
        "fetcher = DataFetcher(output_dir='new_data_cleaned')\n",
        "print(fetcher.fetch_data(files))"
      ]
    }
  ],
  "metadata": {
    "colab": {
      "provenance": [],
      "authorship_tag": "ABX9TyPZmATZR26Lp548KIOsk08w",
      "include_colab_link": true
    },
    "kernelspec": {
      "display_name": "Python 3",
      "name": "python3"
    },
    "language_info": {
      "name": "python"
    }
  },
  "nbformat": 4,
  "nbformat_minor": 0
}